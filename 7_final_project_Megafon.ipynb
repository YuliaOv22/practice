{
 "cells": [
  {
   "cell_type": "markdown",
   "metadata": {
    "id": "SaZ2DNd0NfNB"
   },
   "source": [
    "## **Задача**\n",
    "\n",
    "Построить  алгоритм, который для каждой пары пользователь-услуга определит вероятность подключения услуги.\n",
    "\n",
    "## **Данные**\n",
    "\n",
    "1. Информация об отклике абонентов на предложение подключения одной из услуг. Каждому пользователю может быть сделано несколько предложений в разное время, каждое из которых он может или принять, или отклонить.\n",
    "2. Нормализованный анонимизированный набор признаков, характеризующий профиль потребления абонента. Эти данные привязаны к определенному времени, поскольку профиль абонента может меняться с течением времени.\n",
    "\n",
    "Данные train и test разбиты по периодам — на train доступно 4 месяца, а на test отложен последующий месяц. \n",
    "\n",
    "TRAIN DATA:\n",
    "\n",
    "+ data_train.csv: id, vas_id, buy_time, target.\n",
    "+ features.csv.zip: id, feature_list.\n",
    "\n",
    "TEST DATA:\n",
    "+ data_test.csv: id, vas_id, buy_time.\n",
    "\n",
    "FEATURES:\n",
    "\n",
    "+ **target** — целевая переменная, где 1 означает подключение услуги, 0 - абонент не подключил услугу соответственно. \n",
    "+ **buy_time** — время покупки, представлено в формате timestamp.\n",
    "+ **id** — идентификатор абонента.\n",
    "+ **vas_id** — подключаемая услуга.\n",
    "\n",
    "## **Метрика**\n",
    "Функция **f1**, невзвешенным образом, как например делает функция sklearn.metrics.f1_score(…, average=’macro’)."
   ]
  },
  {
   "cell_type": "code",
   "execution_count": 4,
   "metadata": {
    "id": "Y-kP89pCVkCe"
   },
   "outputs": [],
   "source": [
    "# Подключим библиотеки\n",
    "import pandas as pd\n",
    "import numpy as np\n",
    "import sklearn\n",
    "import datetime\n",
    "import itertools\n",
    "# import dask.dataframe as dd\n",
    "from matplotlib import pyplot as plt\n",
    "from sklearn.model_selection import train_test_split, KFold, cross_validate, GridSearchCV\n",
    "from sklearn.linear_model import LogisticRegression\n",
    "from sklearn.ensemble import GradientBoostingClassifier, RandomForestClassifier\n",
    "from sklearn.pipeline import Pipeline, FeatureUnion, make_pipeline\n",
    "from sklearn.metrics import precision_recall_curve, roc_curve, auc, confusion_matrix, classification_report\n",
    "from sklearn.base import BaseEstimator, TransformerMixin\n",
    "from sklearn.preprocessing import StandardScaler, OneHotEncoder\n",
    "from sklearn.feature_selection import SelectFromModel\n",
    "from sklearn.decomposition import TruncatedSVD\n",
    "from sklearn.compose import ColumnTransformer\n",
    "from collections import Counter\n",
    "from imblearn.under_sampling import RandomUnderSampler\n",
    "import lightgbm as lgb\n",
    "import pickle\n",
    "import warnings\n",
    "warnings.filterwarnings('ignore')\n",
    "%matplotlib inline\n",
    "\n",
    "# Зафиксируем значение random_state для воспроизводимости результатов\n",
    "RANDOM_STATE = 42"
   ]
  },
  {
   "cell_type": "markdown",
   "metadata": {
    "id": "OGKbrV6AAPnM"
   },
   "source": [
    "##### **Вспомогательные функции и классы**"
   ]
  },
  {
   "cell_type": "code",
   "execution_count": 13,
   "metadata": {
    "id": "vNOZH91TgNpa"
   },
   "outputs": [],
   "source": [
    "# Функция для уменьшения используемой памяти данными\n",
    "def reduce_mem_usage(df):\n",
    "    \"\"\" iterate through all the columns of a dataframe and modify the data type\n",
    "        to reduce memory usage.        \n",
    "    \"\"\"\n",
    "    start_mem = df.memory_usage().sum() / 1024**2\n",
    "    print('Memory usage of dataframe is {:.2f} MB'.format(start_mem))\n",
    "    \n",
    "    for col in df.columns:\n",
    "        col_type = df[col].dtype\n",
    "        \n",
    "        if col_type != object:\n",
    "            c_min = df[col].min()\n",
    "            c_max = df[col].max()\n",
    "            if str(col_type)[:3] == 'int':\n",
    "                if c_min > np.iinfo(np.int8).min and c_max < np.iinfo(np.int8).max:\n",
    "                    df[col] = df[col].astype(np.int8)\n",
    "                elif c_min > np.iinfo(np.int16).min and c_max < np.iinfo(np.int16).max:\n",
    "                    df[col] = df[col].astype(np.int16)\n",
    "                elif c_min > np.iinfo(np.int32).min and c_max < np.iinfo(np.int32).max:\n",
    "                    df[col] = df[col].astype(np.int32)\n",
    "                elif c_min > np.iinfo(np.int64).min and c_max < np.iinfo(np.int64).max:\n",
    "                    df[col] = df[col].astype(np.int64)  \n",
    "            else:\n",
    "                if c_min > np.finfo(np.float32).min and c_max < np.finfo(np.float32).max:\n",
    "                    df[col] = df[col].astype(np.float32)\n",
    "                else:\n",
    "                    df[col] = df[col].astype(np.float64)\n",
    "        else:\n",
    "            df[col] = df[col].astype('category')\n",
    "\n",
    "    end_mem = df.memory_usage().sum() / 1024**2\n",
    "    print('Memory usage after optimization is: {:.2f} MB'.format(end_mem))\n",
    "    print('Decreased by {:.1f}%'.format(100 * (start_mem - end_mem) / start_mem))\n",
    "    \n",
    "    return df\n",
    "  \n",
    "\n",
    "# Функция для вычисления результата кросс-валидации\n",
    "def run_cv(estimator, cv, X, y, scoring='f1_macro', model_name=''):\n",
    "    cv_result = cross_validate(estimator, X, y, cv=cv, scoring=scoring)\n",
    "    \n",
    "    print('%s: %s = %0.2f (+/- %0.2f)' % (model_name,\n",
    "                                         scoring,\n",
    "                                         cv_result['test_score'].mean(),\n",
    "                                         cv_result['test_score'].std() * 2))\n",
    "    \n",
    "\n",
    "# Функция для построения графика ROC кривой\n",
    "def plot_roc_curve(fpr, tpr, model_name='', color=None):\n",
    "    plt.plot(fpr, tpr, label='%s: ROC curve (area = %0.2f)' %\n",
    "             (model_name, auc(fpr, tpr)), color=color)\n",
    "    plt.plot([0, 1], [0, 1], 'k--')\n",
    "    plt.axis([0.0, 1.0, 0.0, 1.05])\n",
    "    plt.xlabel('False Positive Rate')\n",
    "    plt.ylabel('True Positive Rate')\n",
    "    plt.title('%s: Receiver operating characteristic curve' % model_name)\n",
    "    plt.legend(loc='lower right')\n",
    "\n",
    "\n",
    "# Функция для построения графика PR кривой\n",
    "def plot_precision_recall_curve(recall, precision, model_name='', color=None):\n",
    "    plt.plot(recall, precision, label='%s: Precision-Recall curve (area = %0.2f)' %\n",
    "             (model_name, auc(recall, precision)), color=color)\n",
    "    plt.xlabel('Recall')\n",
    "    plt.ylabel('Precision')\n",
    "    plt.title('%s: Precision-Recall curve' % model_name)\n",
    "    plt.axis([0.0, 1.0, 0.0, 1.05])\n",
    "    plt.legend(loc='lower left')\n",
    "\n",
    "\n",
    "# Функция для построения графика Матрицы смежности\n",
    "def plot_confusion_matrix(cm, classes,\n",
    "                          model_name=\"\",\n",
    "                          normalize=False,\n",
    "                          cmap=plt.cm.Blues):\n",
    "    \"\"\"\n",
    "    This function prints and plots the confusion matrix.\n",
    "    Normalization can be applied by setting `normalize=True`.\n",
    "    \"\"\"\n",
    "    if normalize:\n",
    "        cm = cm.astype('float') / cm.sum(axis=1)[:, np.newaxis]\n",
    "        print('Normalized confusion matrix')\n",
    "    else:\n",
    "        print('Confusion matrix, without normalization')\n",
    "\n",
    "    print(cm)\n",
    "\n",
    "    plt.imshow(cm, interpolation='nearest',  cmap=cmap)\n",
    "    \n",
    "    plt.grid(False)\n",
    "    plt.title('%s: confusion matrix' % model_name)\n",
    "    tick_marks = np.arange(len(classes))\n",
    "    plt.xticks(tick_marks, classes, rotation=45)\n",
    "    plt.yticks(tick_marks, classes)\n",
    "\n",
    "    fmt = '.2f' if normalize else 'd'\n",
    "    thresh = cm.max() / 2.\n",
    "    for i, j in itertools.product(range(cm.shape[0]), range(cm.shape[1])):\n",
    "        plt.text(j, i, format(cm[i, j], fmt),\n",
    "                 horizontalalignment='center',\n",
    "                 color=\"white\" if cm[i, j] > thresh else 'black')\n",
    "\n",
    "    plt.ylabel('True label')\n",
    "    plt.xlabel('Predicted label')\n",
    "    plt.tight_layout()\n",
    "\n",
    "\n",
    "# Функция для поиска параметров по сетке\n",
    "def run_grid_search(estimator, X, y, params_grid, cv, scoring='f1_macro'):\n",
    "    gsc = GridSearchCV(estimator, params_grid, scoring=scoring, cv=cv, n_jobs=-1)\n",
    "\n",
    "    gsc.fit(X, y)\n",
    "    print('Best %s score: %.2f' % (scoring, gsc.best_score_))\n",
    "    print()\n",
    "    print('Best parameters set found on development set:')\n",
    "    print()\n",
    "    print(gsc.best_params_)\n",
    "    print()\n",
    "    print('Grid scores on development set:')\n",
    "    print()\n",
    "\n",
    "    for i, params in enumerate(gsc.cv_results_['params']):\n",
    "        print('%0.3f (+/-%0.03f) for %r'\n",
    "              % (gsc.cv_results_['mean_test_score'][i], gsc.cv_results_['std_test_score'][i] * 2, params))\n",
    "\n",
    "    print()\n",
    "    \n",
    "    return gsc\n",
    "\n",
    "  \n",
    "# Функция для обучения модели и построения отчета по предсказаниям\n",
    "def model_report(X_train, y_train, X_test, pipeline_name):\n",
    "    model_final = pipeline_name\n",
    "    model_final.fit(X_train, y_train)\n",
    "    y_pred = model_final.predict_proba(X_test)[:,1]\n",
    "\n",
    "    return y_pred"
   ]
  },
  {
   "cell_type": "code",
   "execution_count": 14,
   "metadata": {
    "id": "IbZRe7Oz-DZv"
   },
   "outputs": [],
   "source": [
    "# Класс Трансформер для выделения колонок\n",
    "class ColumnSelector(BaseEstimator, TransformerMixin):\n",
    "    def __init__(self, columns):\n",
    "        self.columns = columns\n",
    "\n",
    "    def fit(self, X, y=None):\n",
    "        return self\n",
    "    \n",
    "    def transform(self, X):\n",
    "        assert isinstance(X, pd.DataFrame)\n",
    "\n",
    "        try:\n",
    "            return X[self.columns]\n",
    "        except KeyError:\n",
    "            cols_error = list(set(self.columns) - set(X.columns))\n",
    "            raise KeyError('DataFrame не содержит следующие колонки: %s' % cols_error)"
   ]
  },
  {
   "cell_type": "markdown",
   "metadata": {
    "id": "FkU2QTrDuosR"
   },
   "source": [
    "## **Загрузим данные**"
   ]
  },
  {
   "cell_type": "code",
   "execution_count": 5,
   "metadata": {
    "id": "lqDBFLWTXHEi"
   },
   "outputs": [],
   "source": [
    "# Создадим переменные путей\n",
    "PATH_DATA_TRAIN = 'data_train.csv'\n",
    "PATH_DATA_TEST = 'data_test.csv'\n",
    "# PATH_FEATURES = 'features.csv'\n",
    "# PATH_TRAIN_FEATURES = 'id_features.csv'\n",
    "PATH_TRAIN_MERGE_FEATURES = 'train_merge_features.csv'"
   ]
  },
  {
   "cell_type": "code",
   "execution_count": 6,
   "metadata": {
    "colab": {
     "base_uri": "https://localhost:8080/"
    },
    "id": "Y5KqSDiWWiVF",
    "outputId": "4c46a91b-c53f-4f71-fdc5-ad4ebdd1d177"
   },
   "outputs": [
    {
     "data": {
      "text/plain": [
       "((831653, 4), (71231, 3))"
      ]
     },
     "execution_count": 6,
     "metadata": {},
     "output_type": "execute_result"
    }
   ],
   "source": [
    "# Прочитаем данные\n",
    "data_train = pd.read_csv(PATH_DATA_TRAIN).drop('Unnamed: 0', axis=1)\n",
    "data_test = pd.read_csv(PATH_DATA_TEST).drop('Unnamed: 0', axis=1)\n",
    "data_train.shape, data_test.shape"
   ]
  },
  {
   "cell_type": "code",
   "execution_count": 7,
   "metadata": {
    "colab": {
     "base_uri": "https://localhost:8080/"
    },
    "id": "eumfqEgqNfOF",
    "outputId": "efadfbab-4af4-49bc-e237-444b32c38e1b"
   },
   "outputs": [
    {
     "name": "stdout",
     "output_type": "stream",
     "text": [
      "<class 'pandas.core.frame.DataFrame'>\n",
      "RangeIndex: 831653 entries, 0 to 831652\n",
      "Data columns (total 4 columns):\n",
      " #   Column    Non-Null Count   Dtype  \n",
      "---  ------    --------------   -----  \n",
      " 0   id        831653 non-null  int64  \n",
      " 1   vas_id    831653 non-null  float64\n",
      " 2   buy_time  831653 non-null  int64  \n",
      " 3   target    831653 non-null  float64\n",
      "dtypes: float64(2), int64(2)\n",
      "memory usage: 25.4 MB\n"
     ]
    }
   ],
   "source": [
    "data_train.info()"
   ]
  },
  {
   "cell_type": "code",
   "execution_count": 8,
   "metadata": {
    "id": "ku9KWRHTNfN5"
   },
   "outputs": [],
   "source": [
    "# Изменим формат даты\n",
    "data_train['buy_time'] = pd.to_datetime(data_train['buy_time'], unit='s')"
   ]
  },
  {
   "cell_type": "code",
   "execution_count": 9,
   "metadata": {
    "colab": {
     "base_uri": "https://localhost:8080/",
     "height": 206
    },
    "id": "tC_fQS_JWnwg",
    "outputId": "38f21029-df46-4a6e-f8bc-95c8fc475982"
   },
   "outputs": [
    {
     "data": {
      "text/html": [
       "\n",
       "  <div id=\"df-179f30f2-da83-4cda-9060-710a50c71a9a\">\n",
       "    <div class=\"colab-df-container\">\n",
       "      <div>\n",
       "<style scoped>\n",
       "    .dataframe tbody tr th:only-of-type {\n",
       "        vertical-align: middle;\n",
       "    }\n",
       "\n",
       "    .dataframe tbody tr th {\n",
       "        vertical-align: top;\n",
       "    }\n",
       "\n",
       "    .dataframe thead th {\n",
       "        text-align: right;\n",
       "    }\n",
       "</style>\n",
       "<table border=\"1\" class=\"dataframe\">\n",
       "  <thead>\n",
       "    <tr style=\"text-align: right;\">\n",
       "      <th></th>\n",
       "      <th>id</th>\n",
       "      <th>vas_id</th>\n",
       "      <th>buy_time</th>\n",
       "      <th>target</th>\n",
       "    </tr>\n",
       "  </thead>\n",
       "  <tbody>\n",
       "    <tr>\n",
       "      <th>0</th>\n",
       "      <td>540968</td>\n",
       "      <td>8.0</td>\n",
       "      <td>2018-09-16 21:00:00</td>\n",
       "      <td>0.0</td>\n",
       "    </tr>\n",
       "    <tr>\n",
       "      <th>1</th>\n",
       "      <td>1454121</td>\n",
       "      <td>4.0</td>\n",
       "      <td>2018-07-15 21:00:00</td>\n",
       "      <td>0.0</td>\n",
       "    </tr>\n",
       "    <tr>\n",
       "      <th>2</th>\n",
       "      <td>2458816</td>\n",
       "      <td>1.0</td>\n",
       "      <td>2018-08-12 21:00:00</td>\n",
       "      <td>0.0</td>\n",
       "    </tr>\n",
       "    <tr>\n",
       "      <th>3</th>\n",
       "      <td>3535012</td>\n",
       "      <td>5.0</td>\n",
       "      <td>2018-09-02 21:00:00</td>\n",
       "      <td>0.0</td>\n",
       "    </tr>\n",
       "    <tr>\n",
       "      <th>4</th>\n",
       "      <td>1693214</td>\n",
       "      <td>1.0</td>\n",
       "      <td>2018-09-02 21:00:00</td>\n",
       "      <td>0.0</td>\n",
       "    </tr>\n",
       "  </tbody>\n",
       "</table>\n",
       "</div>\n",
       "      <button class=\"colab-df-convert\" onclick=\"convertToInteractive('df-179f30f2-da83-4cda-9060-710a50c71a9a')\"\n",
       "              title=\"Convert this dataframe to an interactive table.\"\n",
       "              style=\"display:none;\">\n",
       "        \n",
       "  <svg xmlns=\"http://www.w3.org/2000/svg\" height=\"24px\"viewBox=\"0 0 24 24\"\n",
       "       width=\"24px\">\n",
       "    <path d=\"M0 0h24v24H0V0z\" fill=\"none\"/>\n",
       "    <path d=\"M18.56 5.44l.94 2.06.94-2.06 2.06-.94-2.06-.94-.94-2.06-.94 2.06-2.06.94zm-11 1L8.5 8.5l.94-2.06 2.06-.94-2.06-.94L8.5 2.5l-.94 2.06-2.06.94zm10 10l.94 2.06.94-2.06 2.06-.94-2.06-.94-.94-2.06-.94 2.06-2.06.94z\"/><path d=\"M17.41 7.96l-1.37-1.37c-.4-.4-.92-.59-1.43-.59-.52 0-1.04.2-1.43.59L10.3 9.45l-7.72 7.72c-.78.78-.78 2.05 0 2.83L4 21.41c.39.39.9.59 1.41.59.51 0 1.02-.2 1.41-.59l7.78-7.78 2.81-2.81c.8-.78.8-2.07 0-2.86zM5.41 20L4 18.59l7.72-7.72 1.47 1.35L5.41 20z\"/>\n",
       "  </svg>\n",
       "      </button>\n",
       "      \n",
       "  <style>\n",
       "    .colab-df-container {\n",
       "      display:flex;\n",
       "      flex-wrap:wrap;\n",
       "      gap: 12px;\n",
       "    }\n",
       "\n",
       "    .colab-df-convert {\n",
       "      background-color: #E8F0FE;\n",
       "      border: none;\n",
       "      border-radius: 50%;\n",
       "      cursor: pointer;\n",
       "      display: none;\n",
       "      fill: #1967D2;\n",
       "      height: 32px;\n",
       "      padding: 0 0 0 0;\n",
       "      width: 32px;\n",
       "    }\n",
       "\n",
       "    .colab-df-convert:hover {\n",
       "      background-color: #E2EBFA;\n",
       "      box-shadow: 0px 1px 2px rgba(60, 64, 67, 0.3), 0px 1px 3px 1px rgba(60, 64, 67, 0.15);\n",
       "      fill: #174EA6;\n",
       "    }\n",
       "\n",
       "    [theme=dark] .colab-df-convert {\n",
       "      background-color: #3B4455;\n",
       "      fill: #D2E3FC;\n",
       "    }\n",
       "\n",
       "    [theme=dark] .colab-df-convert:hover {\n",
       "      background-color: #434B5C;\n",
       "      box-shadow: 0px 1px 3px 1px rgba(0, 0, 0, 0.15);\n",
       "      filter: drop-shadow(0px 1px 2px rgba(0, 0, 0, 0.3));\n",
       "      fill: #FFFFFF;\n",
       "    }\n",
       "  </style>\n",
       "\n",
       "      <script>\n",
       "        const buttonEl =\n",
       "          document.querySelector('#df-179f30f2-da83-4cda-9060-710a50c71a9a button.colab-df-convert');\n",
       "        buttonEl.style.display =\n",
       "          google.colab.kernel.accessAllowed ? 'block' : 'none';\n",
       "\n",
       "        async function convertToInteractive(key) {\n",
       "          const element = document.querySelector('#df-179f30f2-da83-4cda-9060-710a50c71a9a');\n",
       "          const dataTable =\n",
       "            await google.colab.kernel.invokeFunction('convertToInteractive',\n",
       "                                                     [key], {});\n",
       "          if (!dataTable) return;\n",
       "\n",
       "          const docLinkHtml = 'Like what you see? Visit the ' +\n",
       "            '<a target=\"_blank\" href=https://colab.research.google.com/notebooks/data_table.ipynb>data table notebook</a>'\n",
       "            + ' to learn more about interactive tables.';\n",
       "          element.innerHTML = '';\n",
       "          dataTable['output_type'] = 'display_data';\n",
       "          await google.colab.output.renderOutput(dataTable, element);\n",
       "          const docLink = document.createElement('div');\n",
       "          docLink.innerHTML = docLinkHtml;\n",
       "          element.appendChild(docLink);\n",
       "        }\n",
       "      </script>\n",
       "    </div>\n",
       "  </div>\n",
       "  "
      ],
      "text/plain": [
       "        id  vas_id            buy_time  target\n",
       "0   540968     8.0 2018-09-16 21:00:00     0.0\n",
       "1  1454121     4.0 2018-07-15 21:00:00     0.0\n",
       "2  2458816     1.0 2018-08-12 21:00:00     0.0\n",
       "3  3535012     5.0 2018-09-02 21:00:00     0.0\n",
       "4  1693214     1.0 2018-09-02 21:00:00     0.0"
      ]
     },
     "execution_count": 9,
     "metadata": {},
     "output_type": "execute_result"
    }
   ],
   "source": [
    "data_train.head()"
   ]
  },
  {
   "cell_type": "code",
   "execution_count": 7,
   "metadata": {},
   "outputs": [
    {
     "name": "stdout",
     "output_type": "stream",
     "text": [
      "<class 'pandas.core.frame.DataFrame'>\n",
      "RangeIndex: 71231 entries, 0 to 71230\n",
      "Data columns (total 3 columns):\n",
      " #   Column    Non-Null Count  Dtype  \n",
      "---  ------    --------------  -----  \n",
      " 0   id        71231 non-null  int64  \n",
      " 1   vas_id    71231 non-null  float64\n",
      " 2   buy_time  71231 non-null  int64  \n",
      "dtypes: float64(1), int64(2)\n",
      "memory usage: 1.6 MB\n"
     ]
    }
   ],
   "source": [
    "data_test.info()"
   ]
  },
  {
   "cell_type": "code",
   "execution_count": null,
   "metadata": {
    "id": "GCF-V0n2NfOb"
   },
   "outputs": [],
   "source": [
    "# # Прочитаем данные признаков\n",
    "# data_features = dd.read_csv(PATH_FEATURES, sep='\\t')"
   ]
  },
  {
   "cell_type": "code",
   "execution_count": null,
   "metadata": {
    "id": "fYTufsRkNfOd"
   },
   "outputs": [],
   "source": [
    "# data_features.head()"
   ]
  },
  {
   "cell_type": "code",
   "execution_count": null,
   "metadata": {
    "id": "0i4gaTVzNfOe"
   },
   "outputs": [],
   "source": [
    "# %%time\n",
    "# # Выберем признаки по id\n",
    "# id_features = data_features[data_features['id'].isin(data_train['id']) == True].compute()\n",
    "# id_features = id_features.drop('Unnamed: 0', axis=1)"
   ]
  },
  {
   "cell_type": "code",
   "execution_count": null,
   "metadata": {
    "id": "kIw3ZTJXNfOh"
   },
   "outputs": [],
   "source": [
    "# %%time\n",
    "# # Сохраним выборку\n",
    "# id_features.to_csv('PATH_TRAIN_FEATURES')"
   ]
  },
  {
   "cell_type": "code",
   "execution_count": null,
   "metadata": {
    "id": "q3DnBA3gNfOj",
    "scrolled": true
   },
   "outputs": [],
   "source": [
    "# # Считаем файл с отобранными признаками\n",
    "# id_features = pd.read_csv(PATH_TRAIN_FEATURES).drop('Unnamed: 0', axis=1)\n",
    "# id_features['buy_time'] = pd.to_datetime(id_features['buy_time'])"
   ]
  },
  {
   "cell_type": "code",
   "execution_count": null,
   "metadata": {
    "id": "BDfn2IGdu95l"
   },
   "outputs": [],
   "source": [
    "# id_features.head()"
   ]
  },
  {
   "cell_type": "code",
   "execution_count": null,
   "metadata": {
    "id": "8YsK-rqeVWV7"
   },
   "outputs": [],
   "source": [
    "# id_features.info()"
   ]
  },
  {
   "cell_type": "code",
   "execution_count": null,
   "metadata": {
    "id": "v1vshcTn2UM5"
   },
   "outputs": [],
   "source": [
    "# # Отсортируем признаки по времени для дальнейшей операции присоединения\n",
    "# data_train = data_train.sort_values(by='buy_time')\n",
    "# id_features = id_features.sort_values(by='buy_time')"
   ]
  },
  {
   "cell_type": "code",
   "execution_count": null,
   "metadata": {
    "id": "BpTKOA_JNfOn"
   },
   "outputs": [],
   "source": [
    "# %%time\n",
    "# # Соединим таблицы по id и времени, при этом время в признаках должно быть меньше чем время предложения клиенту услуги, сохраним только заполненные строки\n",
    "# id_merge_train = pd.merge_asof(data_train, id_features, on='buy_time', by='id', direction='backward')\n",
    "# id_merge_train = id_merge_train[id_merge_train['0'].notnull()]ф"
   ]
  },
  {
   "cell_type": "code",
   "execution_count": null,
   "metadata": {
    "id": "7HZ5yR2pNfOo"
   },
   "outputs": [],
   "source": [
    "# # Количество строк сократилось\n",
    "# id_merge_train.info()"
   ]
  },
  {
   "cell_type": "code",
   "execution_count": null,
   "metadata": {
    "id": "rfhyI1AbYBIQ"
   },
   "outputs": [],
   "source": [
    "# # Сделаем проверку присоединенных таблиц по времени\n",
    "# # Выберем id, у которого есть несколько профилей\n",
    "# id_features[id_features[['id']].id.duplicated() == True][['id', 'buy_time', '0']].head(1)"
   ]
  },
  {
   "cell_type": "code",
   "execution_count": null,
   "metadata": {
    "id": "XqKbGpowNfOx"
   },
   "outputs": [],
   "source": [
    "# # Найдем оба профиля\n",
    "# id_features[id_features['id'] == 2261406][['id', 'buy_time', '0']]"
   ]
  },
  {
   "cell_type": "code",
   "execution_count": null,
   "metadata": {
    "id": "YGLvwR6hNfOu"
   },
   "outputs": [],
   "source": [
    "# # В собранной таблице присоединен признак '0' со знакние -31.929971, он относится ко времени '2018-07-15 21:00:00'\n",
    "# # Присоединение произошло верно, при этом выбран более поздний профиль из двух\n",
    "# id_merge_train[id_merge_train['id'] == 2261406][['id', 'buy_time', '0']]"
   ]
  },
  {
   "cell_type": "code",
   "execution_count": null,
   "metadata": {
    "id": "9h_wPCbdk9_q"
   },
   "outputs": [],
   "source": [
    "# %%time\n",
    "# # Сохраним выборку\n",
    "# id_merge_train.to_csv(PATH_TRAIN_MERGE_FEATURES)"
   ]
  },
  {
   "cell_type": "code",
   "execution_count": 10,
   "metadata": {
    "id": "zqNFZZtjNfPG"
   },
   "outputs": [],
   "source": [
    "# Считаем файл объединенных таблиц\n",
    "id_merge_train = pd.read_csv(PATH_TRAIN_MERGE_FEATURES).drop('Unnamed: 0', axis=1)"
   ]
  },
  {
   "cell_type": "code",
   "execution_count": 15,
   "metadata": {
    "colab": {
     "base_uri": "https://localhost:8080/",
     "height": 887
    },
    "id": "pf8oeIoxgPPV",
    "outputId": "ad94b4ad-5346-4626-a06c-8577e4565272"
   },
   "outputs": [
    {
     "name": "stdout",
     "output_type": "stream",
     "text": [
      "Memory usage of dataframe is 801.41 MB\n",
      "Memory usage after optimization is: 399.54 MB\n",
      "Decreased by 50.1%\n"
     ]
    },
    {
     "data": {
      "text/html": [
       "\n",
       "  <div id=\"df-8ee1ab9e-176c-497c-9762-b0341b3cdebe\">\n",
       "    <div class=\"colab-df-container\">\n",
       "      <div>\n",
       "<style scoped>\n",
       "    .dataframe tbody tr th:only-of-type {\n",
       "        vertical-align: middle;\n",
       "    }\n",
       "\n",
       "    .dataframe tbody tr th {\n",
       "        vertical-align: top;\n",
       "    }\n",
       "\n",
       "    .dataframe thead th {\n",
       "        text-align: right;\n",
       "    }\n",
       "</style>\n",
       "<table border=\"1\" class=\"dataframe\">\n",
       "  <thead>\n",
       "    <tr style=\"text-align: right;\">\n",
       "      <th></th>\n",
       "      <th>id</th>\n",
       "      <th>vas_id</th>\n",
       "      <th>buy_time</th>\n",
       "      <th>target</th>\n",
       "      <th>0</th>\n",
       "      <th>1</th>\n",
       "      <th>2</th>\n",
       "      <th>3</th>\n",
       "      <th>4</th>\n",
       "      <th>5</th>\n",
       "      <th>6</th>\n",
       "      <th>7</th>\n",
       "      <th>8</th>\n",
       "      <th>9</th>\n",
       "      <th>10</th>\n",
       "      <th>11</th>\n",
       "      <th>12</th>\n",
       "      <th>13</th>\n",
       "      <th>14</th>\n",
       "      <th>15</th>\n",
       "      <th>16</th>\n",
       "      <th>17</th>\n",
       "      <th>18</th>\n",
       "      <th>19</th>\n",
       "      <th>20</th>\n",
       "      <th>21</th>\n",
       "      <th>22</th>\n",
       "      <th>23</th>\n",
       "      <th>24</th>\n",
       "      <th>25</th>\n",
       "      <th>26</th>\n",
       "      <th>27</th>\n",
       "      <th>28</th>\n",
       "      <th>29</th>\n",
       "      <th>30</th>\n",
       "      <th>31</th>\n",
       "      <th>32</th>\n",
       "      <th>33</th>\n",
       "      <th>34</th>\n",
       "      <th>35</th>\n",
       "      <th>...</th>\n",
       "      <th>213</th>\n",
       "      <th>214</th>\n",
       "      <th>215</th>\n",
       "      <th>216</th>\n",
       "      <th>217</th>\n",
       "      <th>218</th>\n",
       "      <th>219</th>\n",
       "      <th>220</th>\n",
       "      <th>221</th>\n",
       "      <th>222</th>\n",
       "      <th>223</th>\n",
       "      <th>224</th>\n",
       "      <th>225</th>\n",
       "      <th>226</th>\n",
       "      <th>227</th>\n",
       "      <th>228</th>\n",
       "      <th>229</th>\n",
       "      <th>230</th>\n",
       "      <th>231</th>\n",
       "      <th>232</th>\n",
       "      <th>233</th>\n",
       "      <th>234</th>\n",
       "      <th>235</th>\n",
       "      <th>236</th>\n",
       "      <th>237</th>\n",
       "      <th>238</th>\n",
       "      <th>239</th>\n",
       "      <th>240</th>\n",
       "      <th>241</th>\n",
       "      <th>242</th>\n",
       "      <th>243</th>\n",
       "      <th>244</th>\n",
       "      <th>245</th>\n",
       "      <th>246</th>\n",
       "      <th>247</th>\n",
       "      <th>248</th>\n",
       "      <th>249</th>\n",
       "      <th>250</th>\n",
       "      <th>251</th>\n",
       "      <th>252</th>\n",
       "    </tr>\n",
       "  </thead>\n",
       "  <tbody>\n",
       "    <tr>\n",
       "      <th>0</th>\n",
       "      <td>3532789</td>\n",
       "      <td>1.0</td>\n",
       "      <td>2018-07-08 21:00:00</td>\n",
       "      <td>0.0</td>\n",
       "      <td>-30.349970</td>\n",
       "      <td>-139.569107</td>\n",
       "      <td>-44.290787</td>\n",
       "      <td>-192.176804</td>\n",
       "      <td>-49.708248</td>\n",
       "      <td>-213.281784</td>\n",
       "      <td>-16.08618</td>\n",
       "      <td>-65.076096</td>\n",
       "      <td>-6.78366</td>\n",
       "      <td>-30.006538</td>\n",
       "      <td>-2.736081</td>\n",
       "      <td>-4.007526</td>\n",
       "      <td>-2.558912</td>\n",
       "      <td>-1.859127</td>\n",
       "      <td>-13.188110</td>\n",
       "      <td>-0.000725</td>\n",
       "      <td>-0.016435</td>\n",
       "      <td>-0.107041</td>\n",
       "      <td>-5.41746</td>\n",
       "      <td>-1.058521</td>\n",
       "      <td>-13.940815</td>\n",
       "      <td>-10.744164</td>\n",
       "      <td>-0.094251</td>\n",
       "      <td>-0.001733</td>\n",
       "      <td>-0.009327</td>\n",
       "      <td>-2.082209</td>\n",
       "      <td>0.200138</td>\n",
       "      <td>-0.00909</td>\n",
       "      <td>-0.351862</td>\n",
       "      <td>-0.214366</td>\n",
       "      <td>-0.211608</td>\n",
       "      <td>-0.001884</td>\n",
       "      <td>-0.000023</td>\n",
       "      <td>-0.00003</td>\n",
       "      <td>-2.659389</td>\n",
       "      <td>-0.065583</td>\n",
       "      <td>...</td>\n",
       "      <td>-42051.167969</td>\n",
       "      <td>-9239.707031</td>\n",
       "      <td>-2.10805</td>\n",
       "      <td>-0.000083</td>\n",
       "      <td>2.377104</td>\n",
       "      <td>-0.00004</td>\n",
       "      <td>2.379228</td>\n",
       "      <td>-0.012257</td>\n",
       "      <td>-0.107878</td>\n",
       "      <td>958932480.0</td>\n",
       "      <td>-49.354080</td>\n",
       "      <td>-4.405604e+08</td>\n",
       "      <td>-120441800.0</td>\n",
       "      <td>-11.026593</td>\n",
       "      <td>-1.465191</td>\n",
       "      <td>-33.30238</td>\n",
       "      <td>-266.128998</td>\n",
       "      <td>-39.772491</td>\n",
       "      <td>-0.364694</td>\n",
       "      <td>-0.133771</td>\n",
       "      <td>-0.209468</td>\n",
       "      <td>-35.356506</td>\n",
       "      <td>-109.884567</td>\n",
       "      <td>-876.69104</td>\n",
       "      <td>-5.368281</td>\n",
       "      <td>-247.110703</td>\n",
       "      <td>-108.409744</td>\n",
       "      <td>-512.437317</td>\n",
       "      <td>-106.617981</td>\n",
       "      <td>-17.295406</td>\n",
       "      <td>-977.373840</td>\n",
       "      <td>-613.770813</td>\n",
       "      <td>-25.996269</td>\n",
       "      <td>-37.630447</td>\n",
       "      <td>-306.747711</td>\n",
       "      <td>-25.832888</td>\n",
       "      <td>-0.694429</td>\n",
       "      <td>-12.175933</td>\n",
       "      <td>-0.45614</td>\n",
       "      <td>0.0</td>\n",
       "    </tr>\n",
       "    <tr>\n",
       "      <th>1</th>\n",
       "      <td>167964</td>\n",
       "      <td>4.0</td>\n",
       "      <td>2018-07-08 21:00:00</td>\n",
       "      <td>0.0</td>\n",
       "      <td>280.330017</td>\n",
       "      <td>47.670887</td>\n",
       "      <td>266.389221</td>\n",
       "      <td>-4.936798</td>\n",
       "      <td>265.211761</td>\n",
       "      <td>28.998211</td>\n",
       "      <td>-16.08618</td>\n",
       "      <td>-15.856097</td>\n",
       "      <td>-6.78366</td>\n",
       "      <td>17.189095</td>\n",
       "      <td>-2.736081</td>\n",
       "      <td>-4.007526</td>\n",
       "      <td>-2.558912</td>\n",
       "      <td>221.950867</td>\n",
       "      <td>299.611877</td>\n",
       "      <td>-0.000725</td>\n",
       "      <td>-0.016435</td>\n",
       "      <td>-0.107041</td>\n",
       "      <td>-1.17746</td>\n",
       "      <td>-3.178521</td>\n",
       "      <td>-13.940815</td>\n",
       "      <td>-10.744164</td>\n",
       "      <td>-0.094251</td>\n",
       "      <td>-0.001733</td>\n",
       "      <td>-0.009327</td>\n",
       "      <td>-2.082209</td>\n",
       "      <td>0.200138</td>\n",
       "      <td>-0.00909</td>\n",
       "      <td>-0.351862</td>\n",
       "      <td>-0.214366</td>\n",
       "      <td>-0.211608</td>\n",
       "      <td>-0.001884</td>\n",
       "      <td>-0.000023</td>\n",
       "      <td>-0.00003</td>\n",
       "      <td>-2.659389</td>\n",
       "      <td>-0.065583</td>\n",
       "      <td>...</td>\n",
       "      <td>-42051.167969</td>\n",
       "      <td>-9239.707031</td>\n",
       "      <td>-2.10805</td>\n",
       "      <td>-0.000083</td>\n",
       "      <td>1.377104</td>\n",
       "      <td>-0.00004</td>\n",
       "      <td>1.379228</td>\n",
       "      <td>-0.012257</td>\n",
       "      <td>-0.107878</td>\n",
       "      <td>958414080.0</td>\n",
       "      <td>229.595917</td>\n",
       "      <td>-4.405604e+08</td>\n",
       "      <td>-120441800.0</td>\n",
       "      <td>4.756475</td>\n",
       "      <td>-1.465191</td>\n",
       "      <td>-33.30238</td>\n",
       "      <td>-242.128983</td>\n",
       "      <td>-33.772491</td>\n",
       "      <td>-0.364694</td>\n",
       "      <td>-0.133771</td>\n",
       "      <td>-0.209468</td>\n",
       "      <td>-29.356504</td>\n",
       "      <td>-109.884567</td>\n",
       "      <td>-637.69104</td>\n",
       "      <td>-5.368281</td>\n",
       "      <td>-231.110703</td>\n",
       "      <td>-108.409744</td>\n",
       "      <td>-289.437317</td>\n",
       "      <td>-98.617981</td>\n",
       "      <td>-17.295406</td>\n",
       "      <td>-977.373840</td>\n",
       "      <td>-613.770813</td>\n",
       "      <td>-25.996269</td>\n",
       "      <td>-37.630447</td>\n",
       "      <td>-237.747726</td>\n",
       "      <td>-20.832888</td>\n",
       "      <td>-0.694429</td>\n",
       "      <td>-7.175933</td>\n",
       "      <td>-0.45614</td>\n",
       "      <td>0.0</td>\n",
       "    </tr>\n",
       "    <tr>\n",
       "      <th>2</th>\n",
       "      <td>4236220</td>\n",
       "      <td>1.0</td>\n",
       "      <td>2018-07-08 21:00:00</td>\n",
       "      <td>0.0</td>\n",
       "      <td>-96.799973</td>\n",
       "      <td>49.440887</td>\n",
       "      <td>-110.740784</td>\n",
       "      <td>-3.166798</td>\n",
       "      <td>-116.158249</td>\n",
       "      <td>-24.271790</td>\n",
       "      <td>-16.08618</td>\n",
       "      <td>-65.076096</td>\n",
       "      <td>-6.78366</td>\n",
       "      <td>-30.006538</td>\n",
       "      <td>-2.736081</td>\n",
       "      <td>-4.007526</td>\n",
       "      <td>-2.558912</td>\n",
       "      <td>-66.189125</td>\n",
       "      <td>-77.518112</td>\n",
       "      <td>-0.000725</td>\n",
       "      <td>-0.016435</td>\n",
       "      <td>-0.107041</td>\n",
       "      <td>-5.41746</td>\n",
       "      <td>-3.178521</td>\n",
       "      <td>-13.940815</td>\n",
       "      <td>-10.744164</td>\n",
       "      <td>-0.094251</td>\n",
       "      <td>-0.001733</td>\n",
       "      <td>-0.009327</td>\n",
       "      <td>-2.082209</td>\n",
       "      <td>0.200138</td>\n",
       "      <td>-0.00909</td>\n",
       "      <td>-0.351862</td>\n",
       "      <td>-0.214366</td>\n",
       "      <td>-0.211608</td>\n",
       "      <td>-0.001884</td>\n",
       "      <td>-0.000023</td>\n",
       "      <td>-0.00003</td>\n",
       "      <td>-2.659389</td>\n",
       "      <td>-0.065583</td>\n",
       "      <td>...</td>\n",
       "      <td>-41541.167969</td>\n",
       "      <td>-9239.707031</td>\n",
       "      <td>-2.10805</td>\n",
       "      <td>-0.000083</td>\n",
       "      <td>-0.622896</td>\n",
       "      <td>-0.00004</td>\n",
       "      <td>-0.620772</td>\n",
       "      <td>-0.012257</td>\n",
       "      <td>-0.107878</td>\n",
       "      <td>-572669504.0</td>\n",
       "      <td>-58.544079</td>\n",
       "      <td>1.084806e+09</td>\n",
       "      <td>-120441800.0</td>\n",
       "      <td>4.327904</td>\n",
       "      <td>-1.465191</td>\n",
       "      <td>-33.30238</td>\n",
       "      <td>-263.128998</td>\n",
       "      <td>-39.772491</td>\n",
       "      <td>-0.364694</td>\n",
       "      <td>-0.133771</td>\n",
       "      <td>-0.209468</td>\n",
       "      <td>-35.356506</td>\n",
       "      <td>-109.884567</td>\n",
       "      <td>-876.69104</td>\n",
       "      <td>-5.368281</td>\n",
       "      <td>-247.110703</td>\n",
       "      <td>-108.409744</td>\n",
       "      <td>-512.437317</td>\n",
       "      <td>-60.617977</td>\n",
       "      <td>-17.295406</td>\n",
       "      <td>-903.373840</td>\n",
       "      <td>-539.770813</td>\n",
       "      <td>-25.996269</td>\n",
       "      <td>-37.630447</td>\n",
       "      <td>-290.747711</td>\n",
       "      <td>-25.832888</td>\n",
       "      <td>-0.694429</td>\n",
       "      <td>-12.175933</td>\n",
       "      <td>-0.45614</td>\n",
       "      <td>1.0</td>\n",
       "    </tr>\n",
       "    <tr>\n",
       "      <th>3</th>\n",
       "      <td>3883492</td>\n",
       "      <td>4.0</td>\n",
       "      <td>2018-07-08 21:00:00</td>\n",
       "      <td>0.0</td>\n",
       "      <td>-92.139969</td>\n",
       "      <td>-46.319111</td>\n",
       "      <td>-106.080788</td>\n",
       "      <td>61.243202</td>\n",
       "      <td>-111.498245</td>\n",
       "      <td>40.138210</td>\n",
       "      <td>-16.08618</td>\n",
       "      <td>-65.076096</td>\n",
       "      <td>-6.78366</td>\n",
       "      <td>-30.006538</td>\n",
       "      <td>-2.736081</td>\n",
       "      <td>-4.007526</td>\n",
       "      <td>-2.558912</td>\n",
       "      <td>-66.189125</td>\n",
       "      <td>-74.978111</td>\n",
       "      <td>-0.000725</td>\n",
       "      <td>-0.016435</td>\n",
       "      <td>-0.107041</td>\n",
       "      <td>-5.41746</td>\n",
       "      <td>-1.058521</td>\n",
       "      <td>-13.940815</td>\n",
       "      <td>-10.744164</td>\n",
       "      <td>-0.094251</td>\n",
       "      <td>-0.001733</td>\n",
       "      <td>-0.009327</td>\n",
       "      <td>-2.082209</td>\n",
       "      <td>0.200138</td>\n",
       "      <td>-0.00909</td>\n",
       "      <td>-0.351862</td>\n",
       "      <td>-0.214366</td>\n",
       "      <td>-0.211608</td>\n",
       "      <td>-0.001884</td>\n",
       "      <td>-0.000023</td>\n",
       "      <td>-0.00003</td>\n",
       "      <td>-2.659389</td>\n",
       "      <td>-0.065583</td>\n",
       "      <td>...</td>\n",
       "      <td>-41101.167969</td>\n",
       "      <td>-9239.707031</td>\n",
       "      <td>-2.10805</td>\n",
       "      <td>-0.000083</td>\n",
       "      <td>-0.622896</td>\n",
       "      <td>-0.00004</td>\n",
       "      <td>-0.620772</td>\n",
       "      <td>-0.012257</td>\n",
       "      <td>-0.107878</td>\n",
       "      <td>-572669504.0</td>\n",
       "      <td>-58.544079</td>\n",
       "      <td>1.085484e+09</td>\n",
       "      <td>-120441800.0</td>\n",
       "      <td>8.099333</td>\n",
       "      <td>-1.465191</td>\n",
       "      <td>-33.30238</td>\n",
       "      <td>-199.128983</td>\n",
       "      <td>48.227509</td>\n",
       "      <td>-0.364694</td>\n",
       "      <td>-0.133771</td>\n",
       "      <td>-0.209468</td>\n",
       "      <td>50.643494</td>\n",
       "      <td>-109.884567</td>\n",
       "      <td>-437.69101</td>\n",
       "      <td>-2.368281</td>\n",
       "      <td>164.889297</td>\n",
       "      <td>-108.409744</td>\n",
       "      <td>-488.437317</td>\n",
       "      <td>181.382019</td>\n",
       "      <td>-16.295406</td>\n",
       "      <td>-969.373840</td>\n",
       "      <td>-613.770813</td>\n",
       "      <td>-24.996269</td>\n",
       "      <td>-37.630447</td>\n",
       "      <td>1699.252319</td>\n",
       "      <td>-20.832888</td>\n",
       "      <td>1.305572</td>\n",
       "      <td>-9.175933</td>\n",
       "      <td>-0.45614</td>\n",
       "      <td>1.0</td>\n",
       "    </tr>\n",
       "    <tr>\n",
       "      <th>4</th>\n",
       "      <td>2847225</td>\n",
       "      <td>1.0</td>\n",
       "      <td>2018-07-08 21:00:00</td>\n",
       "      <td>0.0</td>\n",
       "      <td>464.210022</td>\n",
       "      <td>428.250885</td>\n",
       "      <td>450.269226</td>\n",
       "      <td>375.643188</td>\n",
       "      <td>444.851746</td>\n",
       "      <td>354.538208</td>\n",
       "      <td>-16.08618</td>\n",
       "      <td>-65.076096</td>\n",
       "      <td>-6.78366</td>\n",
       "      <td>-30.006538</td>\n",
       "      <td>-2.736081</td>\n",
       "      <td>-4.007526</td>\n",
       "      <td>-2.558912</td>\n",
       "      <td>484.660858</td>\n",
       "      <td>473.331879</td>\n",
       "      <td>-0.000725</td>\n",
       "      <td>-0.016435</td>\n",
       "      <td>-0.107041</td>\n",
       "      <td>-5.41746</td>\n",
       "      <td>6.981479</td>\n",
       "      <td>-13.940815</td>\n",
       "      <td>-10.744164</td>\n",
       "      <td>-0.094251</td>\n",
       "      <td>-0.001733</td>\n",
       "      <td>-0.009327</td>\n",
       "      <td>-2.082209</td>\n",
       "      <td>0.200138</td>\n",
       "      <td>-0.00909</td>\n",
       "      <td>-0.351862</td>\n",
       "      <td>-0.214366</td>\n",
       "      <td>-0.211608</td>\n",
       "      <td>-0.001884</td>\n",
       "      <td>-0.000023</td>\n",
       "      <td>-0.00003</td>\n",
       "      <td>-2.659389</td>\n",
       "      <td>-0.065583</td>\n",
       "      <td>...</td>\n",
       "      <td>-42051.167969</td>\n",
       "      <td>-9239.707031</td>\n",
       "      <td>-2.10805</td>\n",
       "      <td>-0.000083</td>\n",
       "      <td>0.377104</td>\n",
       "      <td>-0.00004</td>\n",
       "      <td>0.379228</td>\n",
       "      <td>-0.012257</td>\n",
       "      <td>-0.107878</td>\n",
       "      <td>958932480.0</td>\n",
       "      <td>492.305908</td>\n",
       "      <td>-4.405604e+08</td>\n",
       "      <td>-120441800.0</td>\n",
       "      <td>-4.434000</td>\n",
       "      <td>-1.465191</td>\n",
       "      <td>-33.30238</td>\n",
       "      <td>-41.128986</td>\n",
       "      <td>80.227509</td>\n",
       "      <td>-0.364694</td>\n",
       "      <td>-0.133771</td>\n",
       "      <td>-0.209468</td>\n",
       "      <td>22.643496</td>\n",
       "      <td>-109.884567</td>\n",
       "      <td>-865.69104</td>\n",
       "      <td>-5.368281</td>\n",
       "      <td>-247.110703</td>\n",
       "      <td>-108.409744</td>\n",
       "      <td>-501.437317</td>\n",
       "      <td>215.382019</td>\n",
       "      <td>-11.295406</td>\n",
       "      <td>6808.625977</td>\n",
       "      <td>6258.229004</td>\n",
       "      <td>-18.996269</td>\n",
       "      <td>58.369553</td>\n",
       "      <td>1.252276</td>\n",
       "      <td>-25.832888</td>\n",
       "      <td>-0.694429</td>\n",
       "      <td>-12.175933</td>\n",
       "      <td>-0.45614</td>\n",
       "      <td>0.0</td>\n",
       "    </tr>\n",
       "    <tr>\n",
       "      <th>...</th>\n",
       "      <td>...</td>\n",
       "      <td>...</td>\n",
       "      <td>...</td>\n",
       "      <td>...</td>\n",
       "      <td>...</td>\n",
       "      <td>...</td>\n",
       "      <td>...</td>\n",
       "      <td>...</td>\n",
       "      <td>...</td>\n",
       "      <td>...</td>\n",
       "      <td>...</td>\n",
       "      <td>...</td>\n",
       "      <td>...</td>\n",
       "      <td>...</td>\n",
       "      <td>...</td>\n",
       "      <td>...</td>\n",
       "      <td>...</td>\n",
       "      <td>...</td>\n",
       "      <td>...</td>\n",
       "      <td>...</td>\n",
       "      <td>...</td>\n",
       "      <td>...</td>\n",
       "      <td>...</td>\n",
       "      <td>...</td>\n",
       "      <td>...</td>\n",
       "      <td>...</td>\n",
       "      <td>...</td>\n",
       "      <td>...</td>\n",
       "      <td>...</td>\n",
       "      <td>...</td>\n",
       "      <td>...</td>\n",
       "      <td>...</td>\n",
       "      <td>...</td>\n",
       "      <td>...</td>\n",
       "      <td>...</td>\n",
       "      <td>...</td>\n",
       "      <td>...</td>\n",
       "      <td>...</td>\n",
       "      <td>...</td>\n",
       "      <td>...</td>\n",
       "      <td>...</td>\n",
       "      <td>...</td>\n",
       "      <td>...</td>\n",
       "      <td>...</td>\n",
       "      <td>...</td>\n",
       "      <td>...</td>\n",
       "      <td>...</td>\n",
       "      <td>...</td>\n",
       "      <td>...</td>\n",
       "      <td>...</td>\n",
       "      <td>...</td>\n",
       "      <td>...</td>\n",
       "      <td>...</td>\n",
       "      <td>...</td>\n",
       "      <td>...</td>\n",
       "      <td>...</td>\n",
       "      <td>...</td>\n",
       "      <td>...</td>\n",
       "      <td>...</td>\n",
       "      <td>...</td>\n",
       "      <td>...</td>\n",
       "      <td>...</td>\n",
       "      <td>...</td>\n",
       "      <td>...</td>\n",
       "      <td>...</td>\n",
       "      <td>...</td>\n",
       "      <td>...</td>\n",
       "      <td>...</td>\n",
       "      <td>...</td>\n",
       "      <td>...</td>\n",
       "      <td>...</td>\n",
       "      <td>...</td>\n",
       "      <td>...</td>\n",
       "      <td>...</td>\n",
       "      <td>...</td>\n",
       "      <td>...</td>\n",
       "      <td>...</td>\n",
       "      <td>...</td>\n",
       "      <td>...</td>\n",
       "      <td>...</td>\n",
       "      <td>...</td>\n",
       "    </tr>\n",
       "    <tr>\n",
       "      <th>408719</th>\n",
       "      <td>555080</td>\n",
       "      <td>5.0</td>\n",
       "      <td>2018-12-30 21:00:00</td>\n",
       "      <td>0.0</td>\n",
       "      <td>-96.799973</td>\n",
       "      <td>-408.179108</td>\n",
       "      <td>-110.740784</td>\n",
       "      <td>-460.786804</td>\n",
       "      <td>-116.158249</td>\n",
       "      <td>-481.891785</td>\n",
       "      <td>-16.08618</td>\n",
       "      <td>-65.076096</td>\n",
       "      <td>-6.78366</td>\n",
       "      <td>-30.006538</td>\n",
       "      <td>-2.736081</td>\n",
       "      <td>-4.007526</td>\n",
       "      <td>-2.558912</td>\n",
       "      <td>-66.189125</td>\n",
       "      <td>-77.518112</td>\n",
       "      <td>-0.000725</td>\n",
       "      <td>-0.016435</td>\n",
       "      <td>-0.107041</td>\n",
       "      <td>-5.41746</td>\n",
       "      <td>-3.178521</td>\n",
       "      <td>-13.940815</td>\n",
       "      <td>-10.744164</td>\n",
       "      <td>-0.094251</td>\n",
       "      <td>-0.001733</td>\n",
       "      <td>-0.009327</td>\n",
       "      <td>-2.082209</td>\n",
       "      <td>-0.799862</td>\n",
       "      <td>-0.00909</td>\n",
       "      <td>-0.351862</td>\n",
       "      <td>-0.214366</td>\n",
       "      <td>-0.211608</td>\n",
       "      <td>-0.001884</td>\n",
       "      <td>-0.000023</td>\n",
       "      <td>-0.00003</td>\n",
       "      <td>-2.659389</td>\n",
       "      <td>-0.065583</td>\n",
       "      <td>...</td>\n",
       "      <td>-42051.167969</td>\n",
       "      <td>-9239.707031</td>\n",
       "      <td>-2.10805</td>\n",
       "      <td>-0.000083</td>\n",
       "      <td>-0.622896</td>\n",
       "      <td>-0.00004</td>\n",
       "      <td>-0.620772</td>\n",
       "      <td>-0.012257</td>\n",
       "      <td>-0.107878</td>\n",
       "      <td>-572669504.0</td>\n",
       "      <td>-58.544079</td>\n",
       "      <td>-4.405604e+08</td>\n",
       "      <td>-120441800.0</td>\n",
       "      <td>17.566000</td>\n",
       "      <td>-1.465191</td>\n",
       "      <td>-33.30238</td>\n",
       "      <td>-266.128998</td>\n",
       "      <td>-39.772491</td>\n",
       "      <td>-0.364694</td>\n",
       "      <td>-0.133771</td>\n",
       "      <td>-0.209468</td>\n",
       "      <td>-35.356506</td>\n",
       "      <td>-109.884567</td>\n",
       "      <td>-876.69104</td>\n",
       "      <td>-5.368281</td>\n",
       "      <td>-247.110703</td>\n",
       "      <td>-108.409744</td>\n",
       "      <td>-512.437317</td>\n",
       "      <td>-106.617981</td>\n",
       "      <td>-17.295406</td>\n",
       "      <td>-977.373840</td>\n",
       "      <td>-613.770813</td>\n",
       "      <td>-25.996269</td>\n",
       "      <td>-37.630447</td>\n",
       "      <td>-306.747711</td>\n",
       "      <td>-25.832888</td>\n",
       "      <td>-0.694429</td>\n",
       "      <td>-12.175933</td>\n",
       "      <td>-0.45614</td>\n",
       "      <td>0.0</td>\n",
       "    </tr>\n",
       "    <tr>\n",
       "      <th>408720</th>\n",
       "      <td>1729471</td>\n",
       "      <td>5.0</td>\n",
       "      <td>2018-12-30 21:00:00</td>\n",
       "      <td>0.0</td>\n",
       "      <td>-86.209969</td>\n",
       "      <td>-397.589111</td>\n",
       "      <td>-100.150787</td>\n",
       "      <td>-450.196808</td>\n",
       "      <td>-105.568245</td>\n",
       "      <td>-471.301788</td>\n",
       "      <td>-16.08618</td>\n",
       "      <td>-65.076096</td>\n",
       "      <td>-6.78366</td>\n",
       "      <td>-30.006538</td>\n",
       "      <td>-2.736081</td>\n",
       "      <td>-4.007526</td>\n",
       "      <td>-2.558912</td>\n",
       "      <td>-66.189125</td>\n",
       "      <td>-66.928108</td>\n",
       "      <td>-0.000725</td>\n",
       "      <td>-0.016435</td>\n",
       "      <td>-0.107041</td>\n",
       "      <td>-5.41746</td>\n",
       "      <td>-3.178521</td>\n",
       "      <td>-13.940815</td>\n",
       "      <td>-10.744164</td>\n",
       "      <td>-0.094251</td>\n",
       "      <td>-0.001733</td>\n",
       "      <td>-0.009327</td>\n",
       "      <td>-2.082209</td>\n",
       "      <td>-0.799862</td>\n",
       "      <td>-0.00909</td>\n",
       "      <td>-0.351862</td>\n",
       "      <td>-0.214366</td>\n",
       "      <td>-0.211608</td>\n",
       "      <td>-0.001884</td>\n",
       "      <td>-0.000023</td>\n",
       "      <td>-0.00003</td>\n",
       "      <td>-2.659389</td>\n",
       "      <td>-0.065583</td>\n",
       "      <td>...</td>\n",
       "      <td>-42051.167969</td>\n",
       "      <td>-9239.707031</td>\n",
       "      <td>-2.10805</td>\n",
       "      <td>-0.000083</td>\n",
       "      <td>-0.622896</td>\n",
       "      <td>-0.00004</td>\n",
       "      <td>-0.620772</td>\n",
       "      <td>-0.012257</td>\n",
       "      <td>-0.107878</td>\n",
       "      <td>-572669504.0</td>\n",
       "      <td>-58.544079</td>\n",
       "      <td>-4.405604e+08</td>\n",
       "      <td>-120441800.0</td>\n",
       "      <td>11.399332</td>\n",
       "      <td>-1.465191</td>\n",
       "      <td>-33.30238</td>\n",
       "      <td>-266.128998</td>\n",
       "      <td>-39.772491</td>\n",
       "      <td>-0.364694</td>\n",
       "      <td>-0.133771</td>\n",
       "      <td>-0.209468</td>\n",
       "      <td>-35.356506</td>\n",
       "      <td>-109.884567</td>\n",
       "      <td>-876.69104</td>\n",
       "      <td>-5.368281</td>\n",
       "      <td>-247.110703</td>\n",
       "      <td>-108.409744</td>\n",
       "      <td>-512.437317</td>\n",
       "      <td>-106.617981</td>\n",
       "      <td>-17.295406</td>\n",
       "      <td>-977.373840</td>\n",
       "      <td>-613.770813</td>\n",
       "      <td>-25.996269</td>\n",
       "      <td>-37.630447</td>\n",
       "      <td>-306.747711</td>\n",
       "      <td>-25.832888</td>\n",
       "      <td>-0.694429</td>\n",
       "      <td>-12.175933</td>\n",
       "      <td>-0.45614</td>\n",
       "      <td>0.0</td>\n",
       "    </tr>\n",
       "    <tr>\n",
       "      <th>408721</th>\n",
       "      <td>3676177</td>\n",
       "      <td>2.0</td>\n",
       "      <td>2018-12-30 21:00:00</td>\n",
       "      <td>0.0</td>\n",
       "      <td>-96.799973</td>\n",
       "      <td>-408.179108</td>\n",
       "      <td>-110.740784</td>\n",
       "      <td>-460.786804</td>\n",
       "      <td>-116.158249</td>\n",
       "      <td>-481.891785</td>\n",
       "      <td>-16.08618</td>\n",
       "      <td>-65.076096</td>\n",
       "      <td>-6.78366</td>\n",
       "      <td>-30.006538</td>\n",
       "      <td>-2.736081</td>\n",
       "      <td>-4.007526</td>\n",
       "      <td>-2.558912</td>\n",
       "      <td>-66.189125</td>\n",
       "      <td>-77.518112</td>\n",
       "      <td>-0.000725</td>\n",
       "      <td>-0.016435</td>\n",
       "      <td>-0.107041</td>\n",
       "      <td>-5.41746</td>\n",
       "      <td>-3.178521</td>\n",
       "      <td>-13.940815</td>\n",
       "      <td>-10.744164</td>\n",
       "      <td>-0.094251</td>\n",
       "      <td>-0.001733</td>\n",
       "      <td>-0.009327</td>\n",
       "      <td>-2.082209</td>\n",
       "      <td>-0.799862</td>\n",
       "      <td>-0.00909</td>\n",
       "      <td>-0.351862</td>\n",
       "      <td>-0.214366</td>\n",
       "      <td>-0.211608</td>\n",
       "      <td>-0.001884</td>\n",
       "      <td>-0.000023</td>\n",
       "      <td>-0.00003</td>\n",
       "      <td>-2.659389</td>\n",
       "      <td>-0.065583</td>\n",
       "      <td>...</td>\n",
       "      <td>-42051.167969</td>\n",
       "      <td>-9239.707031</td>\n",
       "      <td>-2.10805</td>\n",
       "      <td>-0.000083</td>\n",
       "      <td>-0.622896</td>\n",
       "      <td>-0.00004</td>\n",
       "      <td>-0.620772</td>\n",
       "      <td>-0.012257</td>\n",
       "      <td>-0.107878</td>\n",
       "      <td>-572669504.0</td>\n",
       "      <td>-58.544079</td>\n",
       "      <td>-4.405604e+08</td>\n",
       "      <td>-120441800.0</td>\n",
       "      <td>58.899334</td>\n",
       "      <td>-1.465191</td>\n",
       "      <td>-33.30238</td>\n",
       "      <td>-266.128998</td>\n",
       "      <td>-39.772491</td>\n",
       "      <td>-0.364694</td>\n",
       "      <td>-0.133771</td>\n",
       "      <td>-0.209468</td>\n",
       "      <td>-35.356506</td>\n",
       "      <td>-109.884567</td>\n",
       "      <td>-876.69104</td>\n",
       "      <td>-5.368281</td>\n",
       "      <td>-247.110703</td>\n",
       "      <td>-108.409744</td>\n",
       "      <td>-512.437317</td>\n",
       "      <td>-106.617981</td>\n",
       "      <td>-17.295406</td>\n",
       "      <td>-977.373840</td>\n",
       "      <td>-613.770813</td>\n",
       "      <td>-25.996269</td>\n",
       "      <td>-37.630447</td>\n",
       "      <td>-306.747711</td>\n",
       "      <td>-25.832888</td>\n",
       "      <td>-0.694429</td>\n",
       "      <td>-12.175933</td>\n",
       "      <td>-0.45614</td>\n",
       "      <td>0.0</td>\n",
       "    </tr>\n",
       "    <tr>\n",
       "      <th>408722</th>\n",
       "      <td>2255038</td>\n",
       "      <td>2.0</td>\n",
       "      <td>2018-12-30 21:00:00</td>\n",
       "      <td>0.0</td>\n",
       "      <td>-96.799973</td>\n",
       "      <td>49.450890</td>\n",
       "      <td>-104.390785</td>\n",
       "      <td>219.293198</td>\n",
       "      <td>-109.808243</td>\n",
       "      <td>200.308212</td>\n",
       "      <td>-16.08618</td>\n",
       "      <td>-65.076096</td>\n",
       "      <td>-6.78366</td>\n",
       "      <td>-30.006538</td>\n",
       "      <td>-2.736081</td>\n",
       "      <td>-4.007526</td>\n",
       "      <td>-2.558912</td>\n",
       "      <td>-66.189125</td>\n",
       "      <td>-77.518112</td>\n",
       "      <td>-0.000725</td>\n",
       "      <td>-0.016435</td>\n",
       "      <td>-0.107041</td>\n",
       "      <td>-5.41746</td>\n",
       "      <td>-3.178521</td>\n",
       "      <td>-7.590815</td>\n",
       "      <td>-10.744164</td>\n",
       "      <td>-0.094251</td>\n",
       "      <td>-0.001733</td>\n",
       "      <td>-0.009327</td>\n",
       "      <td>-2.082209</td>\n",
       "      <td>0.200138</td>\n",
       "      <td>-0.00909</td>\n",
       "      <td>-0.351862</td>\n",
       "      <td>-0.214366</td>\n",
       "      <td>-0.211608</td>\n",
       "      <td>-0.001884</td>\n",
       "      <td>-0.000023</td>\n",
       "      <td>-0.00003</td>\n",
       "      <td>-2.659389</td>\n",
       "      <td>-0.065583</td>\n",
       "      <td>...</td>\n",
       "      <td>-42051.167969</td>\n",
       "      <td>-9239.707031</td>\n",
       "      <td>-2.10805</td>\n",
       "      <td>-0.000083</td>\n",
       "      <td>2.377104</td>\n",
       "      <td>-0.00004</td>\n",
       "      <td>2.379228</td>\n",
       "      <td>-0.012257</td>\n",
       "      <td>-0.107878</td>\n",
       "      <td>967399680.0</td>\n",
       "      <td>-57.274078</td>\n",
       "      <td>-4.405604e+08</td>\n",
       "      <td>-120441800.0</td>\n",
       "      <td>-9.600668</td>\n",
       "      <td>-1.465191</td>\n",
       "      <td>-33.30238</td>\n",
       "      <td>-266.128998</td>\n",
       "      <td>-39.772491</td>\n",
       "      <td>-0.364694</td>\n",
       "      <td>-0.133771</td>\n",
       "      <td>-0.209468</td>\n",
       "      <td>-35.356506</td>\n",
       "      <td>-109.884567</td>\n",
       "      <td>-876.69104</td>\n",
       "      <td>-5.368281</td>\n",
       "      <td>-247.110703</td>\n",
       "      <td>-108.409744</td>\n",
       "      <td>-512.437317</td>\n",
       "      <td>-106.617981</td>\n",
       "      <td>-17.295406</td>\n",
       "      <td>-977.373840</td>\n",
       "      <td>-613.770813</td>\n",
       "      <td>-25.996269</td>\n",
       "      <td>-37.630447</td>\n",
       "      <td>-306.747711</td>\n",
       "      <td>-25.832888</td>\n",
       "      <td>-0.694429</td>\n",
       "      <td>-12.175933</td>\n",
       "      <td>-0.45614</td>\n",
       "      <td>0.0</td>\n",
       "    </tr>\n",
       "    <tr>\n",
       "      <th>408723</th>\n",
       "      <td>3022610</td>\n",
       "      <td>2.0</td>\n",
       "      <td>2018-12-30 21:00:00</td>\n",
       "      <td>0.0</td>\n",
       "      <td>-49.339970</td>\n",
       "      <td>-218.339111</td>\n",
       "      <td>73.139214</td>\n",
       "      <td>145.093201</td>\n",
       "      <td>67.721756</td>\n",
       "      <td>123.988213</td>\n",
       "      <td>-16.08618</td>\n",
       "      <td>-65.076096</td>\n",
       "      <td>-6.78366</td>\n",
       "      <td>-30.006538</td>\n",
       "      <td>-2.736081</td>\n",
       "      <td>-4.007526</td>\n",
       "      <td>-2.558912</td>\n",
       "      <td>-18.729128</td>\n",
       "      <td>-30.058109</td>\n",
       "      <td>-0.000725</td>\n",
       "      <td>-0.016435</td>\n",
       "      <td>-0.107041</td>\n",
       "      <td>-5.41746</td>\n",
       "      <td>-3.178521</td>\n",
       "      <td>122.479187</td>\n",
       "      <td>-10.744164</td>\n",
       "      <td>-0.094251</td>\n",
       "      <td>-0.001733</td>\n",
       "      <td>-0.009327</td>\n",
       "      <td>-2.082209</td>\n",
       "      <td>0.200138</td>\n",
       "      <td>-0.00909</td>\n",
       "      <td>-0.351862</td>\n",
       "      <td>-0.214366</td>\n",
       "      <td>-0.211608</td>\n",
       "      <td>-0.001884</td>\n",
       "      <td>-0.000023</td>\n",
       "      <td>-0.00003</td>\n",
       "      <td>-2.659389</td>\n",
       "      <td>-0.065583</td>\n",
       "      <td>...</td>\n",
       "      <td>-42051.167969</td>\n",
       "      <td>-9239.707031</td>\n",
       "      <td>-2.10805</td>\n",
       "      <td>-0.000083</td>\n",
       "      <td>0.377104</td>\n",
       "      <td>-0.00004</td>\n",
       "      <td>0.379228</td>\n",
       "      <td>-0.012257</td>\n",
       "      <td>-0.107878</td>\n",
       "      <td>968263680.0</td>\n",
       "      <td>-51.764080</td>\n",
       "      <td>-4.405604e+08</td>\n",
       "      <td>-120441800.0</td>\n",
       "      <td>2.470760</td>\n",
       "      <td>-1.465191</td>\n",
       "      <td>-33.30238</td>\n",
       "      <td>-266.128998</td>\n",
       "      <td>-39.772491</td>\n",
       "      <td>-0.364694</td>\n",
       "      <td>-0.133771</td>\n",
       "      <td>-0.209468</td>\n",
       "      <td>-35.356506</td>\n",
       "      <td>-109.884567</td>\n",
       "      <td>-779.69104</td>\n",
       "      <td>-5.368281</td>\n",
       "      <td>-246.110703</td>\n",
       "      <td>-108.409744</td>\n",
       "      <td>-416.437317</td>\n",
       "      <td>-106.617981</td>\n",
       "      <td>-17.295406</td>\n",
       "      <td>-977.373840</td>\n",
       "      <td>-613.770813</td>\n",
       "      <td>-25.996269</td>\n",
       "      <td>-37.630447</td>\n",
       "      <td>-303.747711</td>\n",
       "      <td>-25.832888</td>\n",
       "      <td>-0.694429</td>\n",
       "      <td>-12.175933</td>\n",
       "      <td>-0.45614</td>\n",
       "      <td>0.0</td>\n",
       "    </tr>\n",
       "  </tbody>\n",
       "</table>\n",
       "<p>408724 rows × 257 columns</p>\n",
       "</div>\n",
       "      <button class=\"colab-df-convert\" onclick=\"convertToInteractive('df-8ee1ab9e-176c-497c-9762-b0341b3cdebe')\"\n",
       "              title=\"Convert this dataframe to an interactive table.\"\n",
       "              style=\"display:none;\">\n",
       "        \n",
       "  <svg xmlns=\"http://www.w3.org/2000/svg\" height=\"24px\"viewBox=\"0 0 24 24\"\n",
       "       width=\"24px\">\n",
       "    <path d=\"M0 0h24v24H0V0z\" fill=\"none\"/>\n",
       "    <path d=\"M18.56 5.44l.94 2.06.94-2.06 2.06-.94-2.06-.94-.94-2.06-.94 2.06-2.06.94zm-11 1L8.5 8.5l.94-2.06 2.06-.94-2.06-.94L8.5 2.5l-.94 2.06-2.06.94zm10 10l.94 2.06.94-2.06 2.06-.94-2.06-.94-.94-2.06-.94 2.06-2.06.94z\"/><path d=\"M17.41 7.96l-1.37-1.37c-.4-.4-.92-.59-1.43-.59-.52 0-1.04.2-1.43.59L10.3 9.45l-7.72 7.72c-.78.78-.78 2.05 0 2.83L4 21.41c.39.39.9.59 1.41.59.51 0 1.02-.2 1.41-.59l7.78-7.78 2.81-2.81c.8-.78.8-2.07 0-2.86zM5.41 20L4 18.59l7.72-7.72 1.47 1.35L5.41 20z\"/>\n",
       "  </svg>\n",
       "      </button>\n",
       "      \n",
       "  <style>\n",
       "    .colab-df-container {\n",
       "      display:flex;\n",
       "      flex-wrap:wrap;\n",
       "      gap: 12px;\n",
       "    }\n",
       "\n",
       "    .colab-df-convert {\n",
       "      background-color: #E8F0FE;\n",
       "      border: none;\n",
       "      border-radius: 50%;\n",
       "      cursor: pointer;\n",
       "      display: none;\n",
       "      fill: #1967D2;\n",
       "      height: 32px;\n",
       "      padding: 0 0 0 0;\n",
       "      width: 32px;\n",
       "    }\n",
       "\n",
       "    .colab-df-convert:hover {\n",
       "      background-color: #E2EBFA;\n",
       "      box-shadow: 0px 1px 2px rgba(60, 64, 67, 0.3), 0px 1px 3px 1px rgba(60, 64, 67, 0.15);\n",
       "      fill: #174EA6;\n",
       "    }\n",
       "\n",
       "    [theme=dark] .colab-df-convert {\n",
       "      background-color: #3B4455;\n",
       "      fill: #D2E3FC;\n",
       "    }\n",
       "\n",
       "    [theme=dark] .colab-df-convert:hover {\n",
       "      background-color: #434B5C;\n",
       "      box-shadow: 0px 1px 3px 1px rgba(0, 0, 0, 0.15);\n",
       "      filter: drop-shadow(0px 1px 2px rgba(0, 0, 0, 0.3));\n",
       "      fill: #FFFFFF;\n",
       "    }\n",
       "  </style>\n",
       "\n",
       "      <script>\n",
       "        const buttonEl =\n",
       "          document.querySelector('#df-8ee1ab9e-176c-497c-9762-b0341b3cdebe button.colab-df-convert');\n",
       "        buttonEl.style.display =\n",
       "          google.colab.kernel.accessAllowed ? 'block' : 'none';\n",
       "\n",
       "        async function convertToInteractive(key) {\n",
       "          const element = document.querySelector('#df-8ee1ab9e-176c-497c-9762-b0341b3cdebe');\n",
       "          const dataTable =\n",
       "            await google.colab.kernel.invokeFunction('convertToInteractive',\n",
       "                                                     [key], {});\n",
       "          if (!dataTable) return;\n",
       "\n",
       "          const docLinkHtml = 'Like what you see? Visit the ' +\n",
       "            '<a target=\"_blank\" href=https://colab.research.google.com/notebooks/data_table.ipynb>data table notebook</a>'\n",
       "            + ' to learn more about interactive tables.';\n",
       "          element.innerHTML = '';\n",
       "          dataTable['output_type'] = 'display_data';\n",
       "          await google.colab.output.renderOutput(dataTable, element);\n",
       "          const docLink = document.createElement('div');\n",
       "          docLink.innerHTML = docLinkHtml;\n",
       "          element.appendChild(docLink);\n",
       "        }\n",
       "      </script>\n",
       "    </div>\n",
       "  </div>\n",
       "  "
      ],
      "text/plain": [
       "             id  vas_id             buy_time  ...        250      251  252\n",
       "0       3532789     1.0  2018-07-08 21:00:00  ... -12.175933 -0.45614  0.0\n",
       "1        167964     4.0  2018-07-08 21:00:00  ...  -7.175933 -0.45614  0.0\n",
       "2       4236220     1.0  2018-07-08 21:00:00  ... -12.175933 -0.45614  1.0\n",
       "3       3883492     4.0  2018-07-08 21:00:00  ...  -9.175933 -0.45614  1.0\n",
       "4       2847225     1.0  2018-07-08 21:00:00  ... -12.175933 -0.45614  0.0\n",
       "...         ...     ...                  ...  ...        ...      ...  ...\n",
       "408719   555080     5.0  2018-12-30 21:00:00  ... -12.175933 -0.45614  0.0\n",
       "408720  1729471     5.0  2018-12-30 21:00:00  ... -12.175933 -0.45614  0.0\n",
       "408721  3676177     2.0  2018-12-30 21:00:00  ... -12.175933 -0.45614  0.0\n",
       "408722  2255038     2.0  2018-12-30 21:00:00  ... -12.175933 -0.45614  0.0\n",
       "408723  3022610     2.0  2018-12-30 21:00:00  ... -12.175933 -0.45614  0.0\n",
       "\n",
       "[408724 rows x 257 columns]"
      ]
     },
     "execution_count": 15,
     "metadata": {},
     "output_type": "execute_result"
    }
   ],
   "source": [
    "# Уменьшим объем датафрейма\n",
    "reduce_mem_usage(id_merge_train)"
   ]
  },
  {
   "cell_type": "code",
   "execution_count": 16,
   "metadata": {
    "colab": {
     "base_uri": "https://localhost:8080/"
    },
    "id": "RNds9byRCkxR",
    "outputId": "95dda2bc-353f-4e9a-9647-d46b8f27fba6"
   },
   "outputs": [
    {
     "data": {
      "text/plain": [
       "2018-07-08 21:00:00      373\n",
       "2018-07-15 21:00:00     2485\n",
       "2018-07-22 21:00:00     6708\n",
       "2018-07-29 21:00:00     4067\n",
       "2018-08-05 21:00:00     9397\n",
       "2018-08-12 21:00:00     9315\n",
       "2018-08-19 21:00:00     9932\n",
       "2018-08-26 21:00:00     9862\n",
       "2018-09-02 21:00:00     8376\n",
       "2018-09-09 21:00:00    12290\n",
       "2018-09-16 21:00:00    12828\n",
       "2018-09-23 21:00:00    12109\n",
       "2018-09-30 21:00:00    12104\n",
       "2018-10-07 21:00:00    11395\n",
       "2018-10-14 21:00:00    12439\n",
       "2018-10-21 21:00:00    11778\n",
       "2018-10-28 21:00:00    12740\n",
       "2018-11-04 21:00:00    12639\n",
       "2018-11-11 21:00:00    11260\n",
       "2018-11-18 21:00:00    14910\n",
       "2018-11-25 21:00:00     7712\n",
       "2018-12-02 21:00:00     6824\n",
       "2018-12-09 21:00:00    31067\n",
       "2018-12-16 21:00:00    76450\n",
       "2018-12-23 21:00:00    47101\n",
       "2018-12-30 21:00:00    42563\n",
       "Name: buy_time, dtype: int64"
      ]
     },
     "execution_count": 16,
     "metadata": {},
     "output_type": "execute_result"
    }
   ],
   "source": [
    "id_merge_train['buy_time'].value_counts(sort=False)"
   ]
  },
  {
   "cell_type": "code",
   "execution_count": 17,
   "metadata": {
    "colab": {
     "base_uri": "https://localhost:8080/"
    },
    "id": "jlJ4BEVzkQkj",
    "outputId": "b8b4954b-4591-4adb-8a85-548b584eb3d2"
   },
   "outputs": [
    {
     "name": "stdout",
     "output_type": "stream",
     "text": [
      "<class 'pandas.core.frame.DataFrame'>\n",
      "RangeIndex: 408724 entries, 0 to 408723\n",
      "Columns: 257 entries, id to 252\n",
      "dtypes: category(1), float32(255), int32(1)\n",
      "memory usage: 399.5 MB\n"
     ]
    }
   ],
   "source": [
    "id_merge_train.info()"
   ]
  },
  {
   "cell_type": "code",
   "execution_count": 18,
   "metadata": {
    "colab": {
     "base_uri": "https://localhost:8080/"
    },
    "id": "a3B6O2aTkpU8",
    "outputId": "c13b4d9a-e905-406d-a28c-7dfbcc42b7c7"
   },
   "outputs": [
    {
     "name": "stdout",
     "output_type": "stream",
     "text": [
      "Процент значения null: 0%\n"
     ]
    }
   ],
   "source": [
    "# Пропущенных значений в датасете нет\n",
    "print('Процент значения null: %d%%' % float((id_merge_train.isnull().sum() > 0).sum()/id_merge_train.shape[1]*100))\n",
    "\n",
    "# Заменим дату обратно на формат timestamp\n",
    "id_merge_train['buy_time'] = pd.to_datetime(id_merge_train['buy_time']).astype(np.int64) // 10 ** 9"
   ]
  },
  {
   "cell_type": "code",
   "execution_count": 19,
   "metadata": {
    "colab": {
     "base_uri": "https://localhost:8080/"
    },
    "id": "f-lUliTgNfOK",
    "outputId": "a1048b8d-b336-498a-a154-38a4d5fd0645"
   },
   "outputs": [
    {
     "data": {
      "text/plain": [
       "0.0    0.909252\n",
       "1.0    0.090748\n",
       "Name: target, dtype: float64"
      ]
     },
     "execution_count": 19,
     "metadata": {},
     "output_type": "execute_result"
    }
   ],
   "source": [
    "# Посмотрим на соотношение целевой переменной\n",
    "# Наблюдается большой перевес нулевого класса\n",
    "id_merge_train['target'].value_counts()/id_merge_train['target'].shape"
   ]
  },
  {
   "cell_type": "code",
   "execution_count": 20,
   "metadata": {
    "colab": {
     "base_uri": "https://localhost:8080/",
     "height": 287
    },
    "id": "FYRgf1EOodlF",
    "outputId": "15420442-f208-4b23-e2d3-9dd046887944"
   },
   "outputs": [
    {
     "data": {
      "image/png": "[encoded data removed]",
      "text/plain": [
       "<Figure size 432x288 with 1 Axes>"
      ]
     },
     "metadata": {
      "needs_background": "light"
     },
     "output_type": "display_data"
    }
   ],
   "source": [
    "# Построим график\n",
    "(id_merge_train['target'].value_counts()/id_merge_train['target'].shape).plot(kind='bar', title='Распределение целевой переменной', color='red')\n",
    "plt.show()"
   ]
  },
  {
   "cell_type": "markdown",
   "metadata": {
    "id": "0NbYhFUip35s"
   },
   "source": [
    "### **Разделим данные на TRAIN и TEST**"
   ]
  },
  {
   "cell_type": "code",
   "execution_count": 21,
   "metadata": {
    "colab": {
     "base_uri": "https://localhost:8080/"
    },
    "id": "w-iU5qOVNfPG",
    "outputId": "fcabff99-dbec-44a7-f40f-ed0307bd99ad"
   },
   "outputs": [
    {
     "name": "stdout",
     "output_type": "stream",
     "text": [
      "Train\n",
      "0.0    0.904231\n",
      "1.0    0.095769\n",
      "Name: target, dtype: float64\n",
      "(319060, 256) (319060,)\n",
      "\n",
      "Test\n",
      "0.0    0.927117\n",
      "1.0    0.072883\n",
      "Name: target, dtype: float64\n",
      "(89664, 256) (89664,)\n"
     ]
    }
   ],
   "source": [
    "# Разделим данные на train и test по временному принципу, \n",
    "# то есть на train оставить данные до '2018-12-23 21:00:00', а на test - после\n",
    "# получится примерно 28% выборки на test (для проверки предсказаний)\n",
    "\n",
    "temp_train = id_merge_train[id_merge_train['buy_time'] < 1545598800]\n",
    "temp_test = id_merge_train[id_merge_train['buy_time'] >= 1545598800]\n",
    "\n",
    "# Разделим признаки и целевую переменную\n",
    "y_train = temp_train['target']\n",
    "X_train = temp_train.drop('target', axis=1)\n",
    "\n",
    "y_test = temp_test['target']\n",
    "X_test= temp_test.drop('target', axis=1)\n",
    "\n",
    "print('Train')\n",
    "print(y_train.value_counts()/y_train.shape[0])\n",
    "print(X_train.shape, y_train.shape)\n",
    "print()\n",
    "print('Test')\n",
    "print(y_test.value_counts()/y_test.shape[0])\n",
    "print(X_test.shape, y_test.shape)"
   ]
  },
  {
   "cell_type": "markdown",
   "metadata": {
    "id": "zCAuVSAlto_W"
   },
   "source": [
    "### **Сделаем Pipeline для Baseline модели**"
   ]
  },
  {
   "cell_type": "code",
   "execution_count": 22,
   "metadata": {
    "id": "7B5eVTyKNfPT"
   },
   "outputs": [],
   "source": [
    "# Используем для построения Baseline модели логистическую регрессию\n",
    "# Добавим Baseline модель в Pipeline\n",
    "bl_lg_estimator = Pipeline([\n",
    "    ('log_reg', LogisticRegression(random_state=RANDOM_STATE))\n",
    "])"
   ]
  },
  {
   "cell_type": "markdown",
   "metadata": {
    "id": "SF3bUR7Tu9Td"
   },
   "source": [
    "### **Оценим качество модели с помощью Кросс-валидации**"
   ]
  },
  {
   "cell_type": "code",
   "execution_count": 23,
   "metadata": {
    "id": "tZEEZzLDNfPa"
   },
   "outputs": [],
   "source": [
    "# Построим кросс-валидацию на 5-ти фолдах\n",
    "# В качестве метрики будет f1_macro\n",
    "kfold_cv = KFold(n_splits=5, shuffle=True, random_state=RANDOM_STATE)"
   ]
  },
  {
   "cell_type": "code",
   "execution_count": 24,
   "metadata": {
    "id": "430WBraxwqkw"
   },
   "outputs": [],
   "source": [
    "# # Посмотрим на базовую метрику\n",
    "# run_cv(bl_lg_estimator, kfold_cv, X_train, y_train, model_name='Baseline')\n",
    "\n",
    "# # Baseline: f1_macro = 0.47 (+/- 0.00)"
   ]
  },
  {
   "cell_type": "code",
   "execution_count": 25,
   "metadata": {
    "id": "ZTRL0NM-QgkB"
   },
   "outputs": [],
   "source": [
    "# Создадим таблицу для сравнения моделей\n",
    "compare_table = pd.DataFrame({\n",
    "    'Model_name': ['Baseline_LogisticRegression'],\n",
    "    'Pipeline_name': 'bl_lg_estimator',\n",
    "    'F1_macro': [0.47],\n",
    "    'Best_params': '-'\n",
    "    })"
   ]
  },
  {
   "cell_type": "code",
   "execution_count": 26,
   "metadata": {
    "colab": {
     "base_uri": "https://localhost:8080/",
     "height": 81
    },
    "id": "lK3ntrKMQW6Z",
    "outputId": "9132ed1e-821a-4040-9ee6-dfbb7cc3f711"
   },
   "outputs": [
    {
     "data": {
      "text/html": [
       "\n",
       "  <div id=\"df-f1cf5bb9-309c-44c5-aa53-5c4098bf3dea\">\n",
       "    <div class=\"colab-df-container\">\n",
       "      <div>\n",
       "<style scoped>\n",
       "    .dataframe tbody tr th:only-of-type {\n",
       "        vertical-align: middle;\n",
       "    }\n",
       "\n",
       "    .dataframe tbody tr th {\n",
       "        vertical-align: top;\n",
       "    }\n",
       "\n",
       "    .dataframe thead th {\n",
       "        text-align: right;\n",
       "    }\n",
       "</style>\n",
       "<table border=\"1\" class=\"dataframe\">\n",
       "  <thead>\n",
       "    <tr style=\"text-align: right;\">\n",
       "      <th></th>\n",
       "      <th>Model_name</th>\n",
       "      <th>Pipeline_name</th>\n",
       "      <th>F1_macro</th>\n",
       "      <th>Best_params</th>\n",
       "    </tr>\n",
       "  </thead>\n",
       "  <tbody>\n",
       "    <tr>\n",
       "      <th>0</th>\n",
       "      <td>Baseline_LogisticRegression</td>\n",
       "      <td>bl_lg_estimator</td>\n",
       "      <td>0.47</td>\n",
       "      <td>-</td>\n",
       "    </tr>\n",
       "  </tbody>\n",
       "</table>\n",
       "</div>\n",
       "      <button class=\"colab-df-convert\" onclick=\"convertToInteractive('df-f1cf5bb9-309c-44c5-aa53-5c4098bf3dea')\"\n",
       "              title=\"Convert this dataframe to an interactive table.\"\n",
       "              style=\"display:none;\">\n",
       "        \n",
       "  <svg xmlns=\"http://www.w3.org/2000/svg\" height=\"24px\"viewBox=\"0 0 24 24\"\n",
       "       width=\"24px\">\n",
       "    <path d=\"M0 0h24v24H0V0z\" fill=\"none\"/>\n",
       "    <path d=\"M18.56 5.44l.94 2.06.94-2.06 2.06-.94-2.06-.94-.94-2.06-.94 2.06-2.06.94zm-11 1L8.5 8.5l.94-2.06 2.06-.94-2.06-.94L8.5 2.5l-.94 2.06-2.06.94zm10 10l.94 2.06.94-2.06 2.06-.94-2.06-.94-.94-2.06-.94 2.06-2.06.94z\"/><path d=\"M17.41 7.96l-1.37-1.37c-.4-.4-.92-.59-1.43-.59-.52 0-1.04.2-1.43.59L10.3 9.45l-7.72 7.72c-.78.78-.78 2.05 0 2.83L4 21.41c.39.39.9.59 1.41.59.51 0 1.02-.2 1.41-.59l7.78-7.78 2.81-2.81c.8-.78.8-2.07 0-2.86zM5.41 20L4 18.59l7.72-7.72 1.47 1.35L5.41 20z\"/>\n",
       "  </svg>\n",
       "      </button>\n",
       "      \n",
       "  <style>\n",
       "    .colab-df-container {\n",
       "      display:flex;\n",
       "      flex-wrap:wrap;\n",
       "      gap: 12px;\n",
       "    }\n",
       "\n",
       "    .colab-df-convert {\n",
       "      background-color: #E8F0FE;\n",
       "      border: none;\n",
       "      border-radius: 50%;\n",
       "      cursor: pointer;\n",
       "      display: none;\n",
       "      fill: #1967D2;\n",
       "      height: 32px;\n",
       "      padding: 0 0 0 0;\n",
       "      width: 32px;\n",
       "    }\n",
       "\n",
       "    .colab-df-convert:hover {\n",
       "      background-color: #E2EBFA;\n",
       "      box-shadow: 0px 1px 2px rgba(60, 64, 67, 0.3), 0px 1px 3px 1px rgba(60, 64, 67, 0.15);\n",
       "      fill: #174EA6;\n",
       "    }\n",
       "\n",
       "    [theme=dark] .colab-df-convert {\n",
       "      background-color: #3B4455;\n",
       "      fill: #D2E3FC;\n",
       "    }\n",
       "\n",
       "    [theme=dark] .colab-df-convert:hover {\n",
       "      background-color: #434B5C;\n",
       "      box-shadow: 0px 1px 3px 1px rgba(0, 0, 0, 0.15);\n",
       "      filter: drop-shadow(0px 1px 2px rgba(0, 0, 0, 0.3));\n",
       "      fill: #FFFFFF;\n",
       "    }\n",
       "  </style>\n",
       "\n",
       "      <script>\n",
       "        const buttonEl =\n",
       "          document.querySelector('#df-f1cf5bb9-309c-44c5-aa53-5c4098bf3dea button.colab-df-convert');\n",
       "        buttonEl.style.display =\n",
       "          google.colab.kernel.accessAllowed ? 'block' : 'none';\n",
       "\n",
       "        async function convertToInteractive(key) {\n",
       "          const element = document.querySelector('#df-f1cf5bb9-309c-44c5-aa53-5c4098bf3dea');\n",
       "          const dataTable =\n",
       "            await google.colab.kernel.invokeFunction('convertToInteractive',\n",
       "                                                     [key], {});\n",
       "          if (!dataTable) return;\n",
       "\n",
       "          const docLinkHtml = 'Like what you see? Visit the ' +\n",
       "            '<a target=\"_blank\" href=https://colab.research.google.com/notebooks/data_table.ipynb>data table notebook</a>'\n",
       "            + ' to learn more about interactive tables.';\n",
       "          element.innerHTML = '';\n",
       "          dataTable['output_type'] = 'display_data';\n",
       "          await google.colab.output.renderOutput(dataTable, element);\n",
       "          const docLink = document.createElement('div');\n",
       "          docLink.innerHTML = docLinkHtml;\n",
       "          element.appendChild(docLink);\n",
       "        }\n",
       "      </script>\n",
       "    </div>\n",
       "  </div>\n",
       "  "
      ],
      "text/plain": [
       "                    Model_name    Pipeline_name  F1_macro Best_params\n",
       "0  Baseline_LogisticRegression  bl_lg_estimator      0.47           -"
      ]
     },
     "execution_count": 26,
     "metadata": {},
     "output_type": "execute_result"
    }
   ],
   "source": [
    "compare_table"
   ]
  },
  {
   "cell_type": "markdown",
   "metadata": {
    "id": "Uw1ui9SN4ABk"
   },
   "source": [
    "### **Построим графики и метрики Baseline модели для тестовых данных**"
   ]
  },
  {
   "cell_type": "code",
   "execution_count": 27,
   "metadata": {
    "id": "km_X22oy-k4G"
   },
   "outputs": [],
   "source": [
    "# Обучим модель и предскажем таргет\n",
    "bl_lg_estimator.fit(X_train, y_train)\n",
    "bl_y_pred = bl_lg_estimator.predict_proba(X_test)[:,1]"
   ]
  },
  {
   "cell_type": "code",
   "execution_count": 28,
   "metadata": {
    "colab": {
     "base_uri": "https://localhost:8080/",
     "height": 281
    },
    "id": "0k_VqZvMCUQe",
    "outputId": "e1716212-1132-4603-a83f-613f06d7cba7"
   },
   "outputs": [
    {
     "data": {
      "image/png": "[encoded data removed]",
      "text/plain": [
       "<Figure size 432x288 with 1 Axes>"
      ]
     },
     "metadata": {
      "needs_background": "light"
     },
     "output_type": "display_data"
    }
   ],
   "source": [
    "# Посмотрим на распределение предсказаний Baseline модели\n",
    "plt.title('Baseline: распределение предсказаний модели')\n",
    "plt.hist(bl_y_pred[~y_test.astype(bool)], bins=5, color='r', alpha=0.7);\n",
    "plt.hist(bl_y_pred[y_test.astype(bool)], bins=5, color='b', alpha=0.7);"
   ]
  },
  {
   "cell_type": "code",
   "execution_count": 29,
   "metadata": {
    "id": "-CFyiPlDCUTn"
   },
   "outputs": [],
   "source": [
    "# Построим ROC и PR кривые\n",
    "fpr, tpr, roc_thresholds = roc_curve(y_test, bl_y_pred)\n",
    "precision, recall, pr_thresholds = precision_recall_curve(y_test, bl_y_pred)"
   ]
  },
  {
   "cell_type": "code",
   "execution_count": 30,
   "metadata": {
    "colab": {
     "base_uri": "https://localhost:8080/",
     "height": 475
    },
    "id": "tAMEDyxUCUW1",
    "outputId": "aead3a89-2807-4aaf-d342-cc906d6e75a2"
   },
   "outputs": [
    {
     "name": "stdout",
     "output_type": "stream",
     "text": [
      "Baseline: AUC_ROC = 0.562\n"
     ]
    },
    {
     "data": {
      "image/png": "[encoded data removed]",
      "text/plain": [
       "<Figure size 504x504 with 1 Axes>"
      ]
     },
     "metadata": {
      "needs_background": "light"
     },
     "output_type": "display_data"
    }
   ],
   "source": [
    "# Кривая базовой модели проходит выше диагонали,\n",
    "# следовательно наша модель работает лучше, чем случаное предсказание\n",
    "plt.figure(figsize=(7, 7))\n",
    "plot_roc_curve(fpr, tpr, 'Baseline', color='r')\n",
    "print('Baseline: AUC_ROC = %.3f' % auc(fpr, tpr))"
   ]
  },
  {
   "cell_type": "code",
   "execution_count": 31,
   "metadata": {
    "colab": {
     "base_uri": "https://localhost:8080/",
     "height": 475
    },
    "id": "6-wDsaFX_It_",
    "outputId": "5b3e0b5a-3b85-4669-f0e2-97a4e722d92e"
   },
   "outputs": [
    {
     "name": "stdout",
     "output_type": "stream",
     "text": [
      "Baseline: AUC_PR = 0.087\n"
     ]
    },
    {
     "data": {
      "image/png": "[encoded data removed]",
      "text/plain": [
       "<Figure size 504x504 with 1 Axes>"
      ]
     },
     "metadata": {
      "needs_background": "light"
     },
     "output_type": "display_data"
    }
   ],
   "source": [
    "plt.figure(figsize=(7, 7))    \n",
    "plot_precision_recall_curve(recall, precision, 'Baseline', color='r')\n",
    "print('Baseline: AUC_PR = %.3f' % auc(recall, precision))"
   ]
  },
  {
   "cell_type": "code",
   "execution_count": 32,
   "metadata": {
    "colab": {
     "base_uri": "https://localhost:8080/",
     "height": 349
    },
    "id": "KAhi33UO_Izt",
    "outputId": "2279be77-2fe8-4059-8ee9-3fccee3f4d38"
   },
   "outputs": [
    {
     "name": "stdout",
     "output_type": "stream",
     "text": [
      "Confusion matrix, without normalization\n",
      "[[83129     0]\n",
      " [ 6535     0]]\n"
     ]
    },
    {
     "data": {
      "image/png": "[encoded data removed]",
      "text/plain": [
       "<Figure size 432x288 with 1 Axes>"
      ]
     },
     "metadata": {
      "needs_background": "light"
     },
     "output_type": "display_data"
    }
   ],
   "source": [
    "# Построим матрицу смежности\n",
    "# TN                FP(Type II error)\n",
    "# \n",
    "# FN(Type I error)  TP\n",
    "\n",
    "# На данном этапе поставим порог отнесения предсказаний к 1-му классу 0.5\n",
    "cm = confusion_matrix(y_test, bl_y_pred > 0.5)\n",
    "plot_confusion_matrix(cm, classes=['0', '1'], model_name='Baseline');"
   ]
  },
  {
   "cell_type": "code",
   "execution_count": 33,
   "metadata": {
    "colab": {
     "base_uri": "https://localhost:8080/"
    },
    "id": "m025yxHN_I31",
    "outputId": "95837121-7d0e-4a09-a26a-4bbf6a4e87d6"
   },
   "outputs": [
    {
     "name": "stdout",
     "output_type": "stream",
     "text": [
      "              precision    recall  f1-score   support\n",
      "\n",
      "         0.0       0.93      1.00      0.96     83129\n",
      "         1.0       0.00      0.00      0.00      6535\n",
      "\n",
      "    accuracy                           0.93     89664\n",
      "   macro avg       0.46      0.50      0.48     89664\n",
      "weighted avg       0.86      0.93      0.89     89664\n",
      "\n"
     ]
    }
   ],
   "source": [
    "# Построим отчет\n",
    "print(classification_report(y_test, bl_y_pred > 0.5))"
   ]
  },
  {
   "cell_type": "markdown",
   "metadata": {
    "id": "lb1WzSpb_efN"
   },
   "source": [
    "### **Рассмотрим признаки подробнее и определим их типы**"
   ]
  },
  {
   "cell_type": "code",
   "execution_count": 34,
   "metadata": {
    "colab": {
     "base_uri": "https://localhost:8080/"
    },
    "id": "X1WcoAoI_I-L",
    "outputId": "c67aa7a3-86e6-49f1-bd1b-50e04b10e81a"
   },
   "outputs": [
    {
     "data": {
      "text/plain": [
       "(256,)"
      ]
     },
     "execution_count": 34,
     "metadata": {},
     "output_type": "execute_result"
    }
   ],
   "source": [
    "# Оставим в датасете только уникальные значения\n",
    "X_nunique = X_train.apply(lambda x: x.nunique(dropna=False))\n",
    "X_nunique.shape"
   ]
  },
  {
   "cell_type": "code",
   "execution_count": 35,
   "metadata": {
    "colab": {
     "base_uri": "https://localhost:8080/",
     "height": 336
    },
    "id": "SR_yKTvQ_JAl",
    "outputId": "0a0d24fc-7cd6-4e74-e773-ea4c57934550"
   },
   "outputs": [
    {
     "data": {
      "image/png": "[encoded data removed]",
      "text/plain": [
       "<Figure size 720x360 with 1 Axes>"
      ]
     },
     "metadata": {
      "needs_background": "light"
     },
     "output_type": "display_data"
    }
   ],
   "source": [
    "# Из графика видно, что есть признаки, у которых мало уникальных значений, а есть - у которых много. \n",
    "# Скорее всего, где много значений - это вещественные признаки, \n",
    "# а где мало - это категориальные, integer или бинарные признаки\n",
    "plt.title('Распределение уникальных значений признаков')\n",
    "X_nunique.hist(bins=50, figsize=(10, 5));"
   ]
  },
  {
   "cell_type": "code",
   "execution_count": 36,
   "metadata": {
    "colab": {
     "base_uri": "https://localhost:8080/"
    },
    "id": "JZznAE30_JC3",
    "outputId": "a65eb462-1d3f-4c91-f0c1-d25a934283a7"
   },
   "outputs": [
    {
     "data": {
      "text/plain": [
       "0"
      ]
     },
     "execution_count": 36,
     "metadata": {},
     "output_type": "execute_result"
    }
   ],
   "source": [
    "# Выделим названия всех признаков\n",
    "f_all = set(X_nunique.index.tolist())\n",
    "\n",
    "# Найдем константные признаки\n",
    "f_const = set(X_nunique[X_nunique == 1].index.tolist())\n",
    "\n",
    "# Найдем вещественные признаки\n",
    "f_numeric = (X_train.fillna(0).astype(int).sum() - X_train.fillna(0).sum()).abs()\n",
    "f_numeric = set(f_numeric[f_numeric > 0].index.tolist())\n",
    "\n",
    "# Найдем сколько осталось признаков\n",
    "f_other = f_all - (f_numeric | f_const)\n",
    "\n",
    "# Найдем бинарные признаки\n",
    "f_binary = set(X_train.loc[:, f_other].columns[(\n",
    "                      (X_train.loc[:, f_other].max() == 1) & \\\n",
    "                      (X_train.loc[:, f_other].min() == 0) & \\\n",
    "                      (X_train.loc[:, f_other].isnull().sum() == 0))])\n",
    "\n",
    "f_other = f_other - f_binary\n",
    "\n",
    "# Найдем категориальные признаки\n",
    "f_categorical = set(X_nunique.loc[f_other][X_nunique.loc[f_other] <= 10].index.tolist())\n",
    "\n",
    "f_other = f_other - f_categorical\n",
    "\n",
    "f_numeric = f_numeric | f_other\n",
    "f_other = f_other - f_numeric\n",
    "len(f_other)"
   ]
  },
  {
   "cell_type": "code",
   "execution_count": 37,
   "metadata": {
    "id": "1cpJEouHEI1U"
   },
   "outputs": [],
   "source": [
    "# Сделаем проверку \n",
    "assert(X_nunique.shape[0] == len(f_const) + len(f_binary) + len(f_numeric) + len(f_categorical))"
   ]
  },
  {
   "cell_type": "code",
   "execution_count": 38,
   "metadata": {
    "colab": {
     "base_uri": "https://localhost:8080/"
    },
    "id": "uZW-5ITsC5Hi",
    "outputId": "e322451f-b06e-4277-d341-cb9f0c7f6b1a"
   },
   "outputs": [
    {
     "name": "stdout",
     "output_type": "stream",
     "text": [
      "ПРИЗНАКИ\n",
      "\n",
      "Всего: 256\n",
      "\n",
      "Константные: 5\n",
      "Бинарные: 0\n",
      "Категориальные: 1\n",
      "Вещественные: 250\n"
     ]
    }
   ],
   "source": [
    "print('ПРИЗНАКИ')\n",
    "print()\n",
    "print('Всего:', X_train.shape[1])\n",
    "print()\n",
    "print('Константные:', len(f_const))\n",
    "print('Бинарные:', len(f_binary))\n",
    "print('Категориальные:', len(f_categorical))\n",
    "print('Вещественные:', len(f_numeric))\n",
    "\n",
    "f_ok = list(f_binary | f_categorical | f_numeric)\n",
    "f_binary, f_categorical, f_numeric = list(f_binary), list(f_categorical), list(f_numeric)"
   ]
  },
  {
   "cell_type": "markdown",
   "metadata": {
    "id": "8wWqUTHvHTKD"
   },
   "source": [
    "### **Создадим Pipeline для обработки признаков**"
   ]
  },
  {
   "cell_type": "code",
   "execution_count": 39,
   "metadata": {
    "id": "P-CQ4fXzHw_a"
   },
   "outputs": [],
   "source": [
    "# OneHotEncoder(handle_unknown='ignore') - игнорируем значение, \n",
    "# которого не было при обучении\n",
    "f_prep_pipe = make_pipeline(\n",
    "    ColumnSelector(columns=f_ok),\n",
    "    FeatureUnion(transformer_list=[\n",
    "        ('numeric_features', make_pipeline(\n",
    "            ColumnSelector(f_numeric),\n",
    "            StandardScaler()\n",
    "        )),\n",
    "        ('categorical_features', make_pipeline(\n",
    "            ColumnSelector(f_categorical),\n",
    "            OneHotEncoder(handle_unknown='ignore')\n",
    "        ))      \n",
    "    ])\n",
    ")"
   ]
  },
  {
   "cell_type": "code",
   "execution_count": 40,
   "metadata": {
    "colab": {
     "base_uri": "https://localhost:8080/"
    },
    "id": "-PyHG2mPC5Rs",
    "outputId": "0da235c7-0fa6-408e-fb70-a2ea3261f703"
   },
   "outputs": [
    {
     "data": {
      "text/plain": [
       "[('columnselector',\n",
       "  ColumnSelector(columns=['67', '82', '91', '234', '158', '209', '198', '172',\n",
       "                          '194', '31', '235', '72', '106', '237', '164', '18',\n",
       "                          '56', '221', '216', '47', '104', '55', '242', 'vas_id',\n",
       "                          '0', '87', '33', '79', '148', '156', ...])),\n",
       " ('featureunion', FeatureUnion(transformer_list=[('numeric_features',\n",
       "                                  Pipeline(steps=[('columnselector',\n",
       "                                                   ColumnSelector(columns=['67',\n",
       "                                                                           '82',\n",
       "                                                                           '91',\n",
       "                                                                           '234',\n",
       "                                                                           '158',\n",
       "                                                                           '209',\n",
       "                                                                           '198',\n",
       "                                                                           '172',\n",
       "                                                                           '194',\n",
       "                                                                           '31',\n",
       "                                                                           '235',\n",
       "                                                                           '72',\n",
       "                                                                           '106',\n",
       "                                                                           '237',\n",
       "                                                                           '164',\n",
       "                                                                           '18',\n",
       "                                                                           '56',\n",
       "                                                                           '221',\n",
       "                                                                           '216',\n",
       "                                                                           '47',\n",
       "                                                                           '104',\n",
       "                                                                           '55',\n",
       "                                                                           '242',\n",
       "                                                                           '0',\n",
       "                                                                           '87',\n",
       "                                                                           '33',\n",
       "                                                                           '79',\n",
       "                                                                           '148',\n",
       "                                                                           '156',\n",
       "                                                                           '165', ...])),\n",
       "                                                  ('standardscaler',\n",
       "                                                   StandardScaler())])),\n",
       "                                 ('categorical_features',\n",
       "                                  Pipeline(steps=[('columnselector',\n",
       "                                                   ColumnSelector(columns=['vas_id'])),\n",
       "                                                  ('onehotencoder',\n",
       "                                                   OneHotEncoder(handle_unknown='ignore'))]))]))]"
      ]
     },
     "execution_count": 40,
     "metadata": {},
     "output_type": "execute_result"
    }
   ],
   "source": [
    "# Посмотрим на шаги Pipeline\n",
    "f_prep_pipe.steps"
   ]
  },
  {
   "cell_type": "code",
   "execution_count": 41,
   "metadata": {
    "colab": {
     "base_uri": "https://localhost:8080/"
    },
    "id": "aGDp-XeRHqpw",
    "outputId": "4394b05f-cdd9-4729-a462-f9738312e433"
   },
   "outputs": [
    {
     "data": {
      "text/plain": [
       "256"
      ]
     },
     "execution_count": 41,
     "metadata": {},
     "output_type": "execute_result"
    }
   ],
   "source": [
    "# Количество признаков до обработки\n",
    "X_test.shape[1]"
   ]
  },
  {
   "cell_type": "code",
   "execution_count": 42,
   "metadata": {
    "colab": {
     "base_uri": "https://localhost:8080/"
    },
    "id": "M8sBpIyLK-HK",
    "outputId": "5b698a0d-9ddf-466b-94e4-fdd05fb5f377"
   },
   "outputs": [
    {
     "data": {
      "text/plain": [
       "258"
      ]
     },
     "execution_count": 42,
     "metadata": {},
     "output_type": "execute_result"
    }
   ],
   "source": [
    "# Количество признаков после обработки\n",
    "f_prep_pipe.fit(X_train)\n",
    "n_features = f_prep_pipe.transform(X_test).shape[1]\n",
    "n_features"
   ]
  },
  {
   "cell_type": "markdown",
   "metadata": {
    "id": "cIF0u3unLIbn"
   },
   "source": [
    "### **Выполним поиск по сетке (Gridsearch) для Pipeline**"
   ]
  },
  {
   "cell_type": "code",
   "execution_count": 43,
   "metadata": {
    "id": "SM1GTsbZK-Oj"
   },
   "outputs": [],
   "source": [
    "# Построим новый Pipeline с предобработкой признаков\n",
    "lg_pipe = make_pipeline(\n",
    "    f_prep_pipe,\n",
    "    LogisticRegression(random_state=RANDOM_STATE)\n",
    ")"
   ]
  },
  {
   "cell_type": "code",
   "execution_count": 45,
   "metadata": {
    "colab": {
     "base_uri": "https://localhost:8080/"
    },
    "id": "6EG66KVcK-YO",
    "outputId": "668edcce-1499-4a9a-e956-e58542a28a73"
   },
   "outputs": [
    {
     "data": {
      "text/plain": [
       "['logisticregression',\n",
       " 'logisticregression__C',\n",
       " 'logisticregression__class_weight',\n",
       " 'logisticregression__dual',\n",
       " 'logisticregression__fit_intercept',\n",
       " 'logisticregression__intercept_scaling',\n",
       " 'logisticregression__l1_ratio',\n",
       " 'logisticregression__max_iter',\n",
       " 'logisticregression__multi_class',\n",
       " 'logisticregression__n_jobs',\n",
       " 'logisticregression__penalty',\n",
       " 'logisticregression__random_state',\n",
       " 'logisticregression__solver',\n",
       " 'logisticregression__tol',\n",
       " 'logisticregression__verbose',\n",
       " 'logisticregression__warm_start']"
      ]
     },
     "execution_count": 45,
     "metadata": {},
     "output_type": "execute_result"
    }
   ],
   "source": [
    "# Посмотрим на параметры модели\n",
    "[k for k in lg_pipe.get_params().keys() if 'logisticregression' in k]"
   ]
  },
  {
   "cell_type": "code",
   "execution_count": null,
   "metadata": {
    "id": "PpYUBiMNK-bI"
   },
   "outputs": [],
   "source": [
    "# # Добавим параметры для логистической регрессии для поиска по сетке\n",
    "# param_grid = {\n",
    "#     'logisticregression__penalty': ['l1', 'l2'],\n",
    "#     'logisticregression__C': [0.01, 0.1, 1.0]\n",
    "# }\n",
    "\n",
    "# lg_gsc = run_grid_search(lg_pipe, X_train, y_train, param_grid, kfold_cv)\n",
    "\n",
    "# # Best f1_macro score: 0.61\n",
    "# # Best parameters set found on development set:\n",
    "# # {'logisticregression__C': 1.0, 'logisticregression__penalty': 'l2'}\n",
    "# # Grid scores on development set:\n",
    "# # nan (+/-nan) for {'logisticregression__C': 0.01, 'logisticregression__penalty': 'l1'}\n",
    "# # 0.597 (+/-0.005) for {'logisticregression__C': 0.01, 'logisticregression__penalty': 'l2'}\n",
    "# # nan (+/-nan) for {'logisticregression__C': 0.1, 'logisticregression__penalty': 'l1'}\n",
    "# # 0.607 (+/-0.005) for {'logisticregression__C': 0.1, 'logisticregression__penalty': 'l2'}\n",
    "# # nan (+/-nan) for {'logisticregression__C': 1.0, 'logisticregression__penalty': 'l1'}\n",
    "# # 0.608 (+/-0.005) for {'logisticregression__C': 1.0, 'logisticregression__penalty': 'l2'}"
   ]
  },
  {
   "cell_type": "code",
   "execution_count": 44,
   "metadata": {
    "id": "WkeN4xevHqt7"
   },
   "outputs": [],
   "source": [
    "compare_table.loc[1] = ['Prep_features_LogisticRegression', \n",
    "                        'lg_pipe', \n",
    "                        0.61, \n",
    "                        \"{'logisticregression__C': 1.0, 'logisticregression__penalty': 'l2'}\"]"
   ]
  },
  {
   "cell_type": "code",
   "execution_count": 46,
   "metadata": {
    "colab": {
     "base_uri": "https://localhost:8080/",
     "height": 112
    },
    "id": "CtXRFqqqHqyQ",
    "outputId": "1d5f52ed-4f8b-4fe8-ca61-019038a98ba4"
   },
   "outputs": [
    {
     "data": {
      "text/html": [
       "\n",
       "  <div id=\"df-22de6386-cdd8-4de5-b984-17ceb4a295cf\">\n",
       "    <div class=\"colab-df-container\">\n",
       "      <div>\n",
       "<style scoped>\n",
       "    .dataframe tbody tr th:only-of-type {\n",
       "        vertical-align: middle;\n",
       "    }\n",
       "\n",
       "    .dataframe tbody tr th {\n",
       "        vertical-align: top;\n",
       "    }\n",
       "\n",
       "    .dataframe thead th {\n",
       "        text-align: right;\n",
       "    }\n",
       "</style>\n",
       "<table border=\"1\" class=\"dataframe\">\n",
       "  <thead>\n",
       "    <tr style=\"text-align: right;\">\n",
       "      <th></th>\n",
       "      <th>Model_name</th>\n",
       "      <th>Pipeline_name</th>\n",
       "      <th>F1_macro</th>\n",
       "      <th>Best_params</th>\n",
       "    </tr>\n",
       "  </thead>\n",
       "  <tbody>\n",
       "    <tr>\n",
       "      <th>0</th>\n",
       "      <td>Baseline_LogisticRegression</td>\n",
       "      <td>bl_lg_estimator</td>\n",
       "      <td>0.47</td>\n",
       "      <td>-</td>\n",
       "    </tr>\n",
       "    <tr>\n",
       "      <th>1</th>\n",
       "      <td>Prep_features_LogisticRegression</td>\n",
       "      <td>lg_pipe</td>\n",
       "      <td>0.61</td>\n",
       "      <td>{'logisticregression__C': 1.0, 'logisticregres...</td>\n",
       "    </tr>\n",
       "  </tbody>\n",
       "</table>\n",
       "</div>\n",
       "      <button class=\"colab-df-convert\" onclick=\"convertToInteractive('df-22de6386-cdd8-4de5-b984-17ceb4a295cf')\"\n",
       "              title=\"Convert this dataframe to an interactive table.\"\n",
       "              style=\"display:none;\">\n",
       "        \n",
       "  <svg xmlns=\"http://www.w3.org/2000/svg\" height=\"24px\"viewBox=\"0 0 24 24\"\n",
       "       width=\"24px\">\n",
       "    <path d=\"M0 0h24v24H0V0z\" fill=\"none\"/>\n",
       "    <path d=\"M18.56 5.44l.94 2.06.94-2.06 2.06-.94-2.06-.94-.94-2.06-.94 2.06-2.06.94zm-11 1L8.5 8.5l.94-2.06 2.06-.94-2.06-.94L8.5 2.5l-.94 2.06-2.06.94zm10 10l.94 2.06.94-2.06 2.06-.94-2.06-.94-.94-2.06-.94 2.06-2.06.94z\"/><path d=\"M17.41 7.96l-1.37-1.37c-.4-.4-.92-.59-1.43-.59-.52 0-1.04.2-1.43.59L10.3 9.45l-7.72 7.72c-.78.78-.78 2.05 0 2.83L4 21.41c.39.39.9.59 1.41.59.51 0 1.02-.2 1.41-.59l7.78-7.78 2.81-2.81c.8-.78.8-2.07 0-2.86zM5.41 20L4 18.59l7.72-7.72 1.47 1.35L5.41 20z\"/>\n",
       "  </svg>\n",
       "      </button>\n",
       "      \n",
       "  <style>\n",
       "    .colab-df-container {\n",
       "      display:flex;\n",
       "      flex-wrap:wrap;\n",
       "      gap: 12px;\n",
       "    }\n",
       "\n",
       "    .colab-df-convert {\n",
       "      background-color: #E8F0FE;\n",
       "      border: none;\n",
       "      border-radius: 50%;\n",
       "      cursor: pointer;\n",
       "      display: none;\n",
       "      fill: #1967D2;\n",
       "      height: 32px;\n",
       "      padding: 0 0 0 0;\n",
       "      width: 32px;\n",
       "    }\n",
       "\n",
       "    .colab-df-convert:hover {\n",
       "      background-color: #E2EBFA;\n",
       "      box-shadow: 0px 1px 2px rgba(60, 64, 67, 0.3), 0px 1px 3px 1px rgba(60, 64, 67, 0.15);\n",
       "      fill: #174EA6;\n",
       "    }\n",
       "\n",
       "    [theme=dark] .colab-df-convert {\n",
       "      background-color: #3B4455;\n",
       "      fill: #D2E3FC;\n",
       "    }\n",
       "\n",
       "    [theme=dark] .colab-df-convert:hover {\n",
       "      background-color: #434B5C;\n",
       "      box-shadow: 0px 1px 3px 1px rgba(0, 0, 0, 0.15);\n",
       "      filter: drop-shadow(0px 1px 2px rgba(0, 0, 0, 0.3));\n",
       "      fill: #FFFFFF;\n",
       "    }\n",
       "  </style>\n",
       "\n",
       "      <script>\n",
       "        const buttonEl =\n",
       "          document.querySelector('#df-22de6386-cdd8-4de5-b984-17ceb4a295cf button.colab-df-convert');\n",
       "        buttonEl.style.display =\n",
       "          google.colab.kernel.accessAllowed ? 'block' : 'none';\n",
       "\n",
       "        async function convertToInteractive(key) {\n",
       "          const element = document.querySelector('#df-22de6386-cdd8-4de5-b984-17ceb4a295cf');\n",
       "          const dataTable =\n",
       "            await google.colab.kernel.invokeFunction('convertToInteractive',\n",
       "                                                     [key], {});\n",
       "          if (!dataTable) return;\n",
       "\n",
       "          const docLinkHtml = 'Like what you see? Visit the ' +\n",
       "            '<a target=\"_blank\" href=https://colab.research.google.com/notebooks/data_table.ipynb>data table notebook</a>'\n",
       "            + ' to learn more about interactive tables.';\n",
       "          element.innerHTML = '';\n",
       "          dataTable['output_type'] = 'display_data';\n",
       "          await google.colab.output.renderOutput(dataTable, element);\n",
       "          const docLink = document.createElement('div');\n",
       "          docLink.innerHTML = docLinkHtml;\n",
       "          element.appendChild(docLink);\n",
       "        }\n",
       "      </script>\n",
       "    </div>\n",
       "  </div>\n",
       "  "
      ],
      "text/plain": [
       "                         Model_name  ...                                        Best_params\n",
       "0       Baseline_LogisticRegression  ...                                                  -\n",
       "1  Prep_features_LogisticRegression  ...  {'logisticregression__C': 1.0, 'logisticregres...\n",
       "\n",
       "[2 rows x 4 columns]"
      ]
     },
     "execution_count": 46,
     "metadata": {},
     "output_type": "execute_result"
    }
   ],
   "source": [
    "# С предобработкой признаков метрика улучшилась, \n",
    "# при этом параметры для логистической регрессии оказались лучше всего по умолчанию\n",
    "compare_table"
   ]
  },
  {
   "cell_type": "markdown",
   "metadata": {
    "id": "rmNzmM9fV2ts"
   },
   "source": [
    "### **Отберем значимые признаки в Pipeline**"
   ]
  },
  {
   "cell_type": "code",
   "execution_count": 47,
   "metadata": {
    "id": "eMU04NzSVqNw"
   },
   "outputs": [],
   "source": [
    "# Воспользуемся классом SelectFromModel для отбора значимых признаков\n",
    "# Атрибут estimator класса SelectFromModel должен иметь хотя бы один из атрибутов \n",
    "# feature_importances_ или coef_ после выполнения метода fit\n",
    "\n",
    "fs_pipe = make_pipeline(\n",
    "    f_prep_pipe,\n",
    "    SelectFromModel(LogisticRegression(penalty='l2', random_state=RANDOM_STATE, solver='sag'), threshold=1e-3),\n",
    ")"
   ]
  },
  {
   "cell_type": "code",
   "execution_count": 48,
   "metadata": {
    "id": "KAwE0ODSVl7P"
   },
   "outputs": [],
   "source": [
    "# f_prep_pipe.fit(X_train)\n",
    "# f_prep_pipe.transform(X_test).shape\n",
    "# # (89664, 258)"
   ]
  },
  {
   "cell_type": "code",
   "execution_count": 49,
   "metadata": {
    "id": "VaEnuceaUnrs"
   },
   "outputs": [],
   "source": [
    "# # Логистическая регрессия из SelectFromModel обнулила 246 признаков при пороге 1e-2.\n",
    "# fs_pipe.fit(X_train, y_train)\n",
    "# fs_pipe.transform(X_test).shape\n",
    "# # (89664, 12)"
   ]
  },
  {
   "cell_type": "code",
   "execution_count": 50,
   "metadata": {
    "id": "XLTsKnfIVmAG"
   },
   "outputs": [],
   "source": [
    "# # Логистическая регрессия из SelectFromModel обнулила 73 признака при пороге 1e-3.\n",
    "# fs_pipe.fit(X_train, y_train)\n",
    "# fs_pipe.transform(X_test).shape\n",
    "# # (89664, 185)"
   ]
  },
  {
   "cell_type": "code",
   "execution_count": 51,
   "metadata": {
    "id": "bk3_3B0KVvcg"
   },
   "outputs": [],
   "source": [
    "fs_lg_pipe = make_pipeline(\n",
    "    f_prep_pipe,\n",
    "    SelectFromModel(LogisticRegression(penalty='l2', random_state=RANDOM_STATE, solver='sag'), threshold=1e-2),\n",
    "    LogisticRegression(random_state=RANDOM_STATE)\n",
    ")"
   ]
  },
  {
   "cell_type": "code",
   "execution_count": 52,
   "metadata": {
    "id": "8RR8f28Lx1sE"
   },
   "outputs": [],
   "source": [
    "# param_grid = [\n",
    "#     {'selectfrommodel__threshold': [1e-2, 1e-3]},\n",
    "# ]\n",
    "\n",
    "# fs_lg_gsc = run_grid_search(fs_lg_pipe, X_train, y_train, param_grid, kfold_cv)\n",
    "\n",
    "# # Best f1_macro score: 0.61\n",
    "# # Best parameters set found on development set:\n",
    "# # {'selectfrommodel__threshold': 0.001}\n",
    "# # Grid scores on development set:\n",
    "# # 0.607 (+/-0.005) for {'selectfrommodel__threshold': 0.01}\n",
    "# # 0.608 (+/-0.004) for {'selectfrommodel__threshold': 0.001}"
   ]
  },
  {
   "cell_type": "code",
   "execution_count": 53,
   "metadata": {
    "id": "SNuxEJm1XqPG"
   },
   "outputs": [],
   "source": [
    "# Несмотря на то, что модель показала лучшим показателем порог 0.001,\n",
    "# для модели возьмем порог 0.01, так как при нем отсекается больше признаков,\n",
    "# а точность меньше всего на 0.001\n",
    "compare_table.loc[2] = ['Prep_f_SelectFromModel_LogisticRegression', \n",
    "                        'fs_lg_pipe', \n",
    "                        0.61, \n",
    "                        \"{'selectfrommodel__threshold': 0.01}\"]"
   ]
  },
  {
   "cell_type": "code",
   "execution_count": 54,
   "metadata": {
    "colab": {
     "base_uri": "https://localhost:8080/",
     "height": 143
    },
    "id": "N4yuIQkqXqWY",
    "outputId": "8741e217-334d-49f4-b297-1c746a70ea02"
   },
   "outputs": [
    {
     "data": {
      "text/html": [
       "\n",
       "  <div id=\"df-292bc2b9-a12b-44da-99ac-2e1ff0c7fe07\">\n",
       "    <div class=\"colab-df-container\">\n",
       "      <div>\n",
       "<style scoped>\n",
       "    .dataframe tbody tr th:only-of-type {\n",
       "        vertical-align: middle;\n",
       "    }\n",
       "\n",
       "    .dataframe tbody tr th {\n",
       "        vertical-align: top;\n",
       "    }\n",
       "\n",
       "    .dataframe thead th {\n",
       "        text-align: right;\n",
       "    }\n",
       "</style>\n",
       "<table border=\"1\" class=\"dataframe\">\n",
       "  <thead>\n",
       "    <tr style=\"text-align: right;\">\n",
       "      <th></th>\n",
       "      <th>Model_name</th>\n",
       "      <th>Pipeline_name</th>\n",
       "      <th>F1_macro</th>\n",
       "      <th>Best_params</th>\n",
       "    </tr>\n",
       "  </thead>\n",
       "  <tbody>\n",
       "    <tr>\n",
       "      <th>0</th>\n",
       "      <td>Baseline_LogisticRegression</td>\n",
       "      <td>bl_lg_estimator</td>\n",
       "      <td>0.47</td>\n",
       "      <td>-</td>\n",
       "    </tr>\n",
       "    <tr>\n",
       "      <th>1</th>\n",
       "      <td>Prep_features_LogisticRegression</td>\n",
       "      <td>lg_pipe</td>\n",
       "      <td>0.61</td>\n",
       "      <td>{'logisticregression__C': 1.0, 'logisticregres...</td>\n",
       "    </tr>\n",
       "    <tr>\n",
       "      <th>2</th>\n",
       "      <td>Prep_f_SelectFromModel_LogisticRegression</td>\n",
       "      <td>fs_lg_pipe</td>\n",
       "      <td>0.61</td>\n",
       "      <td>{'selectfrommodel__threshold': 0.01}</td>\n",
       "    </tr>\n",
       "  </tbody>\n",
       "</table>\n",
       "</div>\n",
       "      <button class=\"colab-df-convert\" onclick=\"convertToInteractive('df-292bc2b9-a12b-44da-99ac-2e1ff0c7fe07')\"\n",
       "              title=\"Convert this dataframe to an interactive table.\"\n",
       "              style=\"display:none;\">\n",
       "        \n",
       "  <svg xmlns=\"http://www.w3.org/2000/svg\" height=\"24px\"viewBox=\"0 0 24 24\"\n",
       "       width=\"24px\">\n",
       "    <path d=\"M0 0h24v24H0V0z\" fill=\"none\"/>\n",
       "    <path d=\"M18.56 5.44l.94 2.06.94-2.06 2.06-.94-2.06-.94-.94-2.06-.94 2.06-2.06.94zm-11 1L8.5 8.5l.94-2.06 2.06-.94-2.06-.94L8.5 2.5l-.94 2.06-2.06.94zm10 10l.94 2.06.94-2.06 2.06-.94-2.06-.94-.94-2.06-.94 2.06-2.06.94z\"/><path d=\"M17.41 7.96l-1.37-1.37c-.4-.4-.92-.59-1.43-.59-.52 0-1.04.2-1.43.59L10.3 9.45l-7.72 7.72c-.78.78-.78 2.05 0 2.83L4 21.41c.39.39.9.59 1.41.59.51 0 1.02-.2 1.41-.59l7.78-7.78 2.81-2.81c.8-.78.8-2.07 0-2.86zM5.41 20L4 18.59l7.72-7.72 1.47 1.35L5.41 20z\"/>\n",
       "  </svg>\n",
       "      </button>\n",
       "      \n",
       "  <style>\n",
       "    .colab-df-container {\n",
       "      display:flex;\n",
       "      flex-wrap:wrap;\n",
       "      gap: 12px;\n",
       "    }\n",
       "\n",
       "    .colab-df-convert {\n",
       "      background-color: #E8F0FE;\n",
       "      border: none;\n",
       "      border-radius: 50%;\n",
       "      cursor: pointer;\n",
       "      display: none;\n",
       "      fill: #1967D2;\n",
       "      height: 32px;\n",
       "      padding: 0 0 0 0;\n",
       "      width: 32px;\n",
       "    }\n",
       "\n",
       "    .colab-df-convert:hover {\n",
       "      background-color: #E2EBFA;\n",
       "      box-shadow: 0px 1px 2px rgba(60, 64, 67, 0.3), 0px 1px 3px 1px rgba(60, 64, 67, 0.15);\n",
       "      fill: #174EA6;\n",
       "    }\n",
       "\n",
       "    [theme=dark] .colab-df-convert {\n",
       "      background-color: #3B4455;\n",
       "      fill: #D2E3FC;\n",
       "    }\n",
       "\n",
       "    [theme=dark] .colab-df-convert:hover {\n",
       "      background-color: #434B5C;\n",
       "      box-shadow: 0px 1px 3px 1px rgba(0, 0, 0, 0.15);\n",
       "      filter: drop-shadow(0px 1px 2px rgba(0, 0, 0, 0.3));\n",
       "      fill: #FFFFFF;\n",
       "    }\n",
       "  </style>\n",
       "\n",
       "      <script>\n",
       "        const buttonEl =\n",
       "          document.querySelector('#df-292bc2b9-a12b-44da-99ac-2e1ff0c7fe07 button.colab-df-convert');\n",
       "        buttonEl.style.display =\n",
       "          google.colab.kernel.accessAllowed ? 'block' : 'none';\n",
       "\n",
       "        async function convertToInteractive(key) {\n",
       "          const element = document.querySelector('#df-292bc2b9-a12b-44da-99ac-2e1ff0c7fe07');\n",
       "          const dataTable =\n",
       "            await google.colab.kernel.invokeFunction('convertToInteractive',\n",
       "                                                     [key], {});\n",
       "          if (!dataTable) return;\n",
       "\n",
       "          const docLinkHtml = 'Like what you see? Visit the ' +\n",
       "            '<a target=\"_blank\" href=https://colab.research.google.com/notebooks/data_table.ipynb>data table notebook</a>'\n",
       "            + ' to learn more about interactive tables.';\n",
       "          element.innerHTML = '';\n",
       "          dataTable['output_type'] = 'display_data';\n",
       "          await google.colab.output.renderOutput(dataTable, element);\n",
       "          const docLink = document.createElement('div');\n",
       "          docLink.innerHTML = docLinkHtml;\n",
       "          element.appendChild(docLink);\n",
       "        }\n",
       "      </script>\n",
       "    </div>\n",
       "  </div>\n",
       "  "
      ],
      "text/plain": [
       "                                  Model_name  ...                                        Best_params\n",
       "0                Baseline_LogisticRegression  ...                                                  -\n",
       "1           Prep_features_LogisticRegression  ...  {'logisticregression__C': 1.0, 'logisticregres...\n",
       "2  Prep_f_SelectFromModel_LogisticRegression  ...               {'selectfrommodel__threshold': 0.01}\n",
       "\n",
       "[3 rows x 4 columns]"
      ]
     },
     "execution_count": 54,
     "metadata": {},
     "output_type": "execute_result"
    }
   ],
   "source": [
    "compare_table"
   ]
  },
  {
   "cell_type": "markdown",
   "metadata": {
    "id": "nPmZXUxesNbc"
   },
   "source": [
    "### **Попробуем уменьшить размерность датасета**"
   ]
  },
  {
   "cell_type": "code",
   "execution_count": 55,
   "metadata": {
    "colab": {
     "base_uri": "https://localhost:8080/",
     "height": 300
    },
    "id": "81s4udsuRlX9",
    "outputId": "0b649f17-190c-411e-c219-075047f67bb9"
   },
   "outputs": [
    {
     "data": {
      "text/html": [
       "\n",
       "  <div id=\"df-fae7b1ab-9ba9-451a-9a4b-384777195e91\">\n",
       "    <div class=\"colab-df-container\">\n",
       "      <div>\n",
       "<style scoped>\n",
       "    .dataframe tbody tr th:only-of-type {\n",
       "        vertical-align: middle;\n",
       "    }\n",
       "\n",
       "    .dataframe tbody tr th {\n",
       "        vertical-align: top;\n",
       "    }\n",
       "\n",
       "    .dataframe thead th {\n",
       "        text-align: right;\n",
       "    }\n",
       "</style>\n",
       "<table border=\"1\" class=\"dataframe\">\n",
       "  <thead>\n",
       "    <tr style=\"text-align: right;\">\n",
       "      <th></th>\n",
       "      <th>0</th>\n",
       "      <th>1</th>\n",
       "      <th>2</th>\n",
       "      <th>3</th>\n",
       "      <th>4</th>\n",
       "      <th>5</th>\n",
       "      <th>6</th>\n",
       "      <th>7</th>\n",
       "      <th>8</th>\n",
       "      <th>9</th>\n",
       "      <th>10</th>\n",
       "      <th>11</th>\n",
       "      <th>12</th>\n",
       "      <th>13</th>\n",
       "      <th>14</th>\n",
       "      <th>15</th>\n",
       "      <th>16</th>\n",
       "      <th>17</th>\n",
       "      <th>18</th>\n",
       "      <th>19</th>\n",
       "      <th>20</th>\n",
       "      <th>21</th>\n",
       "      <th>22</th>\n",
       "      <th>23</th>\n",
       "      <th>24</th>\n",
       "      <th>25</th>\n",
       "      <th>26</th>\n",
       "      <th>27</th>\n",
       "      <th>28</th>\n",
       "      <th>29</th>\n",
       "      <th>30</th>\n",
       "      <th>31</th>\n",
       "      <th>32</th>\n",
       "      <th>33</th>\n",
       "      <th>34</th>\n",
       "      <th>35</th>\n",
       "      <th>36</th>\n",
       "      <th>37</th>\n",
       "      <th>38</th>\n",
       "      <th>39</th>\n",
       "      <th>...</th>\n",
       "      <th>60</th>\n",
       "      <th>61</th>\n",
       "      <th>62</th>\n",
       "      <th>63</th>\n",
       "      <th>64</th>\n",
       "      <th>65</th>\n",
       "      <th>66</th>\n",
       "      <th>67</th>\n",
       "      <th>68</th>\n",
       "      <th>69</th>\n",
       "      <th>70</th>\n",
       "      <th>71</th>\n",
       "      <th>72</th>\n",
       "      <th>73</th>\n",
       "      <th>74</th>\n",
       "      <th>75</th>\n",
       "      <th>76</th>\n",
       "      <th>77</th>\n",
       "      <th>78</th>\n",
       "      <th>79</th>\n",
       "      <th>80</th>\n",
       "      <th>81</th>\n",
       "      <th>82</th>\n",
       "      <th>83</th>\n",
       "      <th>84</th>\n",
       "      <th>85</th>\n",
       "      <th>86</th>\n",
       "      <th>87</th>\n",
       "      <th>88</th>\n",
       "      <th>89</th>\n",
       "      <th>90</th>\n",
       "      <th>91</th>\n",
       "      <th>92</th>\n",
       "      <th>93</th>\n",
       "      <th>94</th>\n",
       "      <th>95</th>\n",
       "      <th>96</th>\n",
       "      <th>97</th>\n",
       "      <th>98</th>\n",
       "      <th>99</th>\n",
       "    </tr>\n",
       "  </thead>\n",
       "  <tbody>\n",
       "    <tr>\n",
       "      <th>0</th>\n",
       "      <td>739214976.0</td>\n",
       "      <td>-7.522922e+08</td>\n",
       "      <td>-125573664.0</td>\n",
       "      <td>84329.257812</td>\n",
       "      <td>-34981.000000</td>\n",
       "      <td>-5646.236328</td>\n",
       "      <td>-55131.632812</td>\n",
       "      <td>7644.680176</td>\n",
       "      <td>-7383.424805</td>\n",
       "      <td>-424.858856</td>\n",
       "      <td>433.364197</td>\n",
       "      <td>64.135391</td>\n",
       "      <td>-670.702393</td>\n",
       "      <td>-387.085632</td>\n",
       "      <td>51.740211</td>\n",
       "      <td>5129.151367</td>\n",
       "      <td>-1525.474731</td>\n",
       "      <td>-786.715698</td>\n",
       "      <td>-468.378815</td>\n",
       "      <td>89.974533</td>\n",
       "      <td>-55.117603</td>\n",
       "      <td>-62.675938</td>\n",
       "      <td>-39.223164</td>\n",
       "      <td>-48.884388</td>\n",
       "      <td>210.422073</td>\n",
       "      <td>117.342476</td>\n",
       "      <td>179.947510</td>\n",
       "      <td>-124.560600</td>\n",
       "      <td>83.460999</td>\n",
       "      <td>65.829720</td>\n",
       "      <td>-42.668179</td>\n",
       "      <td>71.182030</td>\n",
       "      <td>122.512291</td>\n",
       "      <td>129.935349</td>\n",
       "      <td>173.417023</td>\n",
       "      <td>-141.783722</td>\n",
       "      <td>-20.333353</td>\n",
       "      <td>83.363144</td>\n",
       "      <td>-48.736599</td>\n",
       "      <td>-306.848389</td>\n",
       "      <td>...</td>\n",
       "      <td>-49.381748</td>\n",
       "      <td>-11.185049</td>\n",
       "      <td>-0.799784</td>\n",
       "      <td>0.046331</td>\n",
       "      <td>-23.177216</td>\n",
       "      <td>59.814358</td>\n",
       "      <td>-28.935644</td>\n",
       "      <td>-14.242103</td>\n",
       "      <td>-19.690519</td>\n",
       "      <td>-33.378155</td>\n",
       "      <td>-7.127100</td>\n",
       "      <td>-1.725168</td>\n",
       "      <td>-6.934814</td>\n",
       "      <td>-11.874169</td>\n",
       "      <td>5.160461</td>\n",
       "      <td>5.897686</td>\n",
       "      <td>-17.721193</td>\n",
       "      <td>-36.958027</td>\n",
       "      <td>17.676792</td>\n",
       "      <td>13.608834</td>\n",
       "      <td>2.531169</td>\n",
       "      <td>-4.663638</td>\n",
       "      <td>-15.334394</td>\n",
       "      <td>23.670984</td>\n",
       "      <td>32.411491</td>\n",
       "      <td>-0.722059</td>\n",
       "      <td>-6.045660</td>\n",
       "      <td>9.893386</td>\n",
       "      <td>-9.697067</td>\n",
       "      <td>22.718763</td>\n",
       "      <td>5.952734</td>\n",
       "      <td>-15.212498</td>\n",
       "      <td>27.864498</td>\n",
       "      <td>7.152301</td>\n",
       "      <td>-0.925163</td>\n",
       "      <td>-8.306300</td>\n",
       "      <td>-10.503601</td>\n",
       "      <td>18.615797</td>\n",
       "      <td>5.941054</td>\n",
       "      <td>9.581104</td>\n",
       "    </tr>\n",
       "    <tr>\n",
       "      <th>1</th>\n",
       "      <td>738729664.0</td>\n",
       "      <td>-7.521104e+08</td>\n",
       "      <td>-125561168.0</td>\n",
       "      <td>84254.859375</td>\n",
       "      <td>-35137.203125</td>\n",
       "      <td>-5638.344727</td>\n",
       "      <td>-31426.833984</td>\n",
       "      <td>-7495.925293</td>\n",
       "      <td>-7332.713867</td>\n",
       "      <td>-429.770660</td>\n",
       "      <td>256.056183</td>\n",
       "      <td>-54.029633</td>\n",
       "      <td>-161.305527</td>\n",
       "      <td>-459.268433</td>\n",
       "      <td>108.310959</td>\n",
       "      <td>99.854858</td>\n",
       "      <td>-2.280917</td>\n",
       "      <td>304.700134</td>\n",
       "      <td>-274.572113</td>\n",
       "      <td>78.933174</td>\n",
       "      <td>-132.576523</td>\n",
       "      <td>-39.144314</td>\n",
       "      <td>-15.630346</td>\n",
       "      <td>11.148090</td>\n",
       "      <td>-43.413422</td>\n",
       "      <td>169.109680</td>\n",
       "      <td>146.474426</td>\n",
       "      <td>-263.281403</td>\n",
       "      <td>164.477676</td>\n",
       "      <td>-41.871807</td>\n",
       "      <td>-118.901474</td>\n",
       "      <td>29.731295</td>\n",
       "      <td>-196.535980</td>\n",
       "      <td>-3.107517</td>\n",
       "      <td>178.910858</td>\n",
       "      <td>-60.315582</td>\n",
       "      <td>-2.626957</td>\n",
       "      <td>-251.492004</td>\n",
       "      <td>3.295929</td>\n",
       "      <td>81.711166</td>\n",
       "      <td>...</td>\n",
       "      <td>-20.531301</td>\n",
       "      <td>7.979831</td>\n",
       "      <td>18.535423</td>\n",
       "      <td>12.889177</td>\n",
       "      <td>-12.294456</td>\n",
       "      <td>33.437981</td>\n",
       "      <td>23.157642</td>\n",
       "      <td>-15.122996</td>\n",
       "      <td>0.995174</td>\n",
       "      <td>2.612254</td>\n",
       "      <td>-57.571972</td>\n",
       "      <td>11.827717</td>\n",
       "      <td>22.930023</td>\n",
       "      <td>-3.322587</td>\n",
       "      <td>-28.574892</td>\n",
       "      <td>1.182083</td>\n",
       "      <td>1.045183</td>\n",
       "      <td>-27.453411</td>\n",
       "      <td>-11.058435</td>\n",
       "      <td>3.881615</td>\n",
       "      <td>5.955949</td>\n",
       "      <td>1.220250</td>\n",
       "      <td>0.327420</td>\n",
       "      <td>5.561301</td>\n",
       "      <td>-12.025873</td>\n",
       "      <td>36.159199</td>\n",
       "      <td>-26.544260</td>\n",
       "      <td>6.199272</td>\n",
       "      <td>4.960034</td>\n",
       "      <td>38.173981</td>\n",
       "      <td>-16.991611</td>\n",
       "      <td>16.492125</td>\n",
       "      <td>-20.078434</td>\n",
       "      <td>25.267590</td>\n",
       "      <td>6.327606</td>\n",
       "      <td>-13.165543</td>\n",
       "      <td>0.642967</td>\n",
       "      <td>-2.110659</td>\n",
       "      <td>12.278786</td>\n",
       "      <td>13.999861</td>\n",
       "    </tr>\n",
       "    <tr>\n",
       "      <th>2</th>\n",
       "      <td>-161191344.0</td>\n",
       "      <td>1.212700e+09</td>\n",
       "      <td>-150450032.0</td>\n",
       "      <td>-87310.460938</td>\n",
       "      <td>-22680.210938</td>\n",
       "      <td>-5293.679688</td>\n",
       "      <td>-22639.761719</td>\n",
       "      <td>9549.570312</td>\n",
       "      <td>-4559.834961</td>\n",
       "      <td>31.125517</td>\n",
       "      <td>162.363892</td>\n",
       "      <td>-175.981354</td>\n",
       "      <td>-540.540588</td>\n",
       "      <td>-214.046509</td>\n",
       "      <td>29.790806</td>\n",
       "      <td>-175.985016</td>\n",
       "      <td>-51.147366</td>\n",
       "      <td>-41.044956</td>\n",
       "      <td>-48.378239</td>\n",
       "      <td>75.539017</td>\n",
       "      <td>-39.892696</td>\n",
       "      <td>33.604534</td>\n",
       "      <td>-33.296097</td>\n",
       "      <td>-8.531073</td>\n",
       "      <td>-57.500065</td>\n",
       "      <td>127.749336</td>\n",
       "      <td>354.858032</td>\n",
       "      <td>53.580669</td>\n",
       "      <td>11.532738</td>\n",
       "      <td>20.277651</td>\n",
       "      <td>30.483376</td>\n",
       "      <td>11.738135</td>\n",
       "      <td>11.471357</td>\n",
       "      <td>7.324958</td>\n",
       "      <td>-52.761894</td>\n",
       "      <td>13.928021</td>\n",
       "      <td>-33.099926</td>\n",
       "      <td>48.670303</td>\n",
       "      <td>-23.061419</td>\n",
       "      <td>-29.971468</td>\n",
       "      <td>...</td>\n",
       "      <td>18.819338</td>\n",
       "      <td>-6.508221</td>\n",
       "      <td>-6.975789</td>\n",
       "      <td>2.665164</td>\n",
       "      <td>6.135558</td>\n",
       "      <td>-15.557881</td>\n",
       "      <td>1.975291</td>\n",
       "      <td>12.726208</td>\n",
       "      <td>0.641769</td>\n",
       "      <td>8.972052</td>\n",
       "      <td>13.617270</td>\n",
       "      <td>-1.209049</td>\n",
       "      <td>15.540384</td>\n",
       "      <td>1.278806</td>\n",
       "      <td>-1.579904</td>\n",
       "      <td>4.149377</td>\n",
       "      <td>8.715479</td>\n",
       "      <td>35.684280</td>\n",
       "      <td>-20.231421</td>\n",
       "      <td>5.321735</td>\n",
       "      <td>8.063858</td>\n",
       "      <td>7.033295</td>\n",
       "      <td>13.798428</td>\n",
       "      <td>19.822027</td>\n",
       "      <td>20.025789</td>\n",
       "      <td>-6.762045</td>\n",
       "      <td>4.369853</td>\n",
       "      <td>-1.014777</td>\n",
       "      <td>4.566218</td>\n",
       "      <td>-19.564125</td>\n",
       "      <td>0.989805</td>\n",
       "      <td>2.166638</td>\n",
       "      <td>5.178129</td>\n",
       "      <td>10.308695</td>\n",
       "      <td>6.776455</td>\n",
       "      <td>4.328171</td>\n",
       "      <td>7.651372</td>\n",
       "      <td>-8.666777</td>\n",
       "      <td>1.270321</td>\n",
       "      <td>2.883238</td>\n",
       "    </tr>\n",
       "    <tr>\n",
       "      <th>3</th>\n",
       "      <td>-160954160.0</td>\n",
       "      <td>1.213335e+09</td>\n",
       "      <td>-150477504.0</td>\n",
       "      <td>-86872.656250</td>\n",
       "      <td>-22683.324219</td>\n",
       "      <td>-5290.806641</td>\n",
       "      <td>-22777.333984</td>\n",
       "      <td>-21695.361328</td>\n",
       "      <td>768.446594</td>\n",
       "      <td>-189.424561</td>\n",
       "      <td>1176.125122</td>\n",
       "      <td>-361.066467</td>\n",
       "      <td>-320.409180</td>\n",
       "      <td>6.810396</td>\n",
       "      <td>-126.815720</td>\n",
       "      <td>-95.844772</td>\n",
       "      <td>643.293030</td>\n",
       "      <td>-465.922974</td>\n",
       "      <td>-540.660278</td>\n",
       "      <td>-636.782471</td>\n",
       "      <td>-50.543343</td>\n",
       "      <td>-179.041550</td>\n",
       "      <td>1240.677734</td>\n",
       "      <td>232.139160</td>\n",
       "      <td>346.835571</td>\n",
       "      <td>-480.207397</td>\n",
       "      <td>400.184082</td>\n",
       "      <td>-68.773224</td>\n",
       "      <td>-5.340913</td>\n",
       "      <td>-163.563385</td>\n",
       "      <td>185.479416</td>\n",
       "      <td>-10.974185</td>\n",
       "      <td>144.977478</td>\n",
       "      <td>-194.254532</td>\n",
       "      <td>-226.696091</td>\n",
       "      <td>154.444321</td>\n",
       "      <td>-112.394012</td>\n",
       "      <td>129.902939</td>\n",
       "      <td>6.158668</td>\n",
       "      <td>256.714020</td>\n",
       "      <td>...</td>\n",
       "      <td>24.719856</td>\n",
       "      <td>11.021063</td>\n",
       "      <td>-73.793564</td>\n",
       "      <td>-4.502439</td>\n",
       "      <td>-7.327885</td>\n",
       "      <td>0.911343</td>\n",
       "      <td>-14.112989</td>\n",
       "      <td>4.688716</td>\n",
       "      <td>-5.484852</td>\n",
       "      <td>7.984852</td>\n",
       "      <td>-2.216877</td>\n",
       "      <td>-3.527642</td>\n",
       "      <td>-1.945136</td>\n",
       "      <td>6.857720</td>\n",
       "      <td>8.047891</td>\n",
       "      <td>4.355283</td>\n",
       "      <td>4.716278</td>\n",
       "      <td>26.378132</td>\n",
       "      <td>-21.635273</td>\n",
       "      <td>-0.929419</td>\n",
       "      <td>6.860773</td>\n",
       "      <td>-1.317157</td>\n",
       "      <td>12.880483</td>\n",
       "      <td>-2.665663</td>\n",
       "      <td>-12.494123</td>\n",
       "      <td>3.280395</td>\n",
       "      <td>16.432735</td>\n",
       "      <td>18.148956</td>\n",
       "      <td>3.945563</td>\n",
       "      <td>-6.013452</td>\n",
       "      <td>8.403618</td>\n",
       "      <td>6.805453</td>\n",
       "      <td>-4.814251</td>\n",
       "      <td>12.088217</td>\n",
       "      <td>18.096294</td>\n",
       "      <td>11.138045</td>\n",
       "      <td>9.516119</td>\n",
       "      <td>-6.902594</td>\n",
       "      <td>1.594602</td>\n",
       "      <td>0.300044</td>\n",
       "    </tr>\n",
       "    <tr>\n",
       "      <th>4</th>\n",
       "      <td>739214976.0</td>\n",
       "      <td>-7.522922e+08</td>\n",
       "      <td>-125573664.0</td>\n",
       "      <td>84326.992188</td>\n",
       "      <td>-34998.062500</td>\n",
       "      <td>-5645.133789</td>\n",
       "      <td>-31066.738281</td>\n",
       "      <td>10011.466797</td>\n",
       "      <td>11382.993164</td>\n",
       "      <td>-1894.649292</td>\n",
       "      <td>-7830.158691</td>\n",
       "      <td>5800.660156</td>\n",
       "      <td>-3397.874268</td>\n",
       "      <td>-550.082642</td>\n",
       "      <td>326.628540</td>\n",
       "      <td>140.402725</td>\n",
       "      <td>-751.257141</td>\n",
       "      <td>547.139404</td>\n",
       "      <td>248.384857</td>\n",
       "      <td>125.218704</td>\n",
       "      <td>1303.581665</td>\n",
       "      <td>808.721436</td>\n",
       "      <td>170.840057</td>\n",
       "      <td>-486.081573</td>\n",
       "      <td>-557.427002</td>\n",
       "      <td>84.233597</td>\n",
       "      <td>62.242432</td>\n",
       "      <td>-248.018265</td>\n",
       "      <td>-104.992485</td>\n",
       "      <td>225.409332</td>\n",
       "      <td>-407.225464</td>\n",
       "      <td>59.389828</td>\n",
       "      <td>-596.822876</td>\n",
       "      <td>42.218830</td>\n",
       "      <td>188.677872</td>\n",
       "      <td>146.467072</td>\n",
       "      <td>134.774124</td>\n",
       "      <td>-472.715027</td>\n",
       "      <td>43.814152</td>\n",
       "      <td>208.803513</td>\n",
       "      <td>...</td>\n",
       "      <td>-5.183081</td>\n",
       "      <td>-8.514868</td>\n",
       "      <td>-29.619810</td>\n",
       "      <td>-27.478271</td>\n",
       "      <td>12.085954</td>\n",
       "      <td>-35.045033</td>\n",
       "      <td>-32.849800</td>\n",
       "      <td>-3.145930</td>\n",
       "      <td>-32.538326</td>\n",
       "      <td>10.351090</td>\n",
       "      <td>-37.031696</td>\n",
       "      <td>14.096169</td>\n",
       "      <td>-34.677807</td>\n",
       "      <td>-27.139297</td>\n",
       "      <td>12.082626</td>\n",
       "      <td>39.946495</td>\n",
       "      <td>48.360268</td>\n",
       "      <td>-61.438461</td>\n",
       "      <td>45.226299</td>\n",
       "      <td>-2.673564</td>\n",
       "      <td>19.769583</td>\n",
       "      <td>-32.825420</td>\n",
       "      <td>18.476515</td>\n",
       "      <td>93.487144</td>\n",
       "      <td>35.806942</td>\n",
       "      <td>-0.451848</td>\n",
       "      <td>-26.466757</td>\n",
       "      <td>6.548905</td>\n",
       "      <td>36.892372</td>\n",
       "      <td>-25.618607</td>\n",
       "      <td>-12.790272</td>\n",
       "      <td>5.125990</td>\n",
       "      <td>-16.998377</td>\n",
       "      <td>15.971523</td>\n",
       "      <td>43.978058</td>\n",
       "      <td>29.870281</td>\n",
       "      <td>31.512785</td>\n",
       "      <td>-7.182665</td>\n",
       "      <td>-12.782213</td>\n",
       "      <td>3.297192</td>\n",
       "    </tr>\n",
       "  </tbody>\n",
       "</table>\n",
       "<p>5 rows × 100 columns</p>\n",
       "</div>\n",
       "      <button class=\"colab-df-convert\" onclick=\"convertToInteractive('df-fae7b1ab-9ba9-451a-9a4b-384777195e91')\"\n",
       "              title=\"Convert this dataframe to an interactive table.\"\n",
       "              style=\"display:none;\">\n",
       "        \n",
       "  <svg xmlns=\"http://www.w3.org/2000/svg\" height=\"24px\"viewBox=\"0 0 24 24\"\n",
       "       width=\"24px\">\n",
       "    <path d=\"M0 0h24v24H0V0z\" fill=\"none\"/>\n",
       "    <path d=\"M18.56 5.44l.94 2.06.94-2.06 2.06-.94-2.06-.94-.94-2.06-.94 2.06-2.06.94zm-11 1L8.5 8.5l.94-2.06 2.06-.94-2.06-.94L8.5 2.5l-.94 2.06-2.06.94zm10 10l.94 2.06.94-2.06 2.06-.94-2.06-.94-.94-2.06-.94 2.06-2.06.94z\"/><path d=\"M17.41 7.96l-1.37-1.37c-.4-.4-.92-.59-1.43-.59-.52 0-1.04.2-1.43.59L10.3 9.45l-7.72 7.72c-.78.78-.78 2.05 0 2.83L4 21.41c.39.39.9.59 1.41.59.51 0 1.02-.2 1.41-.59l7.78-7.78 2.81-2.81c.8-.78.8-2.07 0-2.86zM5.41 20L4 18.59l7.72-7.72 1.47 1.35L5.41 20z\"/>\n",
       "  </svg>\n",
       "      </button>\n",
       "      \n",
       "  <style>\n",
       "    .colab-df-container {\n",
       "      display:flex;\n",
       "      flex-wrap:wrap;\n",
       "      gap: 12px;\n",
       "    }\n",
       "\n",
       "    .colab-df-convert {\n",
       "      background-color: #E8F0FE;\n",
       "      border: none;\n",
       "      border-radius: 50%;\n",
       "      cursor: pointer;\n",
       "      display: none;\n",
       "      fill: #1967D2;\n",
       "      height: 32px;\n",
       "      padding: 0 0 0 0;\n",
       "      width: 32px;\n",
       "    }\n",
       "\n",
       "    .colab-df-convert:hover {\n",
       "      background-color: #E2EBFA;\n",
       "      box-shadow: 0px 1px 2px rgba(60, 64, 67, 0.3), 0px 1px 3px 1px rgba(60, 64, 67, 0.15);\n",
       "      fill: #174EA6;\n",
       "    }\n",
       "\n",
       "    [theme=dark] .colab-df-convert {\n",
       "      background-color: #3B4455;\n",
       "      fill: #D2E3FC;\n",
       "    }\n",
       "\n",
       "    [theme=dark] .colab-df-convert:hover {\n",
       "      background-color: #434B5C;\n",
       "      box-shadow: 0px 1px 3px 1px rgba(0, 0, 0, 0.15);\n",
       "      filter: drop-shadow(0px 1px 2px rgba(0, 0, 0, 0.3));\n",
       "      fill: #FFFFFF;\n",
       "    }\n",
       "  </style>\n",
       "\n",
       "      <script>\n",
       "        const buttonEl =\n",
       "          document.querySelector('#df-fae7b1ab-9ba9-451a-9a4b-384777195e91 button.colab-df-convert');\n",
       "        buttonEl.style.display =\n",
       "          google.colab.kernel.accessAllowed ? 'block' : 'none';\n",
       "\n",
       "        async function convertToInteractive(key) {\n",
       "          const element = document.querySelector('#df-fae7b1ab-9ba9-451a-9a4b-384777195e91');\n",
       "          const dataTable =\n",
       "            await google.colab.kernel.invokeFunction('convertToInteractive',\n",
       "                                                     [key], {});\n",
       "          if (!dataTable) return;\n",
       "\n",
       "          const docLinkHtml = 'Like what you see? Visit the ' +\n",
       "            '<a target=\"_blank\" href=https://colab.research.google.com/notebooks/data_table.ipynb>data table notebook</a>'\n",
       "            + ' to learn more about interactive tables.';\n",
       "          element.innerHTML = '';\n",
       "          dataTable['output_type'] = 'display_data';\n",
       "          await google.colab.output.renderOutput(dataTable, element);\n",
       "          const docLink = document.createElement('div');\n",
       "          docLink.innerHTML = docLinkHtml;\n",
       "          element.appendChild(docLink);\n",
       "        }\n",
       "      </script>\n",
       "    </div>\n",
       "  </div>\n",
       "  "
      ],
      "text/plain": [
       "            0             1            2   ...         97         98         99\n",
       "0  739214976.0 -7.522922e+08 -125573664.0  ...  18.615797   5.941054   9.581104\n",
       "1  738729664.0 -7.521104e+08 -125561168.0  ...  -2.110659  12.278786  13.999861\n",
       "2 -161191344.0  1.212700e+09 -150450032.0  ...  -8.666777   1.270321   2.883238\n",
       "3 -160954160.0  1.213335e+09 -150477504.0  ...  -6.902594   1.594602   0.300044\n",
       "4  739214976.0 -7.522922e+08 -125573664.0  ...  -7.182665 -12.782213   3.297192\n",
       "\n",
       "[5 rows x 100 columns]"
      ]
     },
     "execution_count": 55,
     "metadata": {},
     "output_type": "execute_result"
    }
   ],
   "source": [
    "# # Воспользуемся классом TruncatedSVD для уменьшения размерности датасета\n",
    "# tsvd = TruncatedSVD(n_components=100, random_state=RANDOM_STATE)\n",
    "# X_train_tsvd = tsvd.fit_transform(X_train.iloc[:,3:])\n",
    "# X_train_tsvd = pd.DataFrame(X_train_tsvd)\n",
    "# X_train_tsvd.head()"
   ]
  },
  {
   "cell_type": "code",
   "execution_count": 56,
   "metadata": {
    "colab": {
     "base_uri": "https://localhost:8080/"
    },
    "id": "Wl9UAfEbgauv",
    "outputId": "bb9646e3-3eee-46c1-bf63-75d7d5e2aa2a"
   },
   "outputs": [
    {
     "data": {
      "text/plain": [
       "array([0.4574953 , 0.8570673 , 0.99960333, 0.9999502 , 1.000052  ,\n",
       "       1.0000575 , 1.0000575 , 1.0000575 , 1.0000575 , 1.0000575 ],\n",
       "      dtype=float32)"
      ]
     },
     "execution_count": 56,
     "metadata": {},
     "output_type": "execute_result"
    }
   ],
   "source": [
    "# # Первые три компоненты передают более 99% информации,\n",
    "# # можно попробовать построить модель только на них\n",
    "# explained_variance = tsvd.explained_variance_ratio_\n",
    "# cum_var_exp = np.cumsum(explained_variance)\n",
    "# cum_var_exp[:10]"
   ]
  },
  {
   "cell_type": "code",
   "execution_count": 57,
   "metadata": {
    "id": "BLwAn3JrsmRE"
   },
   "outputs": [],
   "source": [
    "# X_train_tsvd['target'] = y_train"
   ]
  },
  {
   "cell_type": "code",
   "execution_count": 66,
   "metadata": {
    "colab": {
     "base_uri": "https://localhost:8080/",
     "height": 466
    },
    "id": "NZuuxfVzsmUy",
    "outputId": "3a42084f-906d-43df-b186-fa7b4e4219ff"
   },
   "outputs": [
    {
     "data": {
      "image/png": "[encoded data removed]",
      "text/plain": [
       "<Figure size 720x576 with 1 Axes>"
      ]
     },
     "metadata": {
      "needs_background": "light"
     },
     "output_type": "display_data"
    }
   ],
   "source": [
    "# ax = plt.figure(figsize=(10, 8)).gca(projection='3d')\n",
    "# targets = [0, 1]\n",
    "# colors = ['r', 'b']\n",
    "# for target, color in zip(targets,colors):\n",
    "#  indicesToKeep = X_train_tsvd['target'] == target\n",
    "#  ax.scatter(X_train_tsvd.loc[indicesToKeep, 0]\n",
    "#  , X_train_tsvd.loc[indicesToKeep, 1] \n",
    "#  , X_train_tsvd.loc[indicesToKeep, 2]\n",
    "#  , c = color\n",
    "#  , s = 50)\n",
    "# ax.set_xlabel('pca-1')\n",
    "# ax.set_ylabel('pca-2')\n",
    "# ax.set_zlabel('pca-3')\n",
    "# ax.view_init(5, -80)\n",
    "# plt.title('Датасет с пониженной размерностью\\n TruncatedSVD')\n",
    "# plt.savefig('TruncatedSVD.png', transparent=True)\n",
    "# plt.show()"
   ]
  },
  {
   "cell_type": "code",
   "execution_count": 59,
   "metadata": {
    "id": "j3ZJFAYGiz5j"
   },
   "outputs": [],
   "source": [
    "# # Применим метод главных компонент только на признаках профиля клиента\n",
    "\n",
    "\n",
    "# col_tsvd_transformer = make_pipeline(\n",
    "#     ColumnTransformer(\n",
    "#         remainder='passthrough', #passthough чтобы попали также нетрансформированные признаки\n",
    "#         transformers=[\n",
    "#             ('tsvd', TruncatedSVD(n_components=4, random_state=RANDOM_STATE) ,  X_train.iloc[:, 3:].columns)\n",
    "#         ])\n",
    "#     )"
   ]
  },
  {
   "cell_type": "code",
   "execution_count": 60,
   "metadata": {
    "id": "QqmyNDRkp7kI"
   },
   "outputs": [],
   "source": [
    "# tsvd_lg_pipe = make_pipeline(\n",
    "#     col_tsvd_transformer,\n",
    "#     LogisticRegression(random_state=RANDOM_STATE)\n",
    "# )"
   ]
  },
  {
   "cell_type": "code",
   "execution_count": 61,
   "metadata": {
    "id": "mJH3rl3-fdAH"
   },
   "outputs": [],
   "source": [
    "# param_grid = [\n",
    "#     {'pipeline__columntransformer__tsvd__n_components': [3, 4, 100]},\n",
    "# ]\n",
    "\n",
    "# tsvd_lg_gsc = run_grid_search(tsvd_lg_pipe, X_train, y_train, param_grid, kfold_cv)\n",
    "\n",
    "# # Best f1_macro score: 0.47\n",
    "# # Best parameters set found on development set:\n",
    "# # {'pipeline__columntransformer__tsvd__n_components': 3}\n",
    "# # Grid scores on development set:\n",
    "# # 0.475 (+/-0.001) for {'pipeline__columntransformer__tsvd__n_components': 3}\n",
    "# # 0.475 (+/-0.001) for {'pipeline__columntransformer__tsvd__n_components': 4}\n",
    "# # 0.475 (+/-0.001) for {'pipeline__columntransformer__tsvd__n_components': 100}"
   ]
  },
  {
   "cell_type": "code",
   "execution_count": 67,
   "metadata": {
    "id": "AdpzQpOewm9W"
   },
   "outputs": [],
   "source": [
    "compare_table.loc[3] = ['Tsvd_LogisticRegression', \n",
    "                        'tsvd_lg_pipe', \n",
    "                        0.47, \n",
    "                        \"{'pipeline__columntransformer__tsvd__n_components': 3}\"]"
   ]
  },
  {
   "cell_type": "code",
   "execution_count": 68,
   "metadata": {
    "colab": {
     "base_uri": "https://localhost:8080/",
     "height": 175
    },
    "id": "VwG89Np2Ok8r",
    "outputId": "55824dc0-94a0-4456-fb7d-9fc26223fa07"
   },
   "outputs": [
    {
     "data": {
      "text/html": [
       "\n",
       "  <div id=\"df-66db93e4-82d1-469f-bbd2-2799d332e592\">\n",
       "    <div class=\"colab-df-container\">\n",
       "      <div>\n",
       "<style scoped>\n",
       "    .dataframe tbody tr th:only-of-type {\n",
       "        vertical-align: middle;\n",
       "    }\n",
       "\n",
       "    .dataframe tbody tr th {\n",
       "        vertical-align: top;\n",
       "    }\n",
       "\n",
       "    .dataframe thead th {\n",
       "        text-align: right;\n",
       "    }\n",
       "</style>\n",
       "<table border=\"1\" class=\"dataframe\">\n",
       "  <thead>\n",
       "    <tr style=\"text-align: right;\">\n",
       "      <th></th>\n",
       "      <th>Model_name</th>\n",
       "      <th>Pipeline_name</th>\n",
       "      <th>F1_macro</th>\n",
       "      <th>Best_params</th>\n",
       "    </tr>\n",
       "  </thead>\n",
       "  <tbody>\n",
       "    <tr>\n",
       "      <th>0</th>\n",
       "      <td>Baseline_LogisticRegression</td>\n",
       "      <td>bl_lg_estimator</td>\n",
       "      <td>0.47</td>\n",
       "      <td>-</td>\n",
       "    </tr>\n",
       "    <tr>\n",
       "      <th>1</th>\n",
       "      <td>Prep_features_LogisticRegression</td>\n",
       "      <td>lg_pipe</td>\n",
       "      <td>0.61</td>\n",
       "      <td>{'logisticregression__C': 1.0, 'logisticregres...</td>\n",
       "    </tr>\n",
       "    <tr>\n",
       "      <th>2</th>\n",
       "      <td>Prep_f_SelectFromModel_LogisticRegression</td>\n",
       "      <td>fs_lg_pipe</td>\n",
       "      <td>0.61</td>\n",
       "      <td>{'selectfrommodel__threshold': 0.01}</td>\n",
       "    </tr>\n",
       "    <tr>\n",
       "      <th>3</th>\n",
       "      <td>Tsvd_LogisticRegression</td>\n",
       "      <td>tsvd_lg_pipe</td>\n",
       "      <td>0.47</td>\n",
       "      <td>{'pipeline__columntransformer__tsvd__n_compone...</td>\n",
       "    </tr>\n",
       "  </tbody>\n",
       "</table>\n",
       "</div>\n",
       "      <button class=\"colab-df-convert\" onclick=\"convertToInteractive('df-66db93e4-82d1-469f-bbd2-2799d332e592')\"\n",
       "              title=\"Convert this dataframe to an interactive table.\"\n",
       "              style=\"display:none;\">\n",
       "        \n",
       "  <svg xmlns=\"http://www.w3.org/2000/svg\" height=\"24px\"viewBox=\"0 0 24 24\"\n",
       "       width=\"24px\">\n",
       "    <path d=\"M0 0h24v24H0V0z\" fill=\"none\"/>\n",
       "    <path d=\"M18.56 5.44l.94 2.06.94-2.06 2.06-.94-2.06-.94-.94-2.06-.94 2.06-2.06.94zm-11 1L8.5 8.5l.94-2.06 2.06-.94-2.06-.94L8.5 2.5l-.94 2.06-2.06.94zm10 10l.94 2.06.94-2.06 2.06-.94-2.06-.94-.94-2.06-.94 2.06-2.06.94z\"/><path d=\"M17.41 7.96l-1.37-1.37c-.4-.4-.92-.59-1.43-.59-.52 0-1.04.2-1.43.59L10.3 9.45l-7.72 7.72c-.78.78-.78 2.05 0 2.83L4 21.41c.39.39.9.59 1.41.59.51 0 1.02-.2 1.41-.59l7.78-7.78 2.81-2.81c.8-.78.8-2.07 0-2.86zM5.41 20L4 18.59l7.72-7.72 1.47 1.35L5.41 20z\"/>\n",
       "  </svg>\n",
       "      </button>\n",
       "      \n",
       "  <style>\n",
       "    .colab-df-container {\n",
       "      display:flex;\n",
       "      flex-wrap:wrap;\n",
       "      gap: 12px;\n",
       "    }\n",
       "\n",
       "    .colab-df-convert {\n",
       "      background-color: #E8F0FE;\n",
       "      border: none;\n",
       "      border-radius: 50%;\n",
       "      cursor: pointer;\n",
       "      display: none;\n",
       "      fill: #1967D2;\n",
       "      height: 32px;\n",
       "      padding: 0 0 0 0;\n",
       "      width: 32px;\n",
       "    }\n",
       "\n",
       "    .colab-df-convert:hover {\n",
       "      background-color: #E2EBFA;\n",
       "      box-shadow: 0px 1px 2px rgba(60, 64, 67, 0.3), 0px 1px 3px 1px rgba(60, 64, 67, 0.15);\n",
       "      fill: #174EA6;\n",
       "    }\n",
       "\n",
       "    [theme=dark] .colab-df-convert {\n",
       "      background-color: #3B4455;\n",
       "      fill: #D2E3FC;\n",
       "    }\n",
       "\n",
       "    [theme=dark] .colab-df-convert:hover {\n",
       "      background-color: #434B5C;\n",
       "      box-shadow: 0px 1px 3px 1px rgba(0, 0, 0, 0.15);\n",
       "      filter: drop-shadow(0px 1px 2px rgba(0, 0, 0, 0.3));\n",
       "      fill: #FFFFFF;\n",
       "    }\n",
       "  </style>\n",
       "\n",
       "      <script>\n",
       "        const buttonEl =\n",
       "          document.querySelector('#df-66db93e4-82d1-469f-bbd2-2799d332e592 button.colab-df-convert');\n",
       "        buttonEl.style.display =\n",
       "          google.colab.kernel.accessAllowed ? 'block' : 'none';\n",
       "\n",
       "        async function convertToInteractive(key) {\n",
       "          const element = document.querySelector('#df-66db93e4-82d1-469f-bbd2-2799d332e592');\n",
       "          const dataTable =\n",
       "            await google.colab.kernel.invokeFunction('convertToInteractive',\n",
       "                                                     [key], {});\n",
       "          if (!dataTable) return;\n",
       "\n",
       "          const docLinkHtml = 'Like what you see? Visit the ' +\n",
       "            '<a target=\"_blank\" href=https://colab.research.google.com/notebooks/data_table.ipynb>data table notebook</a>'\n",
       "            + ' to learn more about interactive tables.';\n",
       "          element.innerHTML = '';\n",
       "          dataTable['output_type'] = 'display_data';\n",
       "          await google.colab.output.renderOutput(dataTable, element);\n",
       "          const docLink = document.createElement('div');\n",
       "          docLink.innerHTML = docLinkHtml;\n",
       "          element.appendChild(docLink);\n",
       "        }\n",
       "      </script>\n",
       "    </div>\n",
       "  </div>\n",
       "  "
      ],
      "text/plain": [
       "                                  Model_name  ...                                        Best_params\n",
       "0                Baseline_LogisticRegression  ...                                                  -\n",
       "1           Prep_features_LogisticRegression  ...  {'logisticregression__C': 1.0, 'logisticregres...\n",
       "2  Prep_f_SelectFromModel_LogisticRegression  ...               {'selectfrommodel__threshold': 0.01}\n",
       "3                    Tsvd_LogisticRegression  ...  {'pipeline__columntransformer__tsvd__n_compone...\n",
       "\n",
       "[4 rows x 4 columns]"
      ]
     },
     "execution_count": 68,
     "metadata": {},
     "output_type": "execute_result"
    }
   ],
   "source": [
    "# Для финального обучения выберем модель Prep_f_SelectFromModel_LogisticRegression, \n",
    "# так как она показывает наибольшую точность, при это обрабатывает значительно меньше признаков\n",
    "compare_table"
   ]
  },
  {
   "cell_type": "markdown",
   "metadata": {
    "id": "8Abc5-16QkiR"
   },
   "source": [
    "### **Попробуем другие классификаторы для финальной модели**"
   ]
  },
  {
   "cell_type": "markdown",
   "metadata": {
    "id": "sMtqOzJ3eEH0"
   },
   "source": [
    "**1. GradientBoostingClassifier**"
   ]
  },
  {
   "cell_type": "code",
   "execution_count": 69,
   "metadata": {
    "id": "J6B2O3OafFUI"
   },
   "outputs": [],
   "source": [
    "# Построим Pipeline с классом GradientBoostingClassifier с параметрами по умолчанию\n",
    "fs_gb_pipe = make_pipeline(\n",
    "    f_prep_pipe,\n",
    "    SelectFromModel(LogisticRegression(penalty='l2', random_state=RANDOM_STATE, solver='sag'), threshold=1e-2),\n",
    "    GradientBoostingClassifier(random_state=RANDOM_STATE)\n",
    ")"
   ]
  },
  {
   "cell_type": "code",
   "execution_count": null,
   "metadata": {
    "id": "27lCr6GaQjoZ"
   },
   "outputs": [],
   "source": [
    "# [k for k in fs_gb_pipe.get_params().keys() if 'gradientboostingclassifier' in k]"
   ]
  },
  {
   "cell_type": "code",
   "execution_count": null,
   "metadata": {
    "id": "PHVFsrHwR6F7"
   },
   "outputs": [],
   "source": [
    "# param_grid = {   \n",
    "#     'gradientboostingclassifier__max_depth': [3, 5]\n",
    "# }\n",
    "\n",
    "# fs_gb_gsc = run_grid_search(fs_gb_pipe, X_train, y_train, param_grid, kfold_cv)\n",
    "\n",
    "# # Best f1_macro score: 0.72\n",
    "# # Best parameters set found on development set:\n",
    "# # {'gradientboostingclassifier__max_depth': 5}\n",
    "# # Grid scores on development set:\n",
    "# # 0.717 (+/-0.010) for {'gradientboostingclassifier__max_depth': 3}\n",
    "# # 0.721 (+/-0.010) for {'gradientboostingclassifier__max_depth': 5}"
   ]
  },
  {
   "cell_type": "code",
   "execution_count": 70,
   "metadata": {
    "id": "ScNRuc9YSLog"
   },
   "outputs": [],
   "source": [
    "compare_table.loc[4] = ['Prep_f_SelectFromModel_GradientBoostingClassifier', \n",
    "                        'fs_gb_pipe', \n",
    "                        0.72, \n",
    "                        \"{'gradientboostingclassifier__max_depth': 5}\"]"
   ]
  },
  {
   "cell_type": "code",
   "execution_count": 71,
   "metadata": {
    "colab": {
     "base_uri": "https://localhost:8080/",
     "height": 206
    },
    "id": "FP9EVjlDSLwa",
    "outputId": "754a7d9a-0672-4871-e6ae-216d55f23cfc"
   },
   "outputs": [
    {
     "data": {
      "text/html": [
       "\n",
       "  <div id=\"df-bf192620-f448-4a6a-9fcc-53b07a90c9c4\">\n",
       "    <div class=\"colab-df-container\">\n",
       "      <div>\n",
       "<style scoped>\n",
       "    .dataframe tbody tr th:only-of-type {\n",
       "        vertical-align: middle;\n",
       "    }\n",
       "\n",
       "    .dataframe tbody tr th {\n",
       "        vertical-align: top;\n",
       "    }\n",
       "\n",
       "    .dataframe thead th {\n",
       "        text-align: right;\n",
       "    }\n",
       "</style>\n",
       "<table border=\"1\" class=\"dataframe\">\n",
       "  <thead>\n",
       "    <tr style=\"text-align: right;\">\n",
       "      <th></th>\n",
       "      <th>Model_name</th>\n",
       "      <th>Pipeline_name</th>\n",
       "      <th>F1_macro</th>\n",
       "      <th>Best_params</th>\n",
       "    </tr>\n",
       "  </thead>\n",
       "  <tbody>\n",
       "    <tr>\n",
       "      <th>0</th>\n",
       "      <td>Baseline_LogisticRegression</td>\n",
       "      <td>bl_lg_estimator</td>\n",
       "      <td>0.47</td>\n",
       "      <td>-</td>\n",
       "    </tr>\n",
       "    <tr>\n",
       "      <th>1</th>\n",
       "      <td>Prep_features_LogisticRegression</td>\n",
       "      <td>lg_pipe</td>\n",
       "      <td>0.61</td>\n",
       "      <td>{'logisticregression__C': 1.0, 'logisticregres...</td>\n",
       "    </tr>\n",
       "    <tr>\n",
       "      <th>2</th>\n",
       "      <td>Prep_f_SelectFromModel_LogisticRegression</td>\n",
       "      <td>fs_lg_pipe</td>\n",
       "      <td>0.61</td>\n",
       "      <td>{'selectfrommodel__threshold': 0.01}</td>\n",
       "    </tr>\n",
       "    <tr>\n",
       "      <th>3</th>\n",
       "      <td>Tsvd_LogisticRegression</td>\n",
       "      <td>tsvd_lg_pipe</td>\n",
       "      <td>0.47</td>\n",
       "      <td>{'pipeline__columntransformer__tsvd__n_compone...</td>\n",
       "    </tr>\n",
       "    <tr>\n",
       "      <th>4</th>\n",
       "      <td>Prep_f_SelectFromModel_GradientBoostingClassifier</td>\n",
       "      <td>fs_gb_pipe</td>\n",
       "      <td>0.72</td>\n",
       "      <td>{'gradientboostingclassifier__max_depth': 5}</td>\n",
       "    </tr>\n",
       "  </tbody>\n",
       "</table>\n",
       "</div>\n",
       "      <button class=\"colab-df-convert\" onclick=\"convertToInteractive('df-bf192620-f448-4a6a-9fcc-53b07a90c9c4')\"\n",
       "              title=\"Convert this dataframe to an interactive table.\"\n",
       "              style=\"display:none;\">\n",
       "        \n",
       "  <svg xmlns=\"http://www.w3.org/2000/svg\" height=\"24px\"viewBox=\"0 0 24 24\"\n",
       "       width=\"24px\">\n",
       "    <path d=\"M0 0h24v24H0V0z\" fill=\"none\"/>\n",
       "    <path d=\"M18.56 5.44l.94 2.06.94-2.06 2.06-.94-2.06-.94-.94-2.06-.94 2.06-2.06.94zm-11 1L8.5 8.5l.94-2.06 2.06-.94-2.06-.94L8.5 2.5l-.94 2.06-2.06.94zm10 10l.94 2.06.94-2.06 2.06-.94-2.06-.94-.94-2.06-.94 2.06-2.06.94z\"/><path d=\"M17.41 7.96l-1.37-1.37c-.4-.4-.92-.59-1.43-.59-.52 0-1.04.2-1.43.59L10.3 9.45l-7.72 7.72c-.78.78-.78 2.05 0 2.83L4 21.41c.39.39.9.59 1.41.59.51 0 1.02-.2 1.41-.59l7.78-7.78 2.81-2.81c.8-.78.8-2.07 0-2.86zM5.41 20L4 18.59l7.72-7.72 1.47 1.35L5.41 20z\"/>\n",
       "  </svg>\n",
       "      </button>\n",
       "      \n",
       "  <style>\n",
       "    .colab-df-container {\n",
       "      display:flex;\n",
       "      flex-wrap:wrap;\n",
       "      gap: 12px;\n",
       "    }\n",
       "\n",
       "    .colab-df-convert {\n",
       "      background-color: #E8F0FE;\n",
       "      border: none;\n",
       "      border-radius: 50%;\n",
       "      cursor: pointer;\n",
       "      display: none;\n",
       "      fill: #1967D2;\n",
       "      height: 32px;\n",
       "      padding: 0 0 0 0;\n",
       "      width: 32px;\n",
       "    }\n",
       "\n",
       "    .colab-df-convert:hover {\n",
       "      background-color: #E2EBFA;\n",
       "      box-shadow: 0px 1px 2px rgba(60, 64, 67, 0.3), 0px 1px 3px 1px rgba(60, 64, 67, 0.15);\n",
       "      fill: #174EA6;\n",
       "    }\n",
       "\n",
       "    [theme=dark] .colab-df-convert {\n",
       "      background-color: #3B4455;\n",
       "      fill: #D2E3FC;\n",
       "    }\n",
       "\n",
       "    [theme=dark] .colab-df-convert:hover {\n",
       "      background-color: #434B5C;\n",
       "      box-shadow: 0px 1px 3px 1px rgba(0, 0, 0, 0.15);\n",
       "      filter: drop-shadow(0px 1px 2px rgba(0, 0, 0, 0.3));\n",
       "      fill: #FFFFFF;\n",
       "    }\n",
       "  </style>\n",
       "\n",
       "      <script>\n",
       "        const buttonEl =\n",
       "          document.querySelector('#df-bf192620-f448-4a6a-9fcc-53b07a90c9c4 button.colab-df-convert');\n",
       "        buttonEl.style.display =\n",
       "          google.colab.kernel.accessAllowed ? 'block' : 'none';\n",
       "\n",
       "        async function convertToInteractive(key) {\n",
       "          const element = document.querySelector('#df-bf192620-f448-4a6a-9fcc-53b07a90c9c4');\n",
       "          const dataTable =\n",
       "            await google.colab.kernel.invokeFunction('convertToInteractive',\n",
       "                                                     [key], {});\n",
       "          if (!dataTable) return;\n",
       "\n",
       "          const docLinkHtml = 'Like what you see? Visit the ' +\n",
       "            '<a target=\"_blank\" href=https://colab.research.google.com/notebooks/data_table.ipynb>data table notebook</a>'\n",
       "            + ' to learn more about interactive tables.';\n",
       "          element.innerHTML = '';\n",
       "          dataTable['output_type'] = 'display_data';\n",
       "          await google.colab.output.renderOutput(dataTable, element);\n",
       "          const docLink = document.createElement('div');\n",
       "          docLink.innerHTML = docLinkHtml;\n",
       "          element.appendChild(docLink);\n",
       "        }\n",
       "      </script>\n",
       "    </div>\n",
       "  </div>\n",
       "  "
      ],
      "text/plain": [
       "                                          Model_name  ...                                        Best_params\n",
       "0                        Baseline_LogisticRegression  ...                                                  -\n",
       "1                   Prep_features_LogisticRegression  ...  {'logisticregression__C': 1.0, 'logisticregres...\n",
       "2          Prep_f_SelectFromModel_LogisticRegression  ...               {'selectfrommodel__threshold': 0.01}\n",
       "3                            Tsvd_LogisticRegression  ...  {'pipeline__columntransformer__tsvd__n_compone...\n",
       "4  Prep_f_SelectFromModel_GradientBoostingClassifier  ...       {'gradientboostingclassifier__max_depth': 5}\n",
       "\n",
       "[5 rows x 4 columns]"
      ]
     },
     "execution_count": 71,
     "metadata": {},
     "output_type": "execute_result"
    }
   ],
   "source": [
    "compare_table"
   ]
  },
  {
   "cell_type": "markdown",
   "metadata": {
    "id": "lMhkse2VHq8X"
   },
   "source": [
    "**2. GradientBoostingClassifier со сбалансированными классами**"
   ]
  },
  {
   "cell_type": "code",
   "execution_count": 72,
   "metadata": {
    "colab": {
     "base_uri": "https://localhost:8080/"
    },
    "id": "Qg2nl397HqBk",
    "outputId": "a6d0d085-6418-4a7d-c9a9-930ed6246dc2"
   },
   "outputs": [
    {
     "name": "stdout",
     "output_type": "stream",
     "text": [
      "Original dataset shape Counter({0.0: 288504, 1.0: 30556})\n",
      "Resampled dataset shape Counter({0.0: 30556, 1.0: 30556})\n"
     ]
    }
   ],
   "source": [
    "# Отбалансируем данные, уменьшим нулевой класс\n",
    "rus = RandomUnderSampler(random_state=RANDOM_STATE)\n",
    "X_res, y_res = rus.fit_resample(X_train, y_train)\n",
    "\n",
    "print('Original dataset shape %s' % Counter(y_train))\n",
    "print('Resampled dataset shape %s' % Counter(y_res))"
   ]
  },
  {
   "cell_type": "code",
   "execution_count": 73,
   "metadata": {
    "id": "oXIqo0OqjBIr"
   },
   "outputs": [],
   "source": [
    "# Построим Pipeline с классом GradientBoostingClassifier с глубиной 5\n",
    "blnced_fs_gb_pipe = make_pipeline(\n",
    "    f_prep_pipe,\n",
    "    SelectFromModel(LogisticRegression(penalty='l2', random_state=RANDOM_STATE, solver='sag'), threshold=1e-2),\n",
    "    GradientBoostingClassifier(max_depth=5, random_state=RANDOM_STATE)\n",
    ")"
   ]
  },
  {
   "cell_type": "code",
   "execution_count": null,
   "metadata": {
    "id": "HtZOGvgkHqGf"
   },
   "outputs": [],
   "source": [
    "# param_grid = {   \n",
    "#     'gradientboostingclassifier__min_samples_leaf': [1, 2],\n",
    "#     'gradientboostingclassifier__n_estimators': [50, 100]\n",
    "# }\n",
    "\n",
    "# blnced_fs_gb_gsc = run_grid_search(blnced_fs_gb_pipe, X_res, y_res, param_grid, kfold_cv)\n",
    "\n",
    "# # Best f1_macro score: 0.89\n",
    "# # Best parameters set found on development set:\n",
    "# # {'gradientboostingclassifier__min_samples_leaf': 2, 'gradientboostingclassifier__n_estimators': 50}\n",
    "# # Grid scores on development set:\n",
    "# # 0.894 (+/-0.003) for {'gradientboostingclassifier__min_samples_leaf': 1, 'gradientboostingclassifier__n_estimators': 50}\n",
    "# # 0.894 (+/-0.003) for {'gradientboostingclassifier__min_samples_leaf': 1, 'gradientboostingclassifier__n_estimators': 100}\n",
    "# # 0.894 (+/-0.003) for {'gradientboostingclassifier__min_samples_leaf': 2, 'gradientboostingclassifier__n_estimators': 50}\n",
    "# # 0.894 (+/-0.003) for {'gradientboostingclassifier__min_samples_leaf': 2, 'gradientboostingclassifier__n_estimators': 100}"
   ]
  },
  {
   "cell_type": "code",
   "execution_count": 74,
   "metadata": {
    "id": "F1lcueVJIRMg"
   },
   "outputs": [],
   "source": [
    "# Метрика повысилась, однако стоит внимательно отнестись к моменту переобучения\n",
    "compare_table.loc[5] = ['Balanced_Prep_f_SelectFromModel_GradientBoostingClassifier', \n",
    "                        'blnced_fs_gb_pipe', \n",
    "                        0.89, \n",
    "                        \"{'gradientboostingclassifier__min_samples_leaf': 2, 'gradientboostingclassifier__n_estimators': 50}\"]"
   ]
  },
  {
   "cell_type": "code",
   "execution_count": 75,
   "metadata": {
    "colab": {
     "base_uri": "https://localhost:8080/",
     "height": 238
    },
    "id": "zLmdLzZIIRPv",
    "outputId": "726cbc26-d982-4cd7-b012-6f32b4a8f7a6"
   },
   "outputs": [
    {
     "data": {
      "text/html": [
       "\n",
       "  <div id=\"df-3ea8785e-35a1-4f25-816f-ef7ef89678e5\">\n",
       "    <div class=\"colab-df-container\">\n",
       "      <div>\n",
       "<style scoped>\n",
       "    .dataframe tbody tr th:only-of-type {\n",
       "        vertical-align: middle;\n",
       "    }\n",
       "\n",
       "    .dataframe tbody tr th {\n",
       "        vertical-align: top;\n",
       "    }\n",
       "\n",
       "    .dataframe thead th {\n",
       "        text-align: right;\n",
       "    }\n",
       "</style>\n",
       "<table border=\"1\" class=\"dataframe\">\n",
       "  <thead>\n",
       "    <tr style=\"text-align: right;\">\n",
       "      <th></th>\n",
       "      <th>Model_name</th>\n",
       "      <th>Pipeline_name</th>\n",
       "      <th>F1_macro</th>\n",
       "      <th>Best_params</th>\n",
       "    </tr>\n",
       "  </thead>\n",
       "  <tbody>\n",
       "    <tr>\n",
       "      <th>0</th>\n",
       "      <td>Baseline_LogisticRegression</td>\n",
       "      <td>bl_lg_estimator</td>\n",
       "      <td>0.47</td>\n",
       "      <td>-</td>\n",
       "    </tr>\n",
       "    <tr>\n",
       "      <th>1</th>\n",
       "      <td>Prep_features_LogisticRegression</td>\n",
       "      <td>lg_pipe</td>\n",
       "      <td>0.61</td>\n",
       "      <td>{'logisticregression__C': 1.0, 'logisticregres...</td>\n",
       "    </tr>\n",
       "    <tr>\n",
       "      <th>2</th>\n",
       "      <td>Prep_f_SelectFromModel_LogisticRegression</td>\n",
       "      <td>fs_lg_pipe</td>\n",
       "      <td>0.61</td>\n",
       "      <td>{'selectfrommodel__threshold': 0.01}</td>\n",
       "    </tr>\n",
       "    <tr>\n",
       "      <th>3</th>\n",
       "      <td>Tsvd_LogisticRegression</td>\n",
       "      <td>tsvd_lg_pipe</td>\n",
       "      <td>0.47</td>\n",
       "      <td>{'pipeline__columntransformer__tsvd__n_compone...</td>\n",
       "    </tr>\n",
       "    <tr>\n",
       "      <th>4</th>\n",
       "      <td>Prep_f_SelectFromModel_GradientBoostingClassifier</td>\n",
       "      <td>fs_gb_pipe</td>\n",
       "      <td>0.72</td>\n",
       "      <td>{'gradientboostingclassifier__max_depth': 5}</td>\n",
       "    </tr>\n",
       "    <tr>\n",
       "      <th>5</th>\n",
       "      <td>Balanced_Prep_f_SelectFromModel_GradientBoosti...</td>\n",
       "      <td>blnced_fs_gb_pipe</td>\n",
       "      <td>0.89</td>\n",
       "      <td>{'gradientboostingclassifier__min_samples_leaf...</td>\n",
       "    </tr>\n",
       "  </tbody>\n",
       "</table>\n",
       "</div>\n",
       "      <button class=\"colab-df-convert\" onclick=\"convertToInteractive('df-3ea8785e-35a1-4f25-816f-ef7ef89678e5')\"\n",
       "              title=\"Convert this dataframe to an interactive table.\"\n",
       "              style=\"display:none;\">\n",
       "        \n",
       "  <svg xmlns=\"http://www.w3.org/2000/svg\" height=\"24px\"viewBox=\"0 0 24 24\"\n",
       "       width=\"24px\">\n",
       "    <path d=\"M0 0h24v24H0V0z\" fill=\"none\"/>\n",
       "    <path d=\"M18.56 5.44l.94 2.06.94-2.06 2.06-.94-2.06-.94-.94-2.06-.94 2.06-2.06.94zm-11 1L8.5 8.5l.94-2.06 2.06-.94-2.06-.94L8.5 2.5l-.94 2.06-2.06.94zm10 10l.94 2.06.94-2.06 2.06-.94-2.06-.94-.94-2.06-.94 2.06-2.06.94z\"/><path d=\"M17.41 7.96l-1.37-1.37c-.4-.4-.92-.59-1.43-.59-.52 0-1.04.2-1.43.59L10.3 9.45l-7.72 7.72c-.78.78-.78 2.05 0 2.83L4 21.41c.39.39.9.59 1.41.59.51 0 1.02-.2 1.41-.59l7.78-7.78 2.81-2.81c.8-.78.8-2.07 0-2.86zM5.41 20L4 18.59l7.72-7.72 1.47 1.35L5.41 20z\"/>\n",
       "  </svg>\n",
       "      </button>\n",
       "      \n",
       "  <style>\n",
       "    .colab-df-container {\n",
       "      display:flex;\n",
       "      flex-wrap:wrap;\n",
       "      gap: 12px;\n",
       "    }\n",
       "\n",
       "    .colab-df-convert {\n",
       "      background-color: #E8F0FE;\n",
       "      border: none;\n",
       "      border-radius: 50%;\n",
       "      cursor: pointer;\n",
       "      display: none;\n",
       "      fill: #1967D2;\n",
       "      height: 32px;\n",
       "      padding: 0 0 0 0;\n",
       "      width: 32px;\n",
       "    }\n",
       "\n",
       "    .colab-df-convert:hover {\n",
       "      background-color: #E2EBFA;\n",
       "      box-shadow: 0px 1px 2px rgba(60, 64, 67, 0.3), 0px 1px 3px 1px rgba(60, 64, 67, 0.15);\n",
       "      fill: #174EA6;\n",
       "    }\n",
       "\n",
       "    [theme=dark] .colab-df-convert {\n",
       "      background-color: #3B4455;\n",
       "      fill: #D2E3FC;\n",
       "    }\n",
       "\n",
       "    [theme=dark] .colab-df-convert:hover {\n",
       "      background-color: #434B5C;\n",
       "      box-shadow: 0px 1px 3px 1px rgba(0, 0, 0, 0.15);\n",
       "      filter: drop-shadow(0px 1px 2px rgba(0, 0, 0, 0.3));\n",
       "      fill: #FFFFFF;\n",
       "    }\n",
       "  </style>\n",
       "\n",
       "      <script>\n",
       "        const buttonEl =\n",
       "          document.querySelector('#df-3ea8785e-35a1-4f25-816f-ef7ef89678e5 button.colab-df-convert');\n",
       "        buttonEl.style.display =\n",
       "          google.colab.kernel.accessAllowed ? 'block' : 'none';\n",
       "\n",
       "        async function convertToInteractive(key) {\n",
       "          const element = document.querySelector('#df-3ea8785e-35a1-4f25-816f-ef7ef89678e5');\n",
       "          const dataTable =\n",
       "            await google.colab.kernel.invokeFunction('convertToInteractive',\n",
       "                                                     [key], {});\n",
       "          if (!dataTable) return;\n",
       "\n",
       "          const docLinkHtml = 'Like what you see? Visit the ' +\n",
       "            '<a target=\"_blank\" href=https://colab.research.google.com/notebooks/data_table.ipynb>data table notebook</a>'\n",
       "            + ' to learn more about interactive tables.';\n",
       "          element.innerHTML = '';\n",
       "          dataTable['output_type'] = 'display_data';\n",
       "          await google.colab.output.renderOutput(dataTable, element);\n",
       "          const docLink = document.createElement('div');\n",
       "          docLink.innerHTML = docLinkHtml;\n",
       "          element.appendChild(docLink);\n",
       "        }\n",
       "      </script>\n",
       "    </div>\n",
       "  </div>\n",
       "  "
      ],
      "text/plain": [
       "                                          Model_name  ...                                        Best_params\n",
       "0                        Baseline_LogisticRegression  ...                                                  -\n",
       "1                   Prep_features_LogisticRegression  ...  {'logisticregression__C': 1.0, 'logisticregres...\n",
       "2          Prep_f_SelectFromModel_LogisticRegression  ...               {'selectfrommodel__threshold': 0.01}\n",
       "3                            Tsvd_LogisticRegression  ...  {'pipeline__columntransformer__tsvd__n_compone...\n",
       "4  Prep_f_SelectFromModel_GradientBoostingClassifier  ...       {'gradientboostingclassifier__max_depth': 5}\n",
       "5  Balanced_Prep_f_SelectFromModel_GradientBoosti...  ...  {'gradientboostingclassifier__min_samples_leaf...\n",
       "\n",
       "[6 rows x 4 columns]"
      ]
     },
     "execution_count": 75,
     "metadata": {},
     "output_type": "execute_result"
    }
   ],
   "source": [
    "compare_table"
   ]
  },
  {
   "cell_type": "markdown",
   "metadata": {
    "id": "hA-Ld06jE2oQ"
   },
   "source": [
    "**3. RandomForestClassifier**"
   ]
  },
  {
   "cell_type": "code",
   "execution_count": 76,
   "metadata": {
    "id": "odqzwqupSL7N"
   },
   "outputs": [],
   "source": [
    "# Попробуем построить модель с классом RandomForestClassifier\n",
    "# Ограничим глубину в 5\n",
    "fs_rf_pipe = make_pipeline(\n",
    "    f_prep_pipe,\n",
    "    SelectFromModel(LogisticRegression(penalty='l2', random_state=RANDOM_STATE, solver='sag'), threshold=1e-2),\n",
    "    RandomForestClassifier(max_depth=5, random_state=RANDOM_STATE)\n",
    ")"
   ]
  },
  {
   "cell_type": "code",
   "execution_count": null,
   "metadata": {
    "id": "tikO0g7pSMUD"
   },
   "outputs": [],
   "source": [
    "# [k for k in fs_rf_pipe.get_params().keys() if 'randomforestclassifier' in k]"
   ]
  },
  {
   "cell_type": "code",
   "execution_count": null,
   "metadata": {
    "id": "I3f0SB3tSMYf"
   },
   "outputs": [],
   "source": [
    "# param_grid = {   \n",
    "#     'randomforestclassifier__min_samples_leaf': [1, 2],\n",
    "#     'randomforestclassifier__n_estimators': [50, 100]\n",
    "# }\n",
    "\n",
    "# fs_rf_gsc = run_grid_search(fs_rf_pipe, X_train, y_train, param_grid, kfold_cv)\n",
    "\n",
    "# # Best f1_macro score: 0.49\n",
    "# # Best parameters set found on development set:\n",
    "# # {'randomforestclassifier__min_samples_leaf': 2, 'randomforestclassifier__n_estimators': 100}\n",
    "# # Grid scores on development set:\n",
    "# # 0.494 (+/-0.031) for {'randomforestclassifier__min_samples_leaf': 1, 'randomforestclassifier__n_estimators': 50}\n",
    "# # 0.494 (+/-0.031) for {'randomforestclassifier__min_samples_leaf': 1, 'randomforestclassifier__n_estimators': 100}\n",
    "# # 0.494 (+/-0.031) for {'randomforestclassifier__min_samples_leaf': 2, 'randomforestclassifier__n_estimators': 50}\n",
    "# # 0.495 (+/-0.030) for {'randomforestclassifier__min_samples_leaf': 2, 'randomforestclassifier__n_estimators': 100}"
   ]
  },
  {
   "cell_type": "code",
   "execution_count": 77,
   "metadata": {
    "id": "R-TdMsEcekIT"
   },
   "outputs": [],
   "source": [
    "compare_table.loc[6] = ['Prep_f_SelectFromModel_RandomForestClassifier', \n",
    "                        'fs_rf_pipe', \n",
    "                        0.49,\n",
    "                        \"{'randomforestclassifier__min_samples_leaf': 2, 'randomforestclassifier__n_estimators': 100}\"]"
   ]
  },
  {
   "cell_type": "code",
   "execution_count": 78,
   "metadata": {
    "colab": {
     "base_uri": "https://localhost:8080/",
     "height": 269
    },
    "id": "VhOKLgXZekM9",
    "outputId": "4c90d6c8-8f62-47c7-a128-7fac13f37814"
   },
   "outputs": [
    {
     "data": {
      "text/html": [
       "\n",
       "  <div id=\"df-84b58498-6caf-4bb3-83f6-767c3e7254e3\">\n",
       "    <div class=\"colab-df-container\">\n",
       "      <div>\n",
       "<style scoped>\n",
       "    .dataframe tbody tr th:only-of-type {\n",
       "        vertical-align: middle;\n",
       "    }\n",
       "\n",
       "    .dataframe tbody tr th {\n",
       "        vertical-align: top;\n",
       "    }\n",
       "\n",
       "    .dataframe thead th {\n",
       "        text-align: right;\n",
       "    }\n",
       "</style>\n",
       "<table border=\"1\" class=\"dataframe\">\n",
       "  <thead>\n",
       "    <tr style=\"text-align: right;\">\n",
       "      <th></th>\n",
       "      <th>Model_name</th>\n",
       "      <th>Pipeline_name</th>\n",
       "      <th>F1_macro</th>\n",
       "      <th>Best_params</th>\n",
       "    </tr>\n",
       "  </thead>\n",
       "  <tbody>\n",
       "    <tr>\n",
       "      <th>0</th>\n",
       "      <td>Baseline_LogisticRegression</td>\n",
       "      <td>bl_lg_estimator</td>\n",
       "      <td>0.47</td>\n",
       "      <td>-</td>\n",
       "    </tr>\n",
       "    <tr>\n",
       "      <th>1</th>\n",
       "      <td>Prep_features_LogisticRegression</td>\n",
       "      <td>lg_pipe</td>\n",
       "      <td>0.61</td>\n",
       "      <td>{'logisticregression__C': 1.0, 'logisticregres...</td>\n",
       "    </tr>\n",
       "    <tr>\n",
       "      <th>2</th>\n",
       "      <td>Prep_f_SelectFromModel_LogisticRegression</td>\n",
       "      <td>fs_lg_pipe</td>\n",
       "      <td>0.61</td>\n",
       "      <td>{'selectfrommodel__threshold': 0.01}</td>\n",
       "    </tr>\n",
       "    <tr>\n",
       "      <th>3</th>\n",
       "      <td>Tsvd_LogisticRegression</td>\n",
       "      <td>tsvd_lg_pipe</td>\n",
       "      <td>0.47</td>\n",
       "      <td>{'pipeline__columntransformer__tsvd__n_compone...</td>\n",
       "    </tr>\n",
       "    <tr>\n",
       "      <th>4</th>\n",
       "      <td>Prep_f_SelectFromModel_GradientBoostingClassifier</td>\n",
       "      <td>fs_gb_pipe</td>\n",
       "      <td>0.72</td>\n",
       "      <td>{'gradientboostingclassifier__max_depth': 5}</td>\n",
       "    </tr>\n",
       "    <tr>\n",
       "      <th>5</th>\n",
       "      <td>Balanced_Prep_f_SelectFromModel_GradientBoosti...</td>\n",
       "      <td>blnced_fs_gb_pipe</td>\n",
       "      <td>0.89</td>\n",
       "      <td>{'gradientboostingclassifier__min_samples_leaf...</td>\n",
       "    </tr>\n",
       "    <tr>\n",
       "      <th>6</th>\n",
       "      <td>Prep_f_SelectFromModel_RandomForestClassifier</td>\n",
       "      <td>fs_rf_pipe</td>\n",
       "      <td>0.49</td>\n",
       "      <td>{'randomforestclassifier__min_samples_leaf': 2...</td>\n",
       "    </tr>\n",
       "  </tbody>\n",
       "</table>\n",
       "</div>\n",
       "      <button class=\"colab-df-convert\" onclick=\"convertToInteractive('df-84b58498-6caf-4bb3-83f6-767c3e7254e3')\"\n",
       "              title=\"Convert this dataframe to an interactive table.\"\n",
       "              style=\"display:none;\">\n",
       "        \n",
       "  <svg xmlns=\"http://www.w3.org/2000/svg\" height=\"24px\"viewBox=\"0 0 24 24\"\n",
       "       width=\"24px\">\n",
       "    <path d=\"M0 0h24v24H0V0z\" fill=\"none\"/>\n",
       "    <path d=\"M18.56 5.44l.94 2.06.94-2.06 2.06-.94-2.06-.94-.94-2.06-.94 2.06-2.06.94zm-11 1L8.5 8.5l.94-2.06 2.06-.94-2.06-.94L8.5 2.5l-.94 2.06-2.06.94zm10 10l.94 2.06.94-2.06 2.06-.94-2.06-.94-.94-2.06-.94 2.06-2.06.94z\"/><path d=\"M17.41 7.96l-1.37-1.37c-.4-.4-.92-.59-1.43-.59-.52 0-1.04.2-1.43.59L10.3 9.45l-7.72 7.72c-.78.78-.78 2.05 0 2.83L4 21.41c.39.39.9.59 1.41.59.51 0 1.02-.2 1.41-.59l7.78-7.78 2.81-2.81c.8-.78.8-2.07 0-2.86zM5.41 20L4 18.59l7.72-7.72 1.47 1.35L5.41 20z\"/>\n",
       "  </svg>\n",
       "      </button>\n",
       "      \n",
       "  <style>\n",
       "    .colab-df-container {\n",
       "      display:flex;\n",
       "      flex-wrap:wrap;\n",
       "      gap: 12px;\n",
       "    }\n",
       "\n",
       "    .colab-df-convert {\n",
       "      background-color: #E8F0FE;\n",
       "      border: none;\n",
       "      border-radius: 50%;\n",
       "      cursor: pointer;\n",
       "      display: none;\n",
       "      fill: #1967D2;\n",
       "      height: 32px;\n",
       "      padding: 0 0 0 0;\n",
       "      width: 32px;\n",
       "    }\n",
       "\n",
       "    .colab-df-convert:hover {\n",
       "      background-color: #E2EBFA;\n",
       "      box-shadow: 0px 1px 2px rgba(60, 64, 67, 0.3), 0px 1px 3px 1px rgba(60, 64, 67, 0.15);\n",
       "      fill: #174EA6;\n",
       "    }\n",
       "\n",
       "    [theme=dark] .colab-df-convert {\n",
       "      background-color: #3B4455;\n",
       "      fill: #D2E3FC;\n",
       "    }\n",
       "\n",
       "    [theme=dark] .colab-df-convert:hover {\n",
       "      background-color: #434B5C;\n",
       "      box-shadow: 0px 1px 3px 1px rgba(0, 0, 0, 0.15);\n",
       "      filter: drop-shadow(0px 1px 2px rgba(0, 0, 0, 0.3));\n",
       "      fill: #FFFFFF;\n",
       "    }\n",
       "  </style>\n",
       "\n",
       "      <script>\n",
       "        const buttonEl =\n",
       "          document.querySelector('#df-84b58498-6caf-4bb3-83f6-767c3e7254e3 button.colab-df-convert');\n",
       "        buttonEl.style.display =\n",
       "          google.colab.kernel.accessAllowed ? 'block' : 'none';\n",
       "\n",
       "        async function convertToInteractive(key) {\n",
       "          const element = document.querySelector('#df-84b58498-6caf-4bb3-83f6-767c3e7254e3');\n",
       "          const dataTable =\n",
       "            await google.colab.kernel.invokeFunction('convertToInteractive',\n",
       "                                                     [key], {});\n",
       "          if (!dataTable) return;\n",
       "\n",
       "          const docLinkHtml = 'Like what you see? Visit the ' +\n",
       "            '<a target=\"_blank\" href=https://colab.research.google.com/notebooks/data_table.ipynb>data table notebook</a>'\n",
       "            + ' to learn more about interactive tables.';\n",
       "          element.innerHTML = '';\n",
       "          dataTable['output_type'] = 'display_data';\n",
       "          await google.colab.output.renderOutput(dataTable, element);\n",
       "          const docLink = document.createElement('div');\n",
       "          docLink.innerHTML = docLinkHtml;\n",
       "          element.appendChild(docLink);\n",
       "        }\n",
       "      </script>\n",
       "    </div>\n",
       "  </div>\n",
       "  "
      ],
      "text/plain": [
       "                                          Model_name  ...                                        Best_params\n",
       "0                        Baseline_LogisticRegression  ...                                                  -\n",
       "1                   Prep_features_LogisticRegression  ...  {'logisticregression__C': 1.0, 'logisticregres...\n",
       "2          Prep_f_SelectFromModel_LogisticRegression  ...               {'selectfrommodel__threshold': 0.01}\n",
       "3                            Tsvd_LogisticRegression  ...  {'pipeline__columntransformer__tsvd__n_compone...\n",
       "4  Prep_f_SelectFromModel_GradientBoostingClassifier  ...       {'gradientboostingclassifier__max_depth': 5}\n",
       "5  Balanced_Prep_f_SelectFromModel_GradientBoosti...  ...  {'gradientboostingclassifier__min_samples_leaf...\n",
       "6      Prep_f_SelectFromModel_RandomForestClassifier  ...  {'randomforestclassifier__min_samples_leaf': 2...\n",
       "\n",
       "[7 rows x 4 columns]"
      ]
     },
     "execution_count": 78,
     "metadata": {},
     "output_type": "execute_result"
    }
   ],
   "source": [
    "compare_table"
   ]
  },
  {
   "cell_type": "markdown",
   "metadata": {
    "id": "F4FSw5paEu0K"
   },
   "source": [
    "**4. LGBMClassifier**"
   ]
  },
  {
   "cell_type": "code",
   "execution_count": 79,
   "metadata": {
    "id": "8s4D0fijCivp"
   },
   "outputs": [],
   "source": [
    "# Попробуем построить модель с классом LGBMClassifier\n",
    "lgbm_fs_pipe = make_pipeline(\n",
    "    f_prep_pipe,\n",
    "    SelectFromModel(LogisticRegression(penalty='l2', random_state=RANDOM_STATE, solver='sag'), threshold=1e-2),\n",
    "    lgb.LGBMClassifier(is_unbalance=True, max_depth=10, learning_rate=0.1, random_state=RANDOM_STATE)\n",
    ")"
   ]
  },
  {
   "cell_type": "code",
   "execution_count": null,
   "metadata": {
    "id": "BNTNm4SnCiyt"
   },
   "outputs": [],
   "source": [
    "# param_grid = {   \n",
    "#     'lgbmclassifier__max_depth': [3, 5, 10],\n",
    "#     'lgbmclassifier__is_unbalance': [True, False],\n",
    "#     'lgbmclassifier__learning_rate': [0.1, 1.0]\n",
    "# }\n",
    "\n",
    "# lgbm_fs_gsc = run_grid_search(lgbm_fs_pipe, X_train, y_train, param_grid, kfold_cv)\n",
    "\n",
    "# # Best f1_macro score: 0.74\n",
    "# # Best parameters set found on development set:\n",
    "# # {'lgbmclassifier__is_unbalance': True, 'lgbmclassifier__learning_rate': 0.1, 'lgbmclassifier__max_depth': 10}\n",
    "# # Grid scores on development set:\n",
    "# # 0.740 (+/-0.003) for {'lgbmclassifier__is_unbalance': True, 'lgbmclassifier__learning_rate': 0.1, 'lgbmclassifier__max_depth': 3}\n",
    "# # 0.741 (+/-0.003) for {'lgbmclassifier__is_unbalance': True, 'lgbmclassifier__learning_rate': 0.1, 'lgbmclassifier__max_depth': 5}\n",
    "# # 0.743 (+/-0.003) for {'lgbmclassifier__is_unbalance': True, 'lgbmclassifier__learning_rate': 0.1, 'lgbmclassifier__max_depth': 10}\n",
    "# # 0.526 (+/-0.186) for {'lgbmclassifier__is_unbalance': True, 'lgbmclassifier__learning_rate': 1.0, 'lgbmclassifier__max_depth': 3}\n",
    "# # 0.472 (+/-0.213) for {'lgbmclassifier__is_unbalance': True, 'lgbmclassifier__learning_rate': 1.0, 'lgbmclassifier__max_depth': 5}\n",
    "# # 0.487 (+/-0.142) for {'lgbmclassifier__is_unbalance': True, 'lgbmclassifier__learning_rate': 1.0, 'lgbmclassifier__max_depth': 10}\n",
    "# # 0.718 (+/-0.010) for {'lgbmclassifier__is_unbalance': False, 'lgbmclassifier__learning_rate': 0.1, 'lgbmclassifier__max_depth': 3}\n",
    "# # 0.720 (+/-0.006) for {'lgbmclassifier__is_unbalance': False, 'lgbmclassifier__learning_rate': 0.1, 'lgbmclassifier__max_depth': 5}\n",
    "# # 0.717 (+/-0.005) for {'lgbmclassifier__is_unbalance': False, 'lgbmclassifier__learning_rate': 0.1, 'lgbmclassifier__max_depth': 10}\n",
    "# # 0.502 (+/-0.050) for {'lgbmclassifier__is_unbalance': False, 'lgbmclassifier__learning_rate': 1.0, 'lgbmclassifier__max_depth': 3}\n",
    "# # 0.514 (+/-0.088) for {'lgbmclassifier__is_unbalance': False, 'lgbmclassifier__learning_rate': 1.0, 'lgbmclassifier__max_depth': 5}\n",
    "# # 0.567 (+/-0.095) for {'lgbmclassifier__is_unbalance': False, 'lgbmclassifier__learning_rate': 1.0, 'lgbmclassifier__max_depth': 10}"
   ]
  },
  {
   "cell_type": "code",
   "execution_count": null,
   "metadata": {
    "id": "TSBwfurUF2p9"
   },
   "outputs": [],
   "source": [
    "# [k for k in lgbm_fs_pipe.get_params().keys() if 'lgbmclassifie' in k]"
   ]
  },
  {
   "cell_type": "code",
   "execution_count": 80,
   "metadata": {
    "id": "-UjeNmkX4Uod"
   },
   "outputs": [],
   "source": [
    "compare_table.loc[7] = ['Prep_f_SelectFromModel_LGBMClassifier', \n",
    "                        'lgbm_fs_pipe', \n",
    "                        0.74,\n",
    "                        \"{'lgbmclassifier__is_unbalance': True, 'lgbmclassifier__learning_rate': 0.1, 'lgbmclassifier__max_depth': 10}\"]"
   ]
  },
  {
   "cell_type": "code",
   "execution_count": 90,
   "metadata": {
    "colab": {
     "base_uri": "https://localhost:8080/",
     "height": 300
    },
    "id": "gJFmFEn94Ur0",
    "outputId": "916ec630-39fd-44bf-dcd1-695e07041c15"
   },
   "outputs": [
    {
     "data": {
      "text/html": [
       "\n",
       "  <div id=\"df-ea2478e3-c3aa-467c-8e1e-4ed53c2c1540\">\n",
       "    <div class=\"colab-df-container\">\n",
       "      <div>\n",
       "<style scoped>\n",
       "    .dataframe tbody tr th:only-of-type {\n",
       "        vertical-align: middle;\n",
       "    }\n",
       "\n",
       "    .dataframe tbody tr th {\n",
       "        vertical-align: top;\n",
       "    }\n",
       "\n",
       "    .dataframe thead th {\n",
       "        text-align: right;\n",
       "    }\n",
       "</style>\n",
       "<table border=\"1\" class=\"dataframe\">\n",
       "  <thead>\n",
       "    <tr style=\"text-align: right;\">\n",
       "      <th></th>\n",
       "      <th>Model_name</th>\n",
       "      <th>Pipeline_name</th>\n",
       "      <th>F1_macro</th>\n",
       "      <th>Best_params</th>\n",
       "    </tr>\n",
       "  </thead>\n",
       "  <tbody>\n",
       "    <tr>\n",
       "      <th>0</th>\n",
       "      <td>Baseline_LogisticRegression</td>\n",
       "      <td>bl_lg_estimator</td>\n",
       "      <td>0.47</td>\n",
       "      <td>-</td>\n",
       "    </tr>\n",
       "    <tr>\n",
       "      <th>1</th>\n",
       "      <td>Prep_features_LogisticRegression</td>\n",
       "      <td>lg_pipe</td>\n",
       "      <td>0.61</td>\n",
       "      <td>{'logisticregression__C': 1.0, 'logisticregres...</td>\n",
       "    </tr>\n",
       "    <tr>\n",
       "      <th>2</th>\n",
       "      <td>Prep_f_SelectFromModel_LogisticRegression</td>\n",
       "      <td>fs_lg_pipe</td>\n",
       "      <td>0.61</td>\n",
       "      <td>{'selectfrommodel__threshold': 0.01}</td>\n",
       "    </tr>\n",
       "    <tr>\n",
       "      <th>3</th>\n",
       "      <td>Tsvd_LogisticRegression</td>\n",
       "      <td>tsvd_lg_pipe</td>\n",
       "      <td>0.47</td>\n",
       "      <td>{'pipeline__columntransformer__tsvd__n_compone...</td>\n",
       "    </tr>\n",
       "    <tr>\n",
       "      <th>4</th>\n",
       "      <td>Prep_f_SelectFromModel_GradientBoostingClassifier</td>\n",
       "      <td>fs_gb_pipe</td>\n",
       "      <td>0.72</td>\n",
       "      <td>{'gradientboostingclassifier__max_depth': 5}</td>\n",
       "    </tr>\n",
       "    <tr>\n",
       "      <th>5</th>\n",
       "      <td>Balanced_Prep_f_SelectFromModel_GradientBoosti...</td>\n",
       "      <td>blnced_fs_gb_pipe</td>\n",
       "      <td>0.89</td>\n",
       "      <td>{'gradientboostingclassifier__min_samples_leaf...</td>\n",
       "    </tr>\n",
       "    <tr>\n",
       "      <th>6</th>\n",
       "      <td>Prep_f_SelectFromModel_RandomForestClassifier</td>\n",
       "      <td>fs_rf_pipe</td>\n",
       "      <td>0.49</td>\n",
       "      <td>{'randomforestclassifier__min_samples_leaf': 2...</td>\n",
       "    </tr>\n",
       "    <tr>\n",
       "      <th>7</th>\n",
       "      <td>Prep_f_SelectFromModel_LGBMClassifier</td>\n",
       "      <td>lgbm_fs_pipe</td>\n",
       "      <td>0.74</td>\n",
       "      <td>{'lgbmclassifier__is_unbalance': True, 'lgbmcl...</td>\n",
       "    </tr>\n",
       "  </tbody>\n",
       "</table>\n",
       "</div>\n",
       "      <button class=\"colab-df-convert\" onclick=\"convertToInteractive('df-ea2478e3-c3aa-467c-8e1e-4ed53c2c1540')\"\n",
       "              title=\"Convert this dataframe to an interactive table.\"\n",
       "              style=\"display:none;\">\n",
       "        \n",
       "  <svg xmlns=\"http://www.w3.org/2000/svg\" height=\"24px\"viewBox=\"0 0 24 24\"\n",
       "       width=\"24px\">\n",
       "    <path d=\"M0 0h24v24H0V0z\" fill=\"none\"/>\n",
       "    <path d=\"M18.56 5.44l.94 2.06.94-2.06 2.06-.94-2.06-.94-.94-2.06-.94 2.06-2.06.94zm-11 1L8.5 8.5l.94-2.06 2.06-.94-2.06-.94L8.5 2.5l-.94 2.06-2.06.94zm10 10l.94 2.06.94-2.06 2.06-.94-2.06-.94-.94-2.06-.94 2.06-2.06.94z\"/><path d=\"M17.41 7.96l-1.37-1.37c-.4-.4-.92-.59-1.43-.59-.52 0-1.04.2-1.43.59L10.3 9.45l-7.72 7.72c-.78.78-.78 2.05 0 2.83L4 21.41c.39.39.9.59 1.41.59.51 0 1.02-.2 1.41-.59l7.78-7.78 2.81-2.81c.8-.78.8-2.07 0-2.86zM5.41 20L4 18.59l7.72-7.72 1.47 1.35L5.41 20z\"/>\n",
       "  </svg>\n",
       "      </button>\n",
       "      \n",
       "  <style>\n",
       "    .colab-df-container {\n",
       "      display:flex;\n",
       "      flex-wrap:wrap;\n",
       "      gap: 12px;\n",
       "    }\n",
       "\n",
       "    .colab-df-convert {\n",
       "      background-color: #E8F0FE;\n",
       "      border: none;\n",
       "      border-radius: 50%;\n",
       "      cursor: pointer;\n",
       "      display: none;\n",
       "      fill: #1967D2;\n",
       "      height: 32px;\n",
       "      padding: 0 0 0 0;\n",
       "      width: 32px;\n",
       "    }\n",
       "\n",
       "    .colab-df-convert:hover {\n",
       "      background-color: #E2EBFA;\n",
       "      box-shadow: 0px 1px 2px rgba(60, 64, 67, 0.3), 0px 1px 3px 1px rgba(60, 64, 67, 0.15);\n",
       "      fill: #174EA6;\n",
       "    }\n",
       "\n",
       "    [theme=dark] .colab-df-convert {\n",
       "      background-color: #3B4455;\n",
       "      fill: #D2E3FC;\n",
       "    }\n",
       "\n",
       "    [theme=dark] .colab-df-convert:hover {\n",
       "      background-color: #434B5C;\n",
       "      box-shadow: 0px 1px 3px 1px rgba(0, 0, 0, 0.15);\n",
       "      filter: drop-shadow(0px 1px 2px rgba(0, 0, 0, 0.3));\n",
       "      fill: #FFFFFF;\n",
       "    }\n",
       "  </style>\n",
       "\n",
       "      <script>\n",
       "        const buttonEl =\n",
       "          document.querySelector('#df-ea2478e3-c3aa-467c-8e1e-4ed53c2c1540 button.colab-df-convert');\n",
       "        buttonEl.style.display =\n",
       "          google.colab.kernel.accessAllowed ? 'block' : 'none';\n",
       "\n",
       "        async function convertToInteractive(key) {\n",
       "          const element = document.querySelector('#df-ea2478e3-c3aa-467c-8e1e-4ed53c2c1540');\n",
       "          const dataTable =\n",
       "            await google.colab.kernel.invokeFunction('convertToInteractive',\n",
       "                                                     [key], {});\n",
       "          if (!dataTable) return;\n",
       "\n",
       "          const docLinkHtml = 'Like what you see? Visit the ' +\n",
       "            '<a target=\"_blank\" href=https://colab.research.google.com/notebooks/data_table.ipynb>data table notebook</a>'\n",
       "            + ' to learn more about interactive tables.';\n",
       "          element.innerHTML = '';\n",
       "          dataTable['output_type'] = 'display_data';\n",
       "          await google.colab.output.renderOutput(dataTable, element);\n",
       "          const docLink = document.createElement('div');\n",
       "          docLink.innerHTML = docLinkHtml;\n",
       "          element.appendChild(docLink);\n",
       "        }\n",
       "      </script>\n",
       "    </div>\n",
       "  </div>\n",
       "  "
      ],
      "text/plain": [
       "                                          Model_name  ...                                        Best_params\n",
       "0                        Baseline_LogisticRegression  ...                                                  -\n",
       "1                   Prep_features_LogisticRegression  ...  {'logisticregression__C': 1.0, 'logisticregres...\n",
       "2          Prep_f_SelectFromModel_LogisticRegression  ...               {'selectfrommodel__threshold': 0.01}\n",
       "3                            Tsvd_LogisticRegression  ...  {'pipeline__columntransformer__tsvd__n_compone...\n",
       "4  Prep_f_SelectFromModel_GradientBoostingClassifier  ...       {'gradientboostingclassifier__max_depth': 5}\n",
       "5  Balanced_Prep_f_SelectFromModel_GradientBoosti...  ...  {'gradientboostingclassifier__min_samples_leaf...\n",
       "6      Prep_f_SelectFromModel_RandomForestClassifier  ...  {'randomforestclassifier__min_samples_leaf': 2...\n",
       "7              Prep_f_SelectFromModel_LGBMClassifier  ...  {'lgbmclassifier__is_unbalance': True, 'lgbmcl...\n",
       "\n",
       "[8 rows x 4 columns]"
      ]
     },
     "execution_count": 90,
     "metadata": {},
     "output_type": "execute_result"
    }
   ],
   "source": [
    "compare_table"
   ]
  },
  {
   "cell_type": "markdown",
   "metadata": {
    "id": "qCKUT-nx5c_9"
   },
   "source": [
    "### **Сравнение моделей**"
   ]
  },
  {
   "cell_type": "code",
   "execution_count": 102,
   "metadata": {
    "id": "kRyen303HdWE"
   },
   "outputs": [],
   "source": [
    "# Prep_f_SelectFromModel_GradientBoostingClassifier\n",
    "# Обучаем X_train, y_train\n",
    "\n",
    "fs_gb_pipe = make_pipeline(\n",
    "    f_prep_pipe,\n",
    "    SelectFromModel(LogisticRegression(penalty='l2', random_state=RANDOM_STATE, solver='sag'), threshold=1e-2),\n",
    "    GradientBoostingClassifier(max_depth=5, random_state=RANDOM_STATE)\n",
    ")\n",
    "\n",
    "y_pred_1 = model_report(X_train, y_train, X_test, fs_gb_pipe)"
   ]
  },
  {
   "cell_type": "code",
   "execution_count": 103,
   "metadata": {
    "colab": {
     "base_uri": "https://localhost:8080/"
    },
    "id": "FKWYpD3TJW1u",
    "outputId": "dadb55de-42b5-4aa4-e118-9044d25a8abf"
   },
   "outputs": [
    {
     "name": "stdout",
     "output_type": "stream",
     "text": [
      "              precision    recall  f1-score   support\n",
      "\n",
      "         0.0       0.93      0.99      0.96     83129\n",
      "         1.0       0.43      0.06      0.10      6535\n",
      "\n",
      "    accuracy                           0.93     89664\n",
      "   macro avg       0.68      0.52      0.53     89664\n",
      "weighted avg       0.89      0.93      0.90     89664\n",
      "\n"
     ]
    }
   ],
   "source": [
    "print(classification_report(y_test, y_pred_1 > 0.5))"
   ]
  },
  {
   "cell_type": "code",
   "execution_count": 104,
   "metadata": {
    "id": "joA9tj09HdZw"
   },
   "outputs": [],
   "source": [
    "# Balanced_Prep_f_SelectFromModel_GradientBoostingClassifier\n",
    "# Обучаем X_res, y_res\n",
    "\n",
    "blnced_fs_gb_pipe = make_pipeline(\n",
    "    f_prep_pipe,\n",
    "    SelectFromModel(LogisticRegression(penalty='l2', random_state=RANDOM_STATE, solver='sag'), threshold=1e-2),\n",
    "    GradientBoostingClassifier(max_depth=5, min_samples_leaf=2, n_estimators=50, random_state=RANDOM_STATE)\n",
    ")\n",
    "\n",
    "y_pred_2 = model_report(X_res, y_res, X_test, blnced_fs_gb_pipe)"
   ]
  },
  {
   "cell_type": "code",
   "execution_count": 105,
   "metadata": {
    "colab": {
     "base_uri": "https://localhost:8080/"
    },
    "id": "R_Ti8SP6TtGg",
    "outputId": "4fb77f5a-f0a2-40d2-fc7c-2b00a8a2d371"
   },
   "outputs": [
    {
     "name": "stdout",
     "output_type": "stream",
     "text": [
      "              precision    recall  f1-score   support\n",
      "\n",
      "         0.0       1.00      0.86      0.93     83129\n",
      "         1.0       0.36      1.00      0.53      6535\n",
      "\n",
      "    accuracy                           0.87     89664\n",
      "   macro avg       0.68      0.93      0.73     89664\n",
      "weighted avg       0.95      0.87      0.90     89664\n",
      "\n"
     ]
    }
   ],
   "source": [
    "print(classification_report(y_test, y_pred_2 > 0.5))"
   ]
  },
  {
   "cell_type": "code",
   "execution_count": 106,
   "metadata": {
    "id": "uvboPu6kIhbH"
   },
   "outputs": [],
   "source": [
    "# Prep_f_SelectFromModel_LGBMClassifier\n",
    "# Обучаем X_train, y_train\n",
    "\n",
    "lgbm_fs_pipe = make_pipeline(\n",
    "    f_prep_pipe,\n",
    "    SelectFromModel(LogisticRegression(penalty='l2', random_state=RANDOM_STATE, solver='sag'), threshold=1e-2),\n",
    "    lgb.LGBMClassifier(is_unbalance=True, max_depth=10, learning_rate=0.1, random_state=RANDOM_STATE)\n",
    ")\n",
    "\n",
    "y_pred_3 = model_report(X_train, y_train, X_test, lgbm_fs_pipe)"
   ]
  },
  {
   "cell_type": "code",
   "execution_count": 107,
   "metadata": {
    "colab": {
     "base_uri": "https://localhost:8080/"
    },
    "id": "vDrjV8m8Ihe4",
    "outputId": "aa8cb3f6-dfb7-4a5c-e080-e260b49d8fd9"
   },
   "outputs": [
    {
     "name": "stdout",
     "output_type": "stream",
     "text": [
      "              precision    recall  f1-score   support\n",
      "\n",
      "         0.0       1.00      0.86      0.93     83129\n",
      "         1.0       0.36      1.00      0.53      6535\n",
      "\n",
      "    accuracy                           0.87     89664\n",
      "   macro avg       0.68      0.93      0.73     89664\n",
      "weighted avg       0.95      0.87      0.90     89664\n",
      "\n"
     ]
    }
   ],
   "source": [
    "print(classification_report(y_test, y_pred_3 > 0.5))"
   ]
  },
  {
   "cell_type": "code",
   "execution_count": 108,
   "metadata": {
    "colab": {
     "base_uri": "https://localhost:8080/",
     "height": 777
    },
    "id": "Upq_1tuuIhi1",
    "outputId": "133da932-9397-4812-fb5e-7057876345ed"
   },
   "outputs": [
    {
     "name": "stdout",
     "output_type": "stream",
     "text": [
      "Baseline_LogisticRegression: AUC_PR = 0.087\n",
      "Baseline_LogisticRegression: AUC_ROC = 0.562\n",
      "GradientBoostingClassifier: AUC_PR = 0.398\n",
      "GradientBoostingClassifier: AUC_ROC = 0.938\n",
      "Balanced_GradientBoostingClassifier: AUC_PR = 0.387\n",
      "Balanced_GradientBoostingClassifier: AUC_ROC = 0.937\n",
      "LGBMClassifier: AUC_PR = 0.395\n",
      "LGBMClassifier: AUC_ROC = 0.938\n",
      "\n"
     ]
    },
    {
     "data": {
      "image/png": "[encoded data removed]",
      "text/plain": [
       "<Figure size 720x720 with 2 Axes>"
      ]
     },
     "metadata": {
      "needs_background": "light"
     },
     "output_type": "display_data"
    }
   ],
   "source": [
    "# Построим графики сравнения моделей\n",
    "f, (ax1, ax2) = plt.subplots(1, 2, sharey=True)\n",
    "\n",
    "f.set_figheight(10)\n",
    "f.set_figwidth(10)\n",
    "\n",
    "ax1 = plt.subplot(211)\n",
    "ax1.set_title('ROC')\n",
    "ax1.set_xlabel('TPR')\n",
    "ax1.set_ylabel('FPR')\n",
    "\n",
    "ax2 = plt.subplot(212)\n",
    "ax2.set_title('PR')\n",
    "ax2.set_xlabel('Recall')\n",
    "ax2.set_ylabel('Precision')\n",
    "\n",
    "ax1.plot([0, 1], [0, 1], 'k--')\n",
    "\n",
    "fpr, tpr, roc_thresholds = roc_curve(y_test, bl_y_pred)\n",
    "precision, recall, pr_thresholds = precision_recall_curve(y_test, bl_y_pred)\n",
    "ax1.plot(fpr, tpr, label='Baseline_LogisticRegression', color='blue')\n",
    "ax2.plot(recall, precision, label='Baseline_LogisticRegression', color='blue')\n",
    "print('Baseline_LogisticRegression: AUC_PR = %.3f' % auc(recall, precision))\n",
    "print('Baseline_LogisticRegression: AUC_ROC = %.3f' % auc(fpr, tpr))\n",
    "\n",
    "fpr, tpr, roc_thresholds = roc_curve(y_test, y_pred_1)\n",
    "precision, recall, pr_thresholds = precision_recall_curve(y_test, y_pred_1)\n",
    "ax1.plot(fpr, tpr, label='GradientBoostingClassifier', color='green')\n",
    "ax2.plot(recall, precision, label='GradientBoostingClassifier', color='green')\n",
    "print('GradientBoostingClassifier: AUC_PR = %.3f' % auc(recall, precision))\n",
    "print('GradientBoostingClassifier: AUC_ROC = %.3f' % auc(fpr, tpr))\n",
    "\n",
    "fpr, tpr, roc_thresholds = roc_curve(y_test, y_pred_2)\n",
    "precision, recall, pr_thresholds = precision_recall_curve(y_test, y_pred_2)\n",
    "ax1.plot(fpr, tpr, label='Balanced_GradientBoostingClassifier', color='purple')\n",
    "ax2.plot(recall, precision, label='Balanced_GradientBoostingClassifier', color='purple')\n",
    "print('Balanced_GradientBoostingClassifier: AUC_PR = %.3f' % auc(recall, precision))\n",
    "print('Balanced_GradientBoostingClassifier: AUC_ROC = %.3f' % auc(fpr, tpr))\n",
    "\n",
    "fpr, tpr, roc_thresholds = roc_curve(y_test, y_pred_3)\n",
    "precision, recall, pr_thresholds = precision_recall_curve(y_test, y_pred_3)\n",
    "ax1.plot(fpr, tpr, label='LGBMClassifier', color='red')\n",
    "ax2.plot(recall, precision, label='LGBMClassifier', color='red')\n",
    "print('LGBMClassifier: AUC_PR = %.3f' % auc(recall, precision))\n",
    "print('LGBMClassifier: AUC_ROC = %.3f' % auc(fpr, tpr))\n",
    "print()\n",
    "\n",
    "ax1.legend(loc='lower right')\n",
    "ax2.legend(loc='higher right');\n",
    "plt.savefig('ROC_PR_curves.png', transparent=True)"
   ]
  },
  {
   "cell_type": "markdown",
   "metadata": {
    "id": "OYDWIbVYwXMP"
   },
   "source": [
    "### **Финальная модель и расчет порога**"
   ]
  },
  {
   "cell_type": "code",
   "execution_count": 109,
   "metadata": {
    "id": "4AYtxKQ283LV"
   },
   "outputs": [],
   "source": [
    "# Для финальной модели выбираем LGBMClassifier\n",
    "fpr, tpr, roc_thresholds = roc_curve(y_test, y_pred_3)\n",
    "precision, recall, pr_thresholds = precision_recall_curve(y_test, y_pred_3)"
   ]
  },
  {
   "cell_type": "code",
   "execution_count": 110,
   "metadata": {
    "colab": {
     "base_uri": "https://localhost:8080/",
     "height": 349
    },
    "id": "bnGz_cshYYdG",
    "outputId": "cf4c4773-914d-46d7-dcb9-c1b178e24fd0"
   },
   "outputs": [
    {
     "name": "stdout",
     "output_type": "stream",
     "text": [
      "Confusion matrix, without normalization\n",
      "[[71720 11409]\n",
      " [   14  6521]]\n"
     ]
    },
    {
     "data": {
      "image/png": "[encoded data removed]",
      "text/plain": [
       "<Figure size 432x288 with 1 Axes>"
      ]
     },
     "metadata": {
      "needs_background": "light"
     },
     "output_type": "display_data"
    }
   ],
   "source": [
    "# Посмотрим на матрицу смежности\n",
    "cm = confusion_matrix(y_test, y_pred_3 > 0.5)\n",
    "tn, fn, fp, tp = cm[0][0], cm[1][0], cm[0][1], cm[1][1]\n",
    "plot_confusion_matrix(cm, classes=['0', '1'], model_name='LGBMClassifier');"
   ]
  },
  {
   "cell_type": "code",
   "execution_count": 111,
   "metadata": {
    "id": "QjkGO9fwIPKK"
   },
   "outputs": [],
   "source": [
    "# Функция расчета порога в зависимости от прибыли на условных единицах\n",
    "def choice_th(price_caller, price_service, nume):\n",
    "  threshold = np.linspace(0.1, 1.0, num=nume)\n",
    "  start = 0\n",
    "  profit_list = []\n",
    "  threshold_list = []\n",
    "    \n",
    "  for i in threshold:\n",
    "    cm = confusion_matrix(y_test, y_pred_3 > i)\n",
    "    tn, fn, fp, tp = cm[0][0], cm[1][0], cm[0][1], cm[1][1]\n",
    "    cost_call = (fp + tp)*price_caller\n",
    "    revenue = tp*price_service\n",
    "    lost = fn*price_service\n",
    "    profit = revenue-cost_call-lost\n",
    "    if profit > start:\n",
    "      start = profit\n",
    "      profit_list.append(start)\n",
    "      threshold_list.append(i)\n",
    "    \n",
    "  try:\n",
    "    print(f'Максимальная прибыль: {max(profit_list)}')\n",
    "    print(f'Порог: {threshold_list[profit_list.index(max(profit_list))]}')\n",
    "  except ValueError:\n",
    "    print('Вводные данные приводят к убытку.')\n",
    "  "
   ]
  },
  {
   "cell_type": "code",
   "execution_count": 118,
   "metadata": {
    "colab": {
     "base_uri": "https://localhost:8080/"
    },
    "id": "WG_JfRhpGM94",
    "outputId": "e0f161d2-8434-4e2a-ff0a-2a8a7f0cc60f"
   },
   "outputs": [
    {
     "name": "stdout",
     "output_type": "stream",
     "text": [
      "Затраты на обзвон: 35830 руб.\n",
      "Выручка: 65200 руб.\n",
      "Упущенная выгода: 150 руб.\n",
      "Прибыль: 29220 руб.\n",
      "\n",
      "Максимальная прибыль: 29220\n",
      "Порог: 0.6818181818181818\n"
     ]
    }
   ],
   "source": [
    "# Посчитаем выгоду на условных единицах\n",
    "price_caller = 2       # затраты на обзвон 1-го абонента\n",
    "price_service = 10     # стоимость подключаемой услуги\n",
    "\n",
    "cost_call = (fp + tp)*price_caller\n",
    "profit = tp*price_service\n",
    "lost = fn*price_service\n",
    "\n",
    "print(f'Затраты на обзвон: {cost_call} руб.')\n",
    "print(f'Выручка: {profit} руб.')\n",
    "print(f'Упущенная выгода: {lost} руб.')\n",
    "print(f'Прибыль: {profit-cost_call-lost} руб.')\n",
    "print()\n",
    "\n",
    "# Найдем оптимальный порог\n",
    "choice_th(2, 10, 100)"
   ]
  },
  {
   "cell_type": "code",
   "execution_count": 119,
   "metadata": {
    "colab": {
     "base_uri": "https://localhost:8080/",
     "height": 349
    },
    "id": "SB5DS6iD5e7Y",
    "outputId": "cd4072d6-6e86-4c59-8618-bb413b13ee77"
   },
   "outputs": [
    {
     "name": "stdout",
     "output_type": "stream",
     "text": [
      "Confusion matrix, without normalization\n",
      "[[71734 11395]\n",
      " [   15  6520]]\n"
     ]
    },
    {
     "data": {
      "image/png": "[encoded data removed]",
      "text/plain": [
       "<Figure size 432x288 with 1 Axes>"
      ]
     },
     "metadata": {
      "needs_background": "light"
     },
     "output_type": "display_data"
    }
   ],
   "source": [
    "# Посмотрим на матрицу смежности с новым порогом\n",
    "cm = confusion_matrix(y_test, y_pred_3 > 0.68)\n",
    "tn, fn, fp, tp = cm[0][0], cm[1][0], cm[0][1], cm[1][1]\n",
    "plot_confusion_matrix(cm, classes=['0', '1'], model_name='LGBMClassifier');\n",
    "plt.savefig('confusion_matrix.png', transparent=True)"
   ]
  },
  {
   "cell_type": "markdown",
   "metadata": {
    "id": "yG3H5Vq3ZASf"
   },
   "source": [
    "### **Сохранение модели**"
   ]
  },
  {
   "cell_type": "code",
   "execution_count": null,
   "metadata": {
    "colab": {
     "base_uri": "https://localhost:8080/"
    },
    "id": "9VdJwYhbYJx3",
    "outputId": "9130bff8-2c0a-48f0-c04c-610fdb9bc868"
   },
   "outputs": [
    {
     "data": {
      "text/plain": [
       "Pipeline(steps=[('pipeline',\n",
       "                 Pipeline(steps=[('columnselector',\n",
       "                                  ColumnSelector(columns=['134', '168', '44',\n",
       "                                                          '238', '1', '116',\n",
       "                                                          '80', '193', '150',\n",
       "                                                          '7', '84', '222',\n",
       "                                                          '128', '94', '76',\n",
       "                                                          '59', '195', '78',\n",
       "                                                          '174', '133', '127',\n",
       "                                                          '39', '51', '207',\n",
       "                                                          '79', '6', '146',\n",
       "                                                          '63', '237', '245', ...])),\n",
       "                                 ('featureunion',\n",
       "                                  FeatureUnion(transformer_list=[('numeric_features',\n",
       "                                                                  Pipeline(steps=[('columnsel...\n",
       "                                                                 ('categorical_features',\n",
       "                                                                  Pipeline(steps=[('columnselector',\n",
       "                                                                                   ColumnSelector(columns=['vas_id'])),\n",
       "                                                                                  ('onehotencoder',\n",
       "                                                                                   OneHotEncoder(handle_unknown='ignore'))]))]))])),\n",
       "                ('selectfrommodel',\n",
       "                 SelectFromModel(estimator=LogisticRegression(random_state=42,\n",
       "                                                              solver='sag'),\n",
       "                                 threshold=0.01)),\n",
       "                ('lgbmclassifier',\n",
       "                 LGBMClassifier(is_unbalance=True, max_depth=10,\n",
       "                                random_state=42))])"
      ]
     },
     "execution_count": 28,
     "metadata": {},
     "output_type": "execute_result"
    }
   ],
   "source": [
    "lgbm_fs_pipe = make_pipeline(\n",
    "    f_prep_pipe,\n",
    "    SelectFromModel(LogisticRegression(penalty='l2', random_state=RANDOM_STATE, solver='sag'), threshold=1e-2),\n",
    "    lgb.LGBMClassifier(is_unbalance=True, max_depth=10, learning_rate=0.1, random_state=RANDOM_STATE)\n",
    ")\n",
    "\n",
    "lgbm_fs_pipe.fit(X_train, y_train)"
   ]
  },
  {
   "cell_type": "code",
   "execution_count": null,
   "metadata": {
    "id": "aOPsg9wAYJ3l"
   },
   "outputs": [],
   "source": [
    "lgbm_model = {\n",
    "    'date': '12.02.2022',\n",
    "    'ver': '1',\n",
    "    'model': lgbm_fs_pipe\n",
    "}"
   ]
  },
  {
   "cell_type": "code",
   "execution_count": null,
   "metadata": {
    "id": "B8hB21vRIPRo"
   },
   "outputs": [],
   "source": [
    "with open('lgbm_model.pickle', 'wb') as f:\n",
    "    pickle.dump(lgbm_model, f)"
   ]
  },
  {
   "cell_type": "code",
   "execution_count": null,
   "metadata": {
    "colab": {
     "base_uri": "https://localhost:8080/"
    },
    "id": "oEs5Ci0jIPVK",
    "outputId": "2d938e8e-5fa5-47a7-ca45-d10d013d4d3f"
   },
   "outputs": [
    {
     "name": "stdout",
     "output_type": "stream",
     "text": [
      "Pipeline(steps=[('pipeline',\n",
      "                 Pipeline(steps=[('columnselector',\n",
      "                                  ColumnSelector(columns=['134', '168', '44',\n",
      "                                                          '238', '1', '116',\n",
      "                                                          '80', '193', '150',\n",
      "                                                          '7', '84', '222',\n",
      "                                                          '128', '94', '76',\n",
      "                                                          '59', '195', '78',\n",
      "                                                          '174', '133', '127',\n",
      "                                                          '39', '51', '207',\n",
      "                                                          '79', '6', '146',\n",
      "                                                          '63', '237', '245', ...])),\n",
      "                                 ('featureunion',\n",
      "                                  FeatureUnion(transformer_list=[('numeric_features',\n",
      "                                                                  Pipeline(steps=[('columnsel...\n",
      "                                                                 ('categorical_features',\n",
      "                                                                  Pipeline(steps=[('columnselector',\n",
      "                                                                                   ColumnSelector(columns=['vas_id'])),\n",
      "                                                                                  ('onehotencoder',\n",
      "                                                                                   OneHotEncoder(handle_unknown='ignore'))]))]))])),\n",
      "                ('selectfrommodel',\n",
      "                 SelectFromModel(estimator=LogisticRegression(random_state=42,\n",
      "                                                              solver='sag'),\n",
      "                                 threshold=0.01)),\n",
      "                ('lgbmclassifier',\n",
      "                 LGBMClassifier(is_unbalance=True, max_depth=10,\n",
      "                                random_state=42))])\n"
     ]
    }
   ],
   "source": [
    "with open('lgbm_model.pickle', 'rb') as f:\n",
    "    lgbm_model_new = pickle.load(f)\n",
    "\n",
    "print(lgbm_model_new['model'])"
   ]
  },
  {
   "cell_type": "markdown",
   "metadata": {
    "id": "d_9A9KMti58F"
   },
   "source": [
    "### **Проверка**"
   ]
  },
  {
   "cell_type": "code",
   "execution_count": null,
   "metadata": {
    "id": "gF3I5LbN5faV"
   },
   "outputs": [],
   "source": [
    "valid_data = pd.read_csv('id_merge_test.csv')"
   ]
  },
  {
   "cell_type": "code",
   "execution_count": null,
   "metadata": {
    "colab": {
     "base_uri": "https://localhost:8080/",
     "height": 206
    },
    "id": "ypkLOqxodI-E",
    "outputId": "a887e440-15d9-459d-839f-1dff48054efd"
   },
   "outputs": [
    {
     "data": {
      "text/html": [
       "<div>\n",
       "<style scoped>\n",
       "    .dataframe tbody tr th:only-of-type {\n",
       "        vertical-align: middle;\n",
       "    }\n",
       "\n",
       "    .dataframe tbody tr th {\n",
       "        vertical-align: top;\n",
       "    }\n",
       "\n",
       "    .dataframe thead th {\n",
       "        text-align: right;\n",
       "    }\n",
       "</style>\n",
       "<table border=\"1\" class=\"dataframe\">\n",
       "  <thead>\n",
       "    <tr style=\"text-align: right;\">\n",
       "      <th></th>\n",
       "      <th>id</th>\n",
       "      <th>vas_id</th>\n",
       "      <th>buy_time</th>\n",
       "      <th>0</th>\n",
       "      <th>1</th>\n",
       "      <th>2</th>\n",
       "      <th>3</th>\n",
       "      <th>4</th>\n",
       "      <th>5</th>\n",
       "      <th>6</th>\n",
       "      <th>...</th>\n",
       "      <th>243</th>\n",
       "      <th>244</th>\n",
       "      <th>245</th>\n",
       "      <th>246</th>\n",
       "      <th>247</th>\n",
       "      <th>248</th>\n",
       "      <th>249</th>\n",
       "      <th>250</th>\n",
       "      <th>251</th>\n",
       "      <th>252</th>\n",
       "    </tr>\n",
       "  </thead>\n",
       "  <tbody>\n",
       "    <tr>\n",
       "      <th>0</th>\n",
       "      <td>2905850</td>\n",
       "      <td>5.0</td>\n",
       "      <td>1546808400</td>\n",
       "      <td>326.930029</td>\n",
       "      <td>227.410888</td>\n",
       "      <td>312.989214</td>\n",
       "      <td>200.223202</td>\n",
       "      <td>307.571754</td>\n",
       "      <td>179.11821</td>\n",
       "      <td>-16.08618</td>\n",
       "      <td>...</td>\n",
       "      <td>-464.373846</td>\n",
       "      <td>-104.770792</td>\n",
       "      <td>-25.996269</td>\n",
       "      <td>-18.630448</td>\n",
       "      <td>-209.747724</td>\n",
       "      <td>-15.832889</td>\n",
       "      <td>-0.694428</td>\n",
       "      <td>-2.175933</td>\n",
       "      <td>-0.45614</td>\n",
       "      <td>0.0</td>\n",
       "    </tr>\n",
       "    <tr>\n",
       "      <th>1</th>\n",
       "      <td>31619</td>\n",
       "      <td>2.0</td>\n",
       "      <td>1546808400</td>\n",
       "      <td>-96.799971</td>\n",
       "      <td>100.290888</td>\n",
       "      <td>-62.040786</td>\n",
       "      <td>250.953202</td>\n",
       "      <td>-67.458246</td>\n",
       "      <td>229.84821</td>\n",
       "      <td>-16.08618</td>\n",
       "      <td>...</td>\n",
       "      <td>-977.373846</td>\n",
       "      <td>-613.770792</td>\n",
       "      <td>-25.996269</td>\n",
       "      <td>-37.630448</td>\n",
       "      <td>-306.747724</td>\n",
       "      <td>-25.832889</td>\n",
       "      <td>-0.694428</td>\n",
       "      <td>-12.175933</td>\n",
       "      <td>-0.45614</td>\n",
       "      <td>0.0</td>\n",
       "    </tr>\n",
       "    <tr>\n",
       "      <th>2</th>\n",
       "      <td>1427271</td>\n",
       "      <td>6.0</td>\n",
       "      <td>1546808400</td>\n",
       "      <td>-87.299971</td>\n",
       "      <td>-368.999112</td>\n",
       "      <td>339.439214</td>\n",
       "      <td>48.733202</td>\n",
       "      <td>334.021754</td>\n",
       "      <td>27.62821</td>\n",
       "      <td>-16.08618</td>\n",
       "      <td>...</td>\n",
       "      <td>928.626154</td>\n",
       "      <td>-548.770792</td>\n",
       "      <td>0.003731</td>\n",
       "      <td>-37.630448</td>\n",
       "      <td>116.252276</td>\n",
       "      <td>25.167111</td>\n",
       "      <td>-0.694428</td>\n",
       "      <td>38.824067</td>\n",
       "      <td>-0.45614</td>\n",
       "      <td>0.0</td>\n",
       "    </tr>\n",
       "    <tr>\n",
       "      <th>3</th>\n",
       "      <td>2162521</td>\n",
       "      <td>6.0</td>\n",
       "      <td>1546808400</td>\n",
       "      <td>-96.799971</td>\n",
       "      <td>-20.459112</td>\n",
       "      <td>-110.740786</td>\n",
       "      <td>-34.936798</td>\n",
       "      <td>-116.158246</td>\n",
       "      <td>-56.04179</td>\n",
       "      <td>-16.08618</td>\n",
       "      <td>...</td>\n",
       "      <td>-977.373846</td>\n",
       "      <td>-613.770792</td>\n",
       "      <td>-25.996269</td>\n",
       "      <td>-37.630448</td>\n",
       "      <td>-298.747724</td>\n",
       "      <td>-24.832889</td>\n",
       "      <td>-0.694428</td>\n",
       "      <td>-11.175933</td>\n",
       "      <td>-0.45614</td>\n",
       "      <td>0.0</td>\n",
       "    </tr>\n",
       "    <tr>\n",
       "      <th>4</th>\n",
       "      <td>1529304</td>\n",
       "      <td>6.0</td>\n",
       "      <td>1546808400</td>\n",
       "      <td>-96.799971</td>\n",
       "      <td>-394.439112</td>\n",
       "      <td>-110.740786</td>\n",
       "      <td>-447.046798</td>\n",
       "      <td>-116.158246</td>\n",
       "      <td>-468.15179</td>\n",
       "      <td>-16.08618</td>\n",
       "      <td>...</td>\n",
       "      <td>-977.373846</td>\n",
       "      <td>-613.770792</td>\n",
       "      <td>-25.996269</td>\n",
       "      <td>-37.630448</td>\n",
       "      <td>-306.747724</td>\n",
       "      <td>-25.832889</td>\n",
       "      <td>-0.694428</td>\n",
       "      <td>-12.175933</td>\n",
       "      <td>-0.45614</td>\n",
       "      <td>1.0</td>\n",
       "    </tr>\n",
       "  </tbody>\n",
       "</table>\n",
       "<p>5 rows × 256 columns</p>\n",
       "</div>"
      ],
      "text/plain": [
       "        id  vas_id    buy_time           0           1           2  \\\n",
       "0  2905850     5.0  1546808400  326.930029  227.410888  312.989214   \n",
       "1    31619     2.0  1546808400  -96.799971  100.290888  -62.040786   \n",
       "2  1427271     6.0  1546808400  -87.299971 -368.999112  339.439214   \n",
       "3  2162521     6.0  1546808400  -96.799971  -20.459112 -110.740786   \n",
       "4  1529304     6.0  1546808400  -96.799971 -394.439112 -110.740786   \n",
       "\n",
       "            3           4          5         6  ...         243         244  \\\n",
       "0  200.223202  307.571754  179.11821 -16.08618  ... -464.373846 -104.770792   \n",
       "1  250.953202  -67.458246  229.84821 -16.08618  ... -977.373846 -613.770792   \n",
       "2   48.733202  334.021754   27.62821 -16.08618  ...  928.626154 -548.770792   \n",
       "3  -34.936798 -116.158246  -56.04179 -16.08618  ... -977.373846 -613.770792   \n",
       "4 -447.046798 -116.158246 -468.15179 -16.08618  ... -977.373846 -613.770792   \n",
       "\n",
       "         245        246         247        248       249        250      251  \\\n",
       "0 -25.996269 -18.630448 -209.747724 -15.832889 -0.694428  -2.175933 -0.45614   \n",
       "1 -25.996269 -37.630448 -306.747724 -25.832889 -0.694428 -12.175933 -0.45614   \n",
       "2   0.003731 -37.630448  116.252276  25.167111 -0.694428  38.824067 -0.45614   \n",
       "3 -25.996269 -37.630448 -298.747724 -24.832889 -0.694428 -11.175933 -0.45614   \n",
       "4 -25.996269 -37.630448 -306.747724 -25.832889 -0.694428 -12.175933 -0.45614   \n",
       "\n",
       "   252  \n",
       "0  0.0  \n",
       "1  0.0  \n",
       "2  0.0  \n",
       "3  0.0  \n",
       "4  1.0  \n",
       "\n",
       "[5 rows x 256 columns]"
      ]
     },
     "execution_count": 33,
     "metadata": {},
     "output_type": "execute_result"
    }
   ],
   "source": [
    "valid_data.head()"
   ]
  },
  {
   "cell_type": "code",
   "execution_count": null,
   "metadata": {
    "id": "_m3hNtxFdJBQ"
   },
   "outputs": [],
   "source": [
    "y_pred_test = lgbm_model_new['model'].predict_proba(valid_data)[:,1]"
   ]
  },
  {
   "cell_type": "code",
   "execution_count": null,
   "metadata": {
    "id": "6gPEGrbQi58I",
    "outputId": "eddedb10-bcf0-471a-bfdd-0ecdbd73eb8d"
   },
   "outputs": [
    {
     "data": {
      "text/plain": [
       "array([8.10915635e-04, 1.62769212e-03, 8.89022251e-01, ...,\n",
       "       8.81851642e-01, 1.47167241e-03, 1.40756101e-03])"
      ]
     },
     "execution_count": 35,
     "metadata": {},
     "output_type": "execute_result"
    }
   ],
   "source": [
    "y_pred_test"
   ]
  },
  {
   "cell_type": "code",
   "execution_count": null,
   "metadata": {
    "id": "6TGDf52IhY5A"
   },
   "outputs": [],
   "source": []
  }
 ],
 "metadata": {
  "colab": {
   "collapsed_sections": [
    "OGKbrV6AAPnM"
   ],
   "name": "Course_project_MGF.ipynb",
   "provenance": []
  },
  "kernelspec": {
   "display_name": "Python 3 (ipykernel)",
   "language": "python",
   "name": "python3"
  },
  "language_info": {
   "codemirror_mode": {
    "name": "ipython",
    "version": 3
   },
   "file_extension": ".py",
   "mimetype": "text/x-python",
   "name": "python",
   "nbconvert_exporter": "python",
   "pygments_lexer": "ipython3",
   "version": "3.8.8"
  }
 },
 "nbformat": 4,
 "nbformat_minor": 1
}
